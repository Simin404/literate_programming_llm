{
 "cells": [
  {
   "cell_type": "code",
   "execution_count": null,
   "metadata": {},
   "outputs": [
    {
     "name": "stderr",
     "output_type": "stream",
     "text": [
      "/home/simin/.local/lib/python3.10/site-packages/tqdm/auto.py:21: TqdmWarning: IProgress not found. Please update jupyter and ipywidgets. See https://ipywidgets.readthedocs.io/en/stable/user_install.html\n",
      "  from .autonotebook import tqdm as notebook_tqdm\n"
     ]
    },
    {
     "name": "stdout",
     "output_type": "stream",
     "text": [
      "device: cuda\n"
     ]
    }
   ],
   "source": [
    "import pandas as pd\n",
    "import pickle\n",
    "from src.utils import *\n",
    "from src.embedding_analyzer import EmbeddingAnalyzer\n",
    "from src.embedding_description import get_embeddings_from_description\n",
    "import warnings\n",
    "\n",
    "warnings.simplefilter(action='ignore', category=FutureWarning)\n",
    "warnings.simplefilter(action='ignore', category=UserWarning)\n",
    "\n",
    "device = getting_device()\n",
    "  \n",
    "train_df =pd.read_csv('data/train_24892.csv')\n",
    "test_df = pd.read_csv('data/test_13786.csv')\n",
    "desc_df = pd.read_csv('data/test_532.csv')\n",
    "\n",
    "\n",
    "model_names = ['bert', 'gpt', 'roberta', 'falcon7b', 'falcon11b', 'falcon40b', 'llama7b', 'llama8b', 'llama13b',  'llama70b', 'embedding_ada', 'embedding_small', 'embedding_large']\n",
    "classifier_names = ['KNN', 'SVM', 'CNN']\n",
    "goals = ['lang', 'task', 'desc']\n",
    "# r_dic = {model: {classifier: {goal: None for goal in goals} for classifier in classifier_names} for model in model_names}"
   ]
  },
  {
   "cell_type": "code",
   "execution_count": 2,
   "metadata": {},
   "outputs": [
    {
     "name": "stdout",
     "output_type": "stream",
     "text": [
      "Model: llama70b; Classifier: KNN\n",
      "--------------------------------------------------------\n"
     ]
    }
   ],
   "source": [
    "\n",
    "r_dic = {model: {classifier: {goal: None for goal in goals} for classifier in classifier_names} for model in model_names}\n",
    "for c in classifier_names:\n",
    "    for m in model_names:\n",
    "        if r_dic[m][c][goals[0]] is None:\n",
    "            print('Model: {}; Classifier: {}'.format(m, c))\n",
    "            analyzer = EmbeddingAnalyzer(model_name = m , classifier = c)\n",
    "            r_dic[m][c][goals[0]], r_dic[m][c][goals[1]], r_dic[m][c][goals[2]] = analyzer.analyze(train_df, test_df, desc_df)\n",
    "            print('--------------------------------------------------------')\n",
    "        else:\n",
    "            pass"
   ]
  },
  {
   "cell_type": "markdown",
   "metadata": {},
   "source": [
    "## KNN"
   ]
  },
  {
   "cell_type": "code",
   "execution_count": 4,
   "metadata": {},
   "outputs": [
    {
     "name": "stdout",
     "output_type": "stream",
     "text": [
      "Model: bert; Classifier: KNN\n",
      "Language: Best Parameters -> {'n_neighbors': np.int64(4)}\n",
      "Task: Best Parameters -> {'n_neighbors': np.int64(4)}\n",
      "Final Accuracy -> Language: 0.4617, Task: 0.3155, Desc: 0.0658\n",
      "--------------------------------------------------------\n",
      "Model: gpt; Classifier: KNN\n",
      "Language: Best Parameters -> {'n_neighbors': np.int64(4)}\n",
      "Task: Best Parameters -> {'n_neighbors': np.int64(2)}\n",
      "Final Accuracy -> Language: 0.2075, Task: 0.0766, Desc: 0.0075\n",
      "--------------------------------------------------------\n",
      "Model: roberta; Classifier: KNN\n",
      "Language: Best Parameters -> {'n_neighbors': np.int64(4)}\n",
      "Task: Best Parameters -> {'n_neighbors': np.int64(2)}\n",
      "Final Accuracy -> Language: 0.4346, Task: 0.2491, Desc: 0.0357\n",
      "--------------------------------------------------------\n",
      "Model: falcon7b; Classifier: KNN\n",
      "Language: Best Parameters -> {'n_neighbors': np.int64(4)}\n",
      "Task: Best Parameters -> {'n_neighbors': np.int64(2)}\n",
      "Final Accuracy -> Language: 0.5800, Task: 0.2531, Desc: 0.0414\n",
      "--------------------------------------------------------\n",
      "Model: falcon11b; Classifier: KNN\n",
      "Language: Best Parameters -> {'n_neighbors': np.int64(4)}\n",
      "Task: Best Parameters -> {'n_neighbors': np.int64(2)}\n",
      "Final Accuracy -> Language: 0.3674, Task: 0.1732, Desc: 0.0019\n",
      "--------------------------------------------------------\n",
      "Model: falcon40b; Classifier: KNN\n",
      "Language: Best Parameters -> {'n_neighbors': np.int64(4)}\n",
      "Task: Best Parameters -> {'n_neighbors': np.int64(2)}\n",
      "Final Accuracy -> Language: 0.6561, Task: 0.3034, Desc: 0.0414\n",
      "--------------------------------------------------------\n",
      "Model: llama7b; Classifier: KNN\n",
      "Language: Best Parameters -> {'n_neighbors': np.int64(4)}\n",
      "Task: Best Parameters -> {'n_neighbors': np.int64(4)}\n",
      "Final Accuracy -> Language: 0.6675, Task: 0.2846, Desc: 0.0789\n",
      "--------------------------------------------------------\n",
      "Model: llama8b; Classifier: KNN\n",
      "Language: Best Parameters -> {'n_neighbors': np.int64(4)}\n",
      "Task: Best Parameters -> {'n_neighbors': np.int64(4)}\n",
      "Final Accuracy -> Language: 0.7382, Task: 0.3371, Desc: 0.1523\n",
      "--------------------------------------------------------\n",
      "Model: llama13b; Classifier: KNN\n",
      "Language: Best Parameters -> {'n_neighbors': np.int64(4)}\n",
      "Task: Best Parameters -> {'n_neighbors': np.int64(4)}\n",
      "Final Accuracy -> Language: 0.7164, Task: 0.3311, Desc: 0.1071\n",
      "--------------------------------------------------------\n",
      "Model: llama70b; Classifier: KNN\n",
      "Language: Best Parameters -> {'n_neighbors': np.int64(4)}\n",
      "Task: Best Parameters -> {'n_neighbors': np.int64(4)}\n",
      "Final Accuracy -> Language: 0.7507, Task: 0.3081, Desc: 0.0695\n",
      "--------------------------------------------------------\n",
      "Model: embedding_ada; Classifier: KNN\n",
      "Nan removed\n",
      "Language: Best Parameters -> {'n_neighbors': np.int64(4)}\n",
      "Task: Best Parameters -> {'n_neighbors': np.int64(4)}\n",
      "Final Accuracy -> Language: 0.5620, Task: 0.6984, Desc: 0.8778\n",
      "--------------------------------------------------------\n",
      "Model: embedding_small; Classifier: KNN\n",
      "Language: Best Parameters -> {'n_neighbors': np.int64(4)}\n",
      "Task: Best Parameters -> {'n_neighbors': np.int64(4)}\n",
      "Final Accuracy -> Language: 0.4881, Task: 0.7022, Desc: 0.8177\n",
      "--------------------------------------------------------\n",
      "Model: embedding_large; Classifier: KNN\n",
      "Language: Best Parameters -> {'n_neighbors': np.int64(4)}\n",
      "Task: Best Parameters -> {'n_neighbors': np.int64(4)}\n",
      "Final Accuracy -> Language: 0.5283, Task: 0.7605, Desc: 0.9380\n",
      "--------------------------------------------------------\n"
     ]
    }
   ],
   "source": [
    "c = 'KNN'\n",
    "for m in model_names:\n",
    "    print('Model: {}; Classifier: {}'.format(m, c))\n",
    "    analyzer = EmbeddingAnalyzer(model_name = m , classifier = c)\n",
    "    r_dic[m][c][goals[0]], r_dic[m][c][goals[1]], r_dic[m][c][goals[2]] = analyzer.analyze(train_df, test_df, desc_df)\n",
    "    with open(\"data/result_llm.pkl\", \"wb\") as file: \n",
    "        pickle.dump(r_dic, file)\n",
    "    print('--------------------------------------------------------')\n"
   ]
  },
  {
   "cell_type": "markdown",
   "metadata": {},
   "source": [
    "## SVM"
   ]
  },
  {
   "cell_type": "code",
   "execution_count": 5,
   "metadata": {},
   "outputs": [
    {
     "name": "stdout",
     "output_type": "stream",
     "text": [
      "Model: bert; Classifier: SVM\n",
      "Language: Best Parameters -> {'C': 10, 'degree': 2, 'kernel': 'poly'}\n",
      "Task: Best Parameters -> {'C': 10, 'degree': 3, 'kernel': 'poly'}\n",
      "Final Accuracy -> Language: 0.7007, Task: 0.5617, Desc: 0.1805\n",
      "--------------------------------------------------------\n",
      "Model: gpt; Classifier: SVM\n",
      "Language: Best Parameters -> {'C': 10, 'degree': 4, 'kernel': 'poly'}\n",
      "Task: Best Parameters -> {'C': 10, 'degree': 4, 'kernel': 'poly'}\n",
      "Final Accuracy -> Language: 0.3255, Task: 0.0806, Desc: 0.0150\n",
      "--------------------------------------------------------\n",
      "Model: roberta; Classifier: SVM\n",
      "Language: Best Parameters -> {'C': 10, 'degree': 4, 'kernel': 'poly'}\n",
      "Task: Best Parameters -> {'C': 10, 'degree': 4, 'kernel': 'poly'}\n",
      "Final Accuracy -> Language: 0.6784, Task: 0.3973, Desc: 0.0921\n",
      "--------------------------------------------------------\n",
      "Model: falcon7b; Classifier: SVM\n",
      "Language: Best Parameters -> {'C': 10, 'degree': 4, 'kernel': 'poly'}\n",
      "Task: Best Parameters -> {'C': 10, 'degree': 4, 'kernel': 'poly'}\n",
      "Final Accuracy -> Language: 0.5776, Task: 0.1500, Desc: 0.0526\n",
      "--------------------------------------------------------\n",
      "Model: falcon11b; Classifier: SVM\n",
      "Language: Best Parameters -> {'C': 10, 'degree': 4, 'kernel': 'poly'}\n",
      "Task: Best Parameters -> {'C': 10, 'degree': 4, 'kernel': 'poly'}\n",
      "Final Accuracy -> Language: 0.6003, Task: 0.2294, Desc: 0.0019\n",
      "--------------------------------------------------------\n",
      "Model: falcon40b; Classifier: SVM\n",
      "Language: Best Parameters -> {'C': 10, 'degree': 4, 'kernel': 'poly'}\n",
      "Task: Best Parameters -> {'C': 10, 'degree': 4, 'kernel': 'poly'}\n",
      "Final Accuracy -> Language: 0.7520, Task: 0.5646, Desc: 0.1767\n",
      "--------------------------------------------------------\n",
      "Model: llama7b; Classifier: SVM\n",
      "Language: Best Parameters -> {'C': 10, 'degree': 2, 'kernel': 'poly'}\n",
      "Task: Best Parameters -> {'C': 10, 'degree': 2, 'kernel': 'poly'}\n",
      "Final Accuracy -> Language: 0.8213, Task: 0.6887, Desc: 0.2688\n",
      "--------------------------------------------------------\n",
      "Model: llama8b; Classifier: SVM\n"
     ]
    }
   ],
   "source": [
    "c = 'SVM'\n",
    "for m in model_names:\n",
    "    if r_dic[m][c][goals[0]] is None:\n",
    "        print('Model: {}; Classifier: {}'.format(m, c))\n",
    "        analyzer = EmbeddingAnalyzer(model_name = m , classifier = c)\n",
    "        r_dic[m][c][goals[0]], r_dic[m][c][goals[1]], r_dic[m][c][goals[2]] = analyzer.analyze(train_df, test_df, desc_df)\n",
    "        with open(\"data/result_llm.pkl\", \"wb\") as file: \n",
    "            pickle.dump(r_dic, file)\n",
    "        print('--------------------------------------------------------')\n",
    "    else:\n",
    "        print('Pass as already caculated!')\n",
    "        pass"
   ]
  },
  {
   "cell_type": "markdown",
   "metadata": {},
   "source": [
    "## CNN"
   ]
  },
  {
   "cell_type": "code",
   "execution_count": null,
   "metadata": {},
   "outputs": [],
   "source": [
    "c = 'CNN'\n",
    "for m in model_names:\n",
    "    if r_dic[m][c][goals[0]] is None:\n",
    "        print('Model: {}; Classifier: {}'.format(m, c))\n",
    "        analyzer = EmbeddingAnalyzer(model_name = m , classifier = c)\n",
    "        r_dic[m][c][goals[0]], r_dic[m][c][goals[1]], r_dic[m][c][goals[2]] = analyzer.analyze(train_df, test_df, desc_df)\n",
    "        with open(\"data/result_llm.pkl\", \"wb\") as file: \n",
    "            pickle.dump(r_dic, file)\n",
    "        print('--------------------------------------------------------')\n",
    "    else:\n",
    "        print('Pass as already caculated!')\n",
    "        pass"
   ]
  }
 ],
 "metadata": {
  "kernelspec": {
   "display_name": "code",
   "language": "python",
   "name": "python3"
  },
  "language_info": {
   "codemirror_mode": {
    "name": "ipython",
    "version": 3
   },
   "file_extension": ".py",
   "mimetype": "text/x-python",
   "name": "python",
   "nbconvert_exporter": "python",
   "pygments_lexer": "ipython3",
   "version": "3.10.6"
  }
 },
 "nbformat": 4,
 "nbformat_minor": 2
}
