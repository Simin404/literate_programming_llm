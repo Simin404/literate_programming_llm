{
 "cells": [
  {
   "cell_type": "code",
   "execution_count": 3,
   "metadata": {},
   "outputs": [
    {
     "name": "stdout",
     "output_type": "stream",
     "text": [
      "device: cuda\n"
     ]
    }
   ],
   "source": [
    "import pandas as pd\n",
    "import pickle\n",
    "from src.utils import *\n",
    "from src.embedding_analyzer import EmbeddingAnalyzer\n",
    "from src.embedding_description import get_embeddings_from_description\n",
    "import warnings\n",
    "\n",
    "warnings.simplefilter(action='ignore', category=FutureWarning)\n",
    "warnings.simplefilter(action='ignore', category=UserWarning)\n",
    "\n",
    "device = getting_device()\n",
    "  \n",
    "train_df =pd.read_csv('data/train_24892.csv')\n",
    "test_df = pd.read_csv('data/test_13786.csv')\n",
    "desc_df = pd.read_csv('data/test_532.csv')\n",
    "\n",
    "# model_names = ['bert', 'gpt', 'roberta', 'falcon7b', 'falcon11b', 'falcon40b', 'llama7b', 'llama8b', 'llama13b', 'llama70b', 'embedding_ada', 'embedding_small', 'embedding_large']\n",
    "classifier_names = ['SVM']\n",
    "goals = ['lang', 'task', 'desc']\n",
    "# r_dic = {model: {classifier: {goal: None for goal in goals} for classifier in classifier_names} for model in model_names}"
   ]
  },
  {
   "cell_type": "code",
   "execution_count": 4,
   "metadata": {},
   "outputs": [
    {
     "name": "stdout",
     "output_type": "stream",
     "text": [
      "Model: embedding_ada; Classifier: SVM\n"
     ]
    },
    {
     "name": "stderr",
     "output_type": "stream",
     "text": [
      "/home/simin/.local/lib/python3.10/site-packages/numpy/ma/core.py:2881: RuntimeWarning: invalid value encountered in cast\n",
      "  _data = np.array(data, dtype=dtype, copy=copy,\n"
     ]
    },
    {
     "name": "stdout",
     "output_type": "stream",
     "text": [
      "--------------------------------------------------------\n"
     ]
    }
   ],
   "source": [
    "\n",
    "model_names = ['embedding_ada']\n",
    "r_dic = {model: {classifier: {goal: None for goal in goals} for classifier in classifier_names} for model in model_names}\n",
    "for c in classifier_names:\n",
    "    for m in model_names:\n",
    "        if r_dic[m][c][goals[0]] is None:\n",
    "            print('Model: {}; Classifier: {}'.format(m, c))\n",
    "            analyzer = EmbeddingAnalyzer(model_name = m , classifier = c)\n",
    "            r_dic[m][c][goals[0]], r_dic[m][c][goals[1]], r_dic[m][c][goals[2]] = analyzer.analyze(train_df, test_df, desc_df)\n",
    "            print('--------------------------------------------------------')\n",
    "        else:\n",
    "            pass"
   ]
  },
  {
   "cell_type": "markdown",
   "metadata": {},
   "source": [
    "# KNN"
   ]
  },
  {
   "cell_type": "code",
   "execution_count": 5,
   "metadata": {},
   "outputs": [
    {
     "name": "stdout",
     "output_type": "stream",
     "text": [
      "Model: codebert; Classifier: KNN\n",
      "Language: Best Parameters -> {'n_neighbors': np.int64(4)}\n",
      "Task: Best Parameters -> {'n_neighbors': np.int64(2)}\n",
      "Final Accuracy -> Language: 0.4507, Task: 0.2022, Desc: 0.0226\n",
      "--------------------------------------------------------\n",
      "Model: codegpt; Classifier: KNN\n",
      "Language: Best Parameters -> {'n_neighbors': np.int64(4)}\n",
      "Task: Best Parameters -> {'n_neighbors': np.int64(4)}\n",
      "Final Accuracy -> Language: 0.5582, Task: 0.3208, Desc: 0.0489\n",
      "--------------------------------------------------------\n",
      "Model: code7b; Classifier: KNN\n",
      "Language: Best Parameters -> {'n_neighbors': np.int64(4)}\n",
      "Task: Best Parameters -> {'n_neighbors': np.int64(4)}\n",
      "Final Accuracy -> Language: 0.7186, Task: 0.3306, Desc: 0.0808\n",
      "--------------------------------------------------------\n",
      "Model: code13b; Classifier: KNN\n",
      "Language: Best Parameters -> {'n_neighbors': np.int64(4)}\n",
      "Task: Best Parameters -> {'n_neighbors': np.int64(4)}\n",
      "Final Accuracy -> Language: 0.7288, Task: 0.3353, Desc: 0.0808\n",
      "--------------------------------------------------------\n",
      "Model: code34b; Classifier: KNN\n",
      "Language: Best Parameters -> {'n_neighbors': np.int64(4)}\n",
      "Task: Best Parameters -> {'n_neighbors': np.int64(4)}\n",
      "Final Accuracy -> Language: 0.7325, Task: 0.3221, Desc: 0.0508\n",
      "--------------------------------------------------------\n",
      "Model: code70b; Classifier: KNN\n",
      "Language: Best Parameters -> {'n_neighbors': np.int64(4)}\n",
      "Task: Best Parameters -> {'n_neighbors': np.int64(4)}\n",
      "Final Accuracy -> Language: 0.7114, Task: 0.2923, Desc: 0.0414\n",
      "--------------------------------------------------------\n"
     ]
    }
   ],
   "source": [
    "# with open(\"data/result_llm4code.pkl\", \"rb\") as file:\n",
    "#     r_dic = pickle.load(file)\n",
    "c = 'KNN'\n",
    "for m in model_names:\n",
    "    print('Model: {}; Classifier: {}'.format(m, c))\n",
    "    analyzer = EmbeddingAnalyzer(model_name = m , classifier = c)\n",
    "    r_dic[m][c][goals[0]], r_dic[m][c][goals[1]], r_dic[m][c][goals[2]] = analyzer.analyze(train_df, test_df, desc_df)\n",
    "    with open(\"data/result_llm4code.pkl\", \"wb\") as file: \n",
    "        pickle.dump(r_dic, file)\n",
    "    print('--------------------------------------------------------')"
   ]
  },
  {
   "cell_type": "markdown",
   "metadata": {},
   "source": [
    "## SVM"
   ]
  },
  {
   "cell_type": "code",
   "execution_count": 6,
   "metadata": {},
   "outputs": [
    {
     "name": "stdout",
     "output_type": "stream",
     "text": [
      "Model: codebert; Classifier: SVM\n",
      "Language: Best Parameters -> {'C': 10, 'degree': 4, 'kernel': 'poly'}\n",
      "Task: Best Parameters -> {'C': 10, 'degree': 4, 'kernel': 'poly'}\n",
      "Final Accuracy -> Language: 0.6663, Task: 0.3190, Desc: 0.0620\n",
      "--------------------------------------------------------\n",
      "Model: codegpt; Classifier: SVM\n",
      "Language: Best Parameters -> {'C': 10, 'degree': 2, 'kernel': 'poly'}\n",
      "Task: Best Parameters -> {'C': 10, 'degree': 2, 'kernel': 'poly'}\n",
      "Final Accuracy -> Language: 0.7801, Task: 0.6373, Desc: 0.1504\n",
      "--------------------------------------------------------\n",
      "Model: code7b; Classifier: SVM\n",
      "Language: Best Parameters -> {'C': 10, 'degree': 2, 'kernel': 'poly'}\n",
      "Task: Best Parameters -> {'C': 10, 'degree': 2, 'kernel': 'poly'}\n",
      "Final Accuracy -> Language: 0.8530, Task: 0.7413, Desc: 0.3515\n",
      "--------------------------------------------------------\n",
      "Model: code13b; Classifier: SVM\n",
      "Language: Best Parameters -> {'C': 10, 'degree': 2, 'kernel': 'poly'}\n",
      "Task: Best Parameters -> {'C': 10, 'degree': 2, 'kernel': 'poly'}\n",
      "Final Accuracy -> Language: 0.8567, Task: 0.7463, Desc: 0.4173\n",
      "--------------------------------------------------------\n",
      "Model: code34b; Classifier: SVM\n",
      "Language: Best Parameters -> {'C': 10, 'degree': 2, 'kernel': 'poly'}\n",
      "Task: Best Parameters -> {'C': 10, 'degree': 2, 'kernel': 'poly'}\n",
      "Final Accuracy -> Language: 0.8623, Task: 0.7419, Desc: 0.2650\n",
      "--------------------------------------------------------\n",
      "Model: code70b; Classifier: SVM\n",
      "Language: Best Parameters -> {'C': 10, 'degree': 2, 'kernel': 'poly'}\n"
     ]
    }
   ],
   "source": [
    "c = 'SVM'\n",
    "for m in model_names:\n",
    "    if r_dic[m][c][goals[0]] is None:\n",
    "        print('Model: {}; Classifier: {}'.format(m, c))\n",
    "        analyzer = EmbeddingAnalyzer(model_name = m , classifier = c)\n",
    "        r_dic[m][c][goals[0]], r_dic[m][c][goals[1]], r_dic[m][c][goals[2]] = analyzer.analyze(train_df, test_df, desc_df)\n",
    "        with open(\"data/result_llm4code.pkl\", \"wb\") as file: \n",
    "            pickle.dump(r_dic, file)\n",
    "        print('--------------------------------------------------------')\n",
    "    else:\n",
    "        print('Pass as already caculated!')\n",
    "        pass"
   ]
  },
  {
   "cell_type": "markdown",
   "metadata": {},
   "source": [
    "## CNN"
   ]
  },
  {
   "cell_type": "code",
   "execution_count": null,
   "metadata": {},
   "outputs": [],
   "source": [
    "c = 'CNN'\n",
    "for m in model_names:\n",
    "    if r_dic[m][c][goals[0]] is None:\n",
    "        print('Model: {}; Classifier: {}'.format(m, c))\n",
    "        analyzer = EmbeddingAnalyzer(model_name = m , classifier = c)\n",
    "        r_dic[m][c][goals[0]], r_dic[m][c][goals[1]], r_dic[m][c][goals[2]] = analyzer.analyze(train_df, test_df, desc_df)\n",
    "        with open(\"data/result_llm4code.pkl\", \"wb\") as file: \n",
    "            pickle.dump(r_dic, file)\n",
    "        print('--------------------------------------------------------')\n",
    "    else:\n",
    "        print('Pass as already caculated!')"
   ]
  },
  {
   "cell_type": "code",
   "execution_count": null,
   "metadata": {},
   "outputs": [],
   "source": []
  }
 ],
 "metadata": {
  "kernelspec": {
   "display_name": "code",
   "language": "python",
   "name": "python3"
  },
  "language_info": {
   "codemirror_mode": {
    "name": "ipython",
    "version": 3
   },
   "file_extension": ".py",
   "mimetype": "text/x-python",
   "name": "python",
   "nbconvert_exporter": "python",
   "pygments_lexer": "ipython3",
   "version": "3.10.6"
  }
 },
 "nbformat": 4,
 "nbformat_minor": 2
}
