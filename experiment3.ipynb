{
 "cells": [
  {
   "cell_type": "code",
   "execution_count": 1,
   "metadata": {},
   "outputs": [],
   "source": [
    "import sys\n",
    "import os\n",
    "from pathlib import Path\n",
    "\n",
    "sys.path.append(sys.path[0] + '/src')"
   ]
  },
  {
   "cell_type": "code",
   "execution_count": 2,
   "metadata": {},
   "outputs": [],
   "source": [
    "import utils\n",
    "import pandas as pd\n",
    "from prediction import analyze_data, plot_count, count_data, plot_multi_count, part_task_analysis"
   ]
  },
  {
   "cell_type": "code",
   "execution_count": 3,
   "metadata": {},
   "outputs": [
    {
     "name": "stdout",
     "output_type": "stream",
     "text": [
      "device: cuda\n",
      "(24892, 4) (13786, 4)\n"
     ]
    }
   ],
   "source": [
    "device = utils.getting_device()\n",
    "\n",
    "train_df =pd.read_csv('data/train_24892.csv')\n",
    "test_df = pd.read_csv('data/test_13786.csv')\n",
    "print(train_df.shape, test_df.shape)"
   ]
  },
  {
   "cell_type": "markdown",
   "metadata": {},
   "source": [
    "## Base: CodeBERT, CodeGPT"
   ]
  },
  {
   "cell_type": "code",
   "execution_count": 7,
   "metadata": {},
   "outputs": [
    {
     "name": "stdout",
     "output_type": "stream",
     "text": [
      "Time elapsed: 0.38 seconds, Data predicted: 1\n",
      "Time elapsed: 184.25 seconds, Data predicted: 5001\n",
      "Time elapsed: 186.29 seconds, Data predicted: 10001\n",
      "Accuracy of Programming Language prediction: 57.26%\n",
      "Accuracy of Programming Task prediction: 19.97%\n"
     ]
    }
   ],
   "source": [
    "model = 'codegpt'\n",
    "train_file = 'out/'+model+'_24892.pt'\n",
    "test_file = 'out/'+model+'_13786.pt'\n",
    "codegpt_dic_lang, codegpt_dic_task = analyze_data(model, train_df, test_df, device, train_path = train_file, test_path = test_file, mode = 'two_label')"
   ]
  },
  {
   "cell_type": "code",
   "execution_count": 8,
   "metadata": {},
   "outputs": [
    {
     "name": "stdout",
     "output_type": "stream",
     "text": [
      "Time elapsed: 0.42 seconds, Data predicted: 1\n",
      "Time elapsed: 186.13 seconds, Data predicted: 5001\n",
      "Time elapsed: 183.54 seconds, Data predicted: 10001\n",
      "Accuracy of Programming Language prediction: 46.79%\n",
      "Accuracy of Programming Task prediction: 11.63%\n"
     ]
    }
   ],
   "source": [
    "model = 'codebert'\n",
    "train_file = 'out/'+model+'_24892.pt'\n",
    "test_file = 'out/'+model+'_13786.pt'\n",
    "codebert_dic_lang, codebert_dic_task = analyze_data(model, train_df, test_df, device, train_path = train_file, test_path = test_file, mode = 'two_label')"
   ]
  },
  {
   "cell_type": "markdown",
   "metadata": {},
   "source": [
    "## CodeBERT Six Programming Languages"
   ]
  },
  {
   "cell_type": "code",
   "execution_count": 42,
   "metadata": {
    "scrolled": true
   },
   "outputs": [
    {
     "name": "stdout",
     "output_type": "stream",
     "text": [
      "Time elapsed: 0.06 seconds, Data predicted: 0\n",
      "Accuracy of Programming Language prediction: 84.81%\n",
      "Accuracy of Programming Task prediction: 19.02%\n"
     ]
    }
   ],
   "source": [
    "from prediction import predict_two, caculate_acc, part_lang_analysis, part_task_analysis\n",
    "\n",
    "languages = ['Go','Java','JavaScript','PHP','Python','Ruby']\n",
    "model = 'bert'\n",
    "train_file = 'out/'+model+'_24892.pt'\n",
    "test_file = 'out/'+model+'_13786.pt'\n",
    "\n",
    "part_lang_analysis(languages, train_df, test_df, train_file, test_file)\n"
   ]
  },
  {
   "cell_type": "markdown",
   "metadata": {},
   "source": [
    "## CodeGPT six Programming Languages"
   ]
  },
  {
   "cell_type": "code",
   "execution_count": 43,
   "metadata": {},
   "outputs": [
    {
     "name": "stdout",
     "output_type": "stream",
     "text": [
      "Time elapsed: 0.07 seconds, Data predicted: 0\n",
      "Accuracy of Programming Language prediction: 77.93%\n",
      "Accuracy of Programming Task prediction: 8.34%\n"
     ]
    }
   ],
   "source": [
    "languages = ['Go','Java','C++','Kotlin','Python','Julia']\n",
    "model = 'gpt'\n",
    "train_file = 'out/'+model+'_24892.pt'\n",
    "test_file = 'out/'+model+'_13786.pt'\n",
    "\n",
    "part_lang_analysis(languages, train_df, test_df, train_file, test_file)\n"
   ]
  }
 ],
 "metadata": {
  "kernelspec": {
   "display_name": "Python 3 (ipykernel)",
   "language": "python",
   "name": "python3"
  },
  "language_info": {
   "codemirror_mode": {
    "name": "ipython",
    "version": 3
   },
   "file_extension": ".py",
   "mimetype": "text/x-python",
   "name": "python",
   "nbconvert_exporter": "python",
   "pygments_lexer": "ipython3",
   "version": "3.8.10"
  }
 },
 "nbformat": 4,
 "nbformat_minor": 4
}
