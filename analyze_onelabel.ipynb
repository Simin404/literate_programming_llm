{
 "cells": [
  {
   "cell_type": "code",
   "execution_count": 1,
   "metadata": {},
   "outputs": [],
   "source": [
    "import utils\n",
    "import pandas as pd\n",
    "from prediction import analyze_data"
   ]
  },
  {
   "cell_type": "code",
   "execution_count": 2,
   "metadata": {},
   "outputs": [
    {
     "name": "stdout",
     "output_type": "stream",
     "text": [
      "device: cuda\n",
      "(30303, 4) (17669, 4)\n"
     ]
    }
   ],
   "source": [
    "device = utils.getting_device()\n",
    "\n",
    "train_df =pd.read_csv('data/train_30303.csv')\n",
    "test_df = pd.read_csv('data/test_17669.csv')\n",
    "print(train_df.shape, test_df.shape)"
   ]
  },
  {
   "cell_type": "markdown",
   "metadata": {},
   "source": [
    "## Base: BERT, GPT, CodeBERT, RoBERTa"
   ]
  },
  {
   "cell_type": "code",
   "execution_count": 3,
   "metadata": {},
   "outputs": [
    {
     "name": "stdout",
     "output_type": "stream",
     "text": [
      "Original train count: 30303, test count: 17669.\n",
      "After mapping: train count: 30303, test count: 17669.\n",
      "Time elapsed: 0.79 seconds, Data predicted:0\n",
      "Time elapsed: 392.49 seconds, Data predicted:5000\n",
      "Time elapsed: 402.40 seconds, Data predicted:10000\n",
      "Time elapsed: 392.64 seconds, Data predicted:15000\n",
      "Accuracy of combined labels prediction: 10.63%\n",
      "Total Number: 17669\n",
      "All right: 1879\n",
      "Language correct: 6605\n",
      "Task correct: 724\n"
     ]
    }
   ],
   "source": [
    "model = 'bert'\n",
    "train_file = 'out/'+model+'_30303.pt'\n",
    "test_file = 'out/'+model+'_17669.pt'\n",
    "analyze_data(model, train_df, test_df, device, train_path = train_file, test_path = test_file, mode = 'one_label')"
   ]
  },
  {
   "cell_type": "code",
   "execution_count": 4,
   "metadata": {},
   "outputs": [
    {
     "name": "stdout",
     "output_type": "stream",
     "text": [
      "Original train count: 30303, test count: 17669.\n",
      "After mapping: train count: 30303, test count: 17669.\n",
      "Time elapsed: 0.85 seconds, Data predicted:0\n",
      "Time elapsed: 380.67 seconds, Data predicted:5000\n",
      "Time elapsed: 385.39 seconds, Data predicted:10000\n",
      "Time elapsed: 391.04 seconds, Data predicted:15000\n",
      "Accuracy of combined labels prediction: 4.70%\n",
      "Total Number: 17669\n",
      "All right: 831\n",
      "Language correct: 5474\n",
      "Task correct: 261\n"
     ]
    }
   ],
   "source": [
    "model = 'gpt'\n",
    "train_file = 'out/'+model+'_30303.pt'\n",
    "test_file = 'out/'+model+'_17669.pt'\n",
    "analyze_data(model, train_df, test_df, device, train_path = train_file, test_path = test_file, mode = 'one_label')"
   ]
  },
  {
   "cell_type": "code",
   "execution_count": 5,
   "metadata": {},
   "outputs": [
    {
     "name": "stdout",
     "output_type": "stream",
     "text": [
      "Original train count: 30303, test count: 17669.\n",
      "After mapping: train count: 30303, test count: 17669.\n",
      "Time elapsed: 0.70 seconds, Data predicted:0\n",
      "Time elapsed: 385.10 seconds, Data predicted:5000\n",
      "Time elapsed: 388.75 seconds, Data predicted:10000\n",
      "Time elapsed: 388.21 seconds, Data predicted:15000\n",
      "Accuracy of combined labels prediction: 12.24%\n",
      "Total Number: 17669\n",
      "All right: 2163\n",
      "Language correct: 7804\n",
      "Task correct: 682\n"
     ]
    }
   ],
   "source": [
    "model = 'codegpt'\n",
    "train_file = 'out/'+model+'_30303.pt'\n",
    "test_file = 'out/'+model+'_17669.pt'\n",
    "analyze_data(model, train_df, test_df, device, train_path = train_file, test_path = test_file, mode = 'one_label')"
   ]
  },
  {
   "cell_type": "code",
   "execution_count": 6,
   "metadata": {
    "scrolled": true
   },
   "outputs": [
    {
     "name": "stdout",
     "output_type": "stream",
     "text": [
      "Original train count: 30303, test count: 17669.\n",
      "After mapping: train count: 30303, test count: 17669.\n",
      "Time elapsed: 0.74 seconds, Data predicted:0\n",
      "Time elapsed: 384.40 seconds, Data predicted:5000\n",
      "Time elapsed: 378.45 seconds, Data predicted:10000\n",
      "Time elapsed: 381.34 seconds, Data predicted:15000\n",
      "Accuracy of combined labels prediction: 7.81%\n",
      "Total Number: 17669\n",
      "All right: 1380\n",
      "Language correct: 7013\n",
      "Task correct: 346\n"
     ]
    }
   ],
   "source": [
    "model = 'codebert'\n",
    "train_file = 'out/'+model+'_30303.pt'\n",
    "test_file = 'out/'+model+'_17669.pt'\n",
    "analyze_data(model, train_df, test_df, device, train_path = train_file, test_path = test_file, mode = 'one_label')"
   ]
  },
  {
   "cell_type": "code",
   "execution_count": 7,
   "metadata": {
    "scrolled": true
   },
   "outputs": [
    {
     "name": "stdout",
     "output_type": "stream",
     "text": [
      "Original train count: 30303, test count: 17669.\n",
      "After mapping: train count: 30303, test count: 17669.\n",
      "Time elapsed: 0.76 seconds, Data predicted:0\n",
      "Time elapsed: 396.36 seconds, Data predicted:5000\n",
      "Time elapsed: 398.87 seconds, Data predicted:10000\n",
      "Time elapsed: 421.06 seconds, Data predicted:15000\n",
      "Accuracy of combined labels prediction: 9.40%\n",
      "Total Number: 17669\n",
      "All right: 1661\n",
      "Language correct: 6738\n",
      "Task correct: 485\n"
     ]
    }
   ],
   "source": [
    "model = 'roberta'\n",
    "train_file = 'out/'+model+'_30303.pt'\n",
    "test_file = 'out/'+model+'_17669.pt'\n",
    "analyze_data(model, train_df, test_df, device, train_path = train_file, test_path = test_file, mode = 'one_label')"
   ]
  },
  {
   "cell_type": "markdown",
   "metadata": {},
   "source": [
    "## Training"
   ]
  },
  {
   "cell_type": "code",
   "execution_count": 8,
   "metadata": {
    "scrolled": true
   },
   "outputs": [
    {
     "name": "stdout",
     "output_type": "stream",
     "text": [
      "Original train count: 30303, test count: 17669.\n",
      "After mapping: train count: 30303, test count: 17669.\n",
      "Time elapsed: 0.85 seconds, Data predicted:0\n",
      "Time elapsed: 396.78 seconds, Data predicted:5000\n",
      "Time elapsed: 395.34 seconds, Data predicted:10000\n",
      "Time elapsed: 399.97 seconds, Data predicted:15000\n",
      "Accuracy of combined labels prediction: 13.72%\n",
      "Total Number: 17669\n",
      "All right: 2424\n",
      "Language correct: 7446\n",
      "Task correct: 1490\n"
     ]
    }
   ],
   "source": [
    "model = 'epoch4_roberta'\n",
    "train_file = 'out/'+model+'_30303.pt'\n",
    "test_file = 'out/'+model+'_17669.pt'\n",
    "analyze_data(model, train_df, test_df, device, train_path = train_file, test_path = test_file, mode = 'one_label')"
   ]
  },
  {
   "cell_type": "code",
   "execution_count": 9,
   "metadata": {
    "scrolled": true
   },
   "outputs": [
    {
     "name": "stdout",
     "output_type": "stream",
     "text": [
      "Original train count: 30303, test count: 17669.\n",
      "After mapping: train count: 30303, test count: 17669.\n",
      "Time elapsed: 0.79 seconds, Data predicted:0\n",
      "Time elapsed: 388.21 seconds, Data predicted:5000\n",
      "Time elapsed: 383.65 seconds, Data predicted:10000\n",
      "Time elapsed: 395.84 seconds, Data predicted:15000\n",
      "Accuracy of combined labels prediction: 13.65%\n",
      "Total Number: 17669\n",
      "All right: 2412\n",
      "Language correct: 7742\n",
      "Task correct: 1305\n"
     ]
    }
   ],
   "source": [
    "model = 'epoch1_codebert'\n",
    "train_file = 'out/'+model+'_30303.pt'\n",
    "test_file = 'out/'+model+'_17669.pt'\n",
    "analyze_data(model, train_df, test_df, device, train_path = train_file, test_path = test_file, mode = 'one_label')"
   ]
  },
  {
   "cell_type": "code",
   "execution_count": 10,
   "metadata": {},
   "outputs": [
    {
     "name": "stdout",
     "output_type": "stream",
     "text": [
      "Original train count: 30303, test count: 17669.\n",
      "After mapping: train count: 30303, test count: 17669.\n",
      "Time elapsed: 0.71 seconds, Data predicted:0\n",
      "Time elapsed: 387.34 seconds, Data predicted:5000\n",
      "Time elapsed: 401.03 seconds, Data predicted:10000\n",
      "Time elapsed: 391.12 seconds, Data predicted:15000\n",
      "Accuracy of combined labels prediction: 12.99%\n",
      "Total Number: 17669\n",
      "All right: 2296\n",
      "Language correct: 7868\n",
      "Task correct: 1225\n"
     ]
    }
   ],
   "source": [
    "model = 'epoch2_codebert'\n",
    "train_file = 'out/'+model+'_30303.pt'\n",
    "test_file = 'out/'+model+'_17669.pt'\n",
    "analyze_data(model, train_df, test_df, device, train_path = train_file, test_path = test_file, mode = 'one_label')"
   ]
  },
  {
   "cell_type": "code",
   "execution_count": 11,
   "metadata": {},
   "outputs": [
    {
     "name": "stdout",
     "output_type": "stream",
     "text": [
      "Original train count: 30303, test count: 17669.\n",
      "After mapping: train count: 30303, test count: 17669.\n",
      "Time elapsed: 0.86 seconds, Data predicted:0\n",
      "Time elapsed: 387.06 seconds, Data predicted:5000\n",
      "Time elapsed: 405.20 seconds, Data predicted:10000\n",
      "Time elapsed: 407.09 seconds, Data predicted:15000\n",
      "Accuracy of combined labels prediction: 13.62%\n",
      "Total Number: 17669\n",
      "All right: 2406\n",
      "Language correct: 8099\n",
      "Task correct: 1226\n"
     ]
    }
   ],
   "source": [
    "model = 'epoch3_codebert'\n",
    "train_file = 'out/'+model+'_30303.pt'\n",
    "test_file = 'out/'+model+'_17669.pt'\n",
    "analyze_data(model, train_df, test_df, device, train_path = train_file, test_path = test_file, mode = 'one_label')"
   ]
  },
  {
   "cell_type": "code",
   "execution_count": 12,
   "metadata": {},
   "outputs": [
    {
     "name": "stdout",
     "output_type": "stream",
     "text": [
      "Original train count: 30303, test count: 17669.\n",
      "After mapping: train count: 30303, test count: 17669.\n",
      "Time elapsed: 0.83 seconds, Data predicted:0\n",
      "Time elapsed: 408.49 seconds, Data predicted:5000\n",
      "Time elapsed: 447.91 seconds, Data predicted:10000\n",
      "Time elapsed: 434.25 seconds, Data predicted:15000\n",
      "Accuracy of combined labels prediction: 13.97%\n",
      "Total Number: 17669\n",
      "All right: 2469\n",
      "Language correct: 8157\n",
      "Task correct: 1272\n"
     ]
    }
   ],
   "source": [
    "model = 'epoch4_codebert'\n",
    "train_file = 'out/'+model+'_30303.pt'\n",
    "test_file = 'out/'+model+'_17669.pt'\n",
    "analyze_data(model, train_df, test_df, device, train_path = train_file, test_path = test_file, mode = 'one_label')"
   ]
  },
  {
   "cell_type": "code",
   "execution_count": 13,
   "metadata": {},
   "outputs": [
    {
     "name": "stdout",
     "output_type": "stream",
     "text": [
      "Original train count: 30303, test count: 17669.\n",
      "After mapping: train count: 30303, test count: 17669.\n",
      "Time elapsed: 0.85 seconds, Data predicted:0\n",
      "Time elapsed: 401.49 seconds, Data predicted:5000\n",
      "Time elapsed: 391.97 seconds, Data predicted:10000\n",
      "Time elapsed: 409.33 seconds, Data predicted:15000\n",
      "Accuracy of combined labels prediction: 14.39%\n",
      "Total Number: 17669\n",
      "All right: 2543\n",
      "Language correct: 8001\n",
      "Task correct: 1412\n"
     ]
    }
   ],
   "source": [
    "model = 'epoch5_codebert'\n",
    "train_file = 'out/'+model+'_30303.pt'\n",
    "test_file = 'out/'+model+'_17669.pt'\n",
    "analyze_data(model, train_df, test_df, device, train_path = train_file, test_path = test_file, mode = 'one_label')"
   ]
  },
  {
   "cell_type": "code",
   "execution_count": null,
   "metadata": {},
   "outputs": [],
   "source": []
  }
 ],
 "metadata": {
  "kernelspec": {
   "display_name": "Python 3 (ipykernel)",
   "language": "python",
   "name": "python3"
  },
  "language_info": {
   "codemirror_mode": {
    "name": "ipython",
    "version": 3
   },
   "file_extension": ".py",
   "mimetype": "text/x-python",
   "name": "python",
   "nbconvert_exporter": "python",
   "pygments_lexer": "ipython3",
   "version": "3.8.10"
  }
 },
 "nbformat": 4,
 "nbformat_minor": 4
}
