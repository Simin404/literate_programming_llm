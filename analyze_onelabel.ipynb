{
 "cells": [
  {
   "cell_type": "code",
   "execution_count": 3,
   "metadata": {},
   "outputs": [],
   "source": [
    "import sys\n",
    "import os\n",
    "from pathlib import Path\n",
    "\n",
    "sys.path.append(sys.path[0] + '/src')\n",
    "\n",
    "import utils\n",
    "import pandas as pd\n",
    "from prediction import analyze_data"
   ]
  },
  {
   "cell_type": "code",
   "execution_count": 4,
   "metadata": {},
   "outputs": [
    {
     "name": "stdout",
     "output_type": "stream",
     "text": [
      "device: cuda\n",
      "(24892, 4) (13786, 4)\n"
     ]
    }
   ],
   "source": [
    "device = utils.getting_device()\n",
    "\n",
    "train_df =pd.read_csv('data/train_24892.csv')\n",
    "test_df = pd.read_csv('data/test_13786.csv')\n",
    "print(train_df.shape, test_df.shape)"
   ]
  },
  {
   "cell_type": "markdown",
   "metadata": {},
   "source": [
    "## Base: BERT, GPT, CodeBERT, RoBERTa"
   ]
  },
  {
   "cell_type": "code",
   "execution_count": 5,
   "metadata": {},
   "outputs": [
    {
     "name": "stdout",
     "output_type": "stream",
     "text": [
      "Original train count: 24892, test count: 13786.\n",
      "After mapping: train count: 24892, test count: 13786.\n",
      "Time elapsed: 0.83 seconds, Data predicted:0\n",
      "Time elapsed: 413.94 seconds, Data predicted:5000\n",
      "Time elapsed: 398.19 seconds, Data predicted:10000\n",
      "Accuracy of combined labels prediction: 12.49%\n",
      "Total Number: 13786\n",
      "All right: 1722\n",
      "Language correct: 4670\n",
      "Task correct: 785\n"
     ]
    }
   ],
   "source": [
    "model = 'bert'\n",
    "train_file = 'out/'+model+'_24892.pt'\n",
    "test_file = 'out/'+model+'_13786.pt'\n",
    "analyze_data(model, train_df, test_df, device, train_path = train_file, test_path = test_file, mode = 'one_label')"
   ]
  },
  {
   "cell_type": "code",
   "execution_count": 6,
   "metadata": {},
   "outputs": [
    {
     "name": "stdout",
     "output_type": "stream",
     "text": [
      "Original train count: 24892, test count: 13786.\n",
      "After mapping: train count: 24892, test count: 13786.\n",
      "Time elapsed: 0.71 seconds, Data predicted:0\n",
      "Time elapsed: 365.04 seconds, Data predicted:5000\n",
      "Time elapsed: 357.14 seconds, Data predicted:10000\n",
      "Accuracy of combined labels prediction: 4.98%\n",
      "Total Number: 13786\n",
      "All right: 687\n",
      "Language correct: 3609\n",
      "Task correct: 277\n"
     ]
    }
   ],
   "source": [
    "model = 'gpt'\n",
    "train_file = 'out/'+model+'_24892.pt'\n",
    "test_file = 'out/'+model+'_13786.pt'\n",
    "analyze_data(model, train_df, test_df, device, train_path = train_file, test_path = test_file, mode = 'one_label')"
   ]
  },
  {
   "cell_type": "code",
   "execution_count": 7,
   "metadata": {},
   "outputs": [
    {
     "name": "stdout",
     "output_type": "stream",
     "text": [
      "Original train count: 24892, test count: 13786.\n",
      "After mapping: train count: 24892, test count: 13786.\n",
      "Time elapsed: 0.69 seconds, Data predicted:0\n",
      "Time elapsed: 353.35 seconds, Data predicted:5000\n",
      "Time elapsed: 392.96 seconds, Data predicted:10000\n",
      "Accuracy of combined labels prediction: 13.23%\n",
      "Total Number: 13786\n",
      "All right: 1824\n",
      "Language correct: 5436\n",
      "Task correct: 710\n"
     ]
    }
   ],
   "source": [
    "model = 'codegpt'\n",
    "train_file = 'out/'+model+'_24892.pt'\n",
    "test_file = 'out/'+model+'_13786.pt'\n",
    "analyze_data(model, train_df, test_df, device, train_path = train_file, test_path = test_file, mode = 'one_label')"
   ]
  },
  {
   "cell_type": "code",
   "execution_count": 8,
   "metadata": {
    "scrolled": true
   },
   "outputs": [
    {
     "name": "stdout",
     "output_type": "stream",
     "text": [
      "Original train count: 24892, test count: 13786.\n",
      "After mapping: train count: 24892, test count: 13786.\n",
      "Time elapsed: 0.80 seconds, Data predicted:0\n",
      "Time elapsed: 412.87 seconds, Data predicted:5000\n",
      "Time elapsed: 300.35 seconds, Data predicted:10000\n",
      "Accuracy of combined labels prediction: 8.60%\n",
      "Total Number: 13786\n",
      "All right: 1185\n",
      "Language correct: 4772\n",
      "Task correct: 335\n"
     ]
    }
   ],
   "source": [
    "model = 'codebert'\n",
    "train_file = 'out/'+model+'_24892.pt'\n",
    "test_file = 'out/'+model+'_13786.pt'\n",
    "analyze_data(model, train_df, test_df, device, train_path = train_file, test_path = test_file, mode = 'one_label')"
   ]
  },
  {
   "cell_type": "code",
   "execution_count": 9,
   "metadata": {
    "scrolled": true
   },
   "outputs": [
    {
     "name": "stdout",
     "output_type": "stream",
     "text": [
      "Original train count: 24892, test count: 13786.\n",
      "After mapping: train count: 24892, test count: 13786.\n",
      "Time elapsed: 0.72 seconds, Data predicted:0\n",
      "Time elapsed: 380.56 seconds, Data predicted:5000\n",
      "Time elapsed: 396.82 seconds, Data predicted:10000\n",
      "Accuracy of combined labels prediction: 9.97%\n",
      "Total Number: 13786\n",
      "All right: 1374\n",
      "Language correct: 4512\n",
      "Task correct: 510\n"
     ]
    }
   ],
   "source": [
    "model = 'roberta'\n",
    "train_file = 'out/'+model+'_24892.pt'\n",
    "test_file = 'out/'+model+'_13786.pt'\n",
    "analyze_data(model, train_df, test_df, device, train_path = train_file, test_path = test_file, mode = 'one_label')"
   ]
  }
 ],
 "metadata": {
  "kernelspec": {
   "display_name": "Python 3 (ipykernel)",
   "language": "python",
   "name": "python3"
  },
  "language_info": {
   "codemirror_mode": {
    "name": "ipython",
    "version": 3
   },
   "file_extension": ".py",
   "mimetype": "text/x-python",
   "name": "python",
   "nbconvert_exporter": "python",
   "pygments_lexer": "ipython3",
   "version": "3.8.10"
  }
 },
 "nbformat": 4,
 "nbformat_minor": 4
}
