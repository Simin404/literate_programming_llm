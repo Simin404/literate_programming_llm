{
 "cells": [
  {
   "cell_type": "code",
   "execution_count": 1,
   "metadata": {
    "colab": {
     "base_uri": "https://localhost:8080/"
    },
    "executionInfo": {
     "elapsed": 4221,
     "status": "ok",
     "timestamp": 1708167119526,
     "user": {
      "displayName": "Simin Sun",
      "userId": "04105675808800793231"
     },
     "user_tz": -60
    },
    "id": "I721MUnN3OIF",
    "outputId": "1e8647f8-be92-46b3-b886-4f0f16885636"
   },
   "outputs": [],
   "source": [
    "import torch\n",
    "from clustering import KNN\n",
    "import pandas as pd\n",
    "\n",
    "#load data from file\n",
    "train_df=pd.read_csv(\"data/train.csv\")\n",
    "test_df=pd.read_csv(\"data/test.csv\")\n",
    "\n",
    "## load the embeddings from saved file\n",
    "epoch4_roberta_train_emb = torch.load('out/epoch4_roberta_30379.pt', map_location=\"cpu\")\n",
    "epoch4_roberta_test_emb = torch.load('out/epoch4_roberta_17723.pt', map_location=\"cpu\")\n",
    "\n",
    "# gpt_train_emb = torch.load('out/gpt_30379.pt', map_location=\"cpu\")\n",
    "# gpt_test_emb = torch.load('out/gpt_17723.pt', map_location=\"cpu\")\n",
    "\n",
    "# bert_train_emb = torch.load('out/bert_30379.pt', map_location=\"cpu\")\n",
    "# bert_test_emb = torch.load('out/bert_17723.pt', map_location=\"cpu\")\n",
    "\n",
    "# codebert_train_emb = torch.load('out/codebert_30379.pt', map_location=\"cpu\")\n",
    "# codebert_test_emb = torch.load('out/codebert_17723.pt', map_location=\"cpu\")\n",
    "\n",
    "# roberta_train_emb = torch.load('out/roberta_30379.pt', map_location=\"cpu\")\n",
    "# roberta_test_emb = torch.load('out/roberta_17723.pt', map_location=\"cpu\")\n"
   ]
  },
  {
   "cell_type": "code",
   "execution_count": 11,
   "metadata": {},
   "outputs": [],
   "source": [
    "train_df[\"combine\"]=train_df[\"task\"]+\"@\"+train_df[\"language\"]\n",
    "test_df[\"combine\"]=test_df[\"task\"]+\"@\"+test_df[\"language\"]"
   ]
  },
  {
   "cell_type": "code",
   "execution_count": 12,
   "metadata": {},
   "outputs": [
    {
     "data": {
      "text/html": [
       "<div>\n",
       "<style scoped>\n",
       "    .dataframe tbody tr th:only-of-type {\n",
       "        vertical-align: middle;\n",
       "    }\n",
       "\n",
       "    .dataframe tbody tr th {\n",
       "        vertical-align: top;\n",
       "    }\n",
       "\n",
       "    .dataframe thead th {\n",
       "        text-align: right;\n",
       "    }\n",
       "</style>\n",
       "<table border=\"1\" class=\"dataframe\">\n",
       "  <thead>\n",
       "    <tr style=\"text-align: right;\">\n",
       "      <th></th>\n",
       "      <th>Unnamed: 0</th>\n",
       "      <th>task</th>\n",
       "      <th>language</th>\n",
       "      <th>code</th>\n",
       "      <th>combine</th>\n",
       "    </tr>\n",
       "  </thead>\n",
       "  <tbody>\n",
       "    <tr>\n",
       "      <th>0</th>\n",
       "      <td>1</td>\n",
       "      <td>Call-an-object-method</td>\n",
       "      <td>Ada</td>\n",
       "      <td>package body My_Class is\\n      procedure P...</td>\n",
       "      <td>Call-an-object-method@Ada</td>\n",
       "    </tr>\n",
       "    <tr>\n",
       "      <th>1</th>\n",
       "      <td>2</td>\n",
       "      <td>Call-an-object-method</td>\n",
       "      <td>Ada</td>\n",
       "      <td>package Other_Class is\\n      type Object i...</td>\n",
       "      <td>Call-an-object-method@Ada</td>\n",
       "    </tr>\n",
       "    <tr>\n",
       "      <th>2</th>\n",
       "      <td>3</td>\n",
       "      <td>Call-an-object-method</td>\n",
       "      <td>Ada</td>\n",
       "      <td>package My_Class is\\n      type Object is t...</td>\n",
       "      <td>Call-an-object-method@Ada</td>\n",
       "    </tr>\n",
       "    <tr>\n",
       "      <th>3</th>\n",
       "      <td>5</td>\n",
       "      <td>Call-an-object-method</td>\n",
       "      <td>Pike</td>\n",
       "      <td>module.func();\\nmodule[\"func\"]();\\n</td>\n",
       "      <td>Call-an-object-method@Pike</td>\n",
       "    </tr>\n",
       "    <tr>\n",
       "      <th>4</th>\n",
       "      <td>6</td>\n",
       "      <td>Call-an-object-method</td>\n",
       "      <td>Pike</td>\n",
       "      <td>function func = obj-&gt;method;\\nfunc();\\n</td>\n",
       "      <td>Call-an-object-method@Pike</td>\n",
       "    </tr>\n",
       "    <tr>\n",
       "      <th>5</th>\n",
       "      <td>19</td>\n",
       "      <td>Call-an-object-method</td>\n",
       "      <td>Go</td>\n",
       "      <td>procedure main()\\n\\n   bar := foo()  # create ...</td>\n",
       "      <td>Call-an-object-method@Go</td>\n",
       "    </tr>\n",
       "    <tr>\n",
       "      <th>6</th>\n",
       "      <td>20</td>\n",
       "      <td>Call-an-object-method</td>\n",
       "      <td>Go</td>\n",
       "      <td>package main\\n\\nimport \"box\"\\n\\nfunc main() {\\...</td>\n",
       "      <td>Call-an-object-method@Go</td>\n",
       "    </tr>\n",
       "    <tr>\n",
       "      <th>7</th>\n",
       "      <td>21</td>\n",
       "      <td>Call-an-object-method</td>\n",
       "      <td>Go</td>\n",
       "      <td>package box\\n\\nimport \"sync/atomic\"\\n\\nvar sn ...</td>\n",
       "      <td>Call-an-object-method@Go</td>\n",
       "    </tr>\n",
       "    <tr>\n",
       "      <th>8</th>\n",
       "      <td>30</td>\n",
       "      <td>Call-an-object-method</td>\n",
       "      <td>LFE</td>\n",
       "      <td>(defmodule aquarium\\n (export all))\\n\\n(defun ...</td>\n",
       "      <td>Call-an-object-method@LFE</td>\n",
       "    </tr>\n",
       "    <tr>\n",
       "      <th>9</th>\n",
       "      <td>31</td>\n",
       "      <td>Call-an-object-method</td>\n",
       "      <td>LFE</td>\n",
       "      <td>(defmodule object\\n (export all))\\n\\n(defun fi...</td>\n",
       "      <td>Call-an-object-method@LFE</td>\n",
       "    </tr>\n",
       "  </tbody>\n",
       "</table>\n",
       "</div>"
      ],
      "text/plain": [
       "   Unnamed: 0                   task language  \\\n",
       "0           1  Call-an-object-method      Ada   \n",
       "1           2  Call-an-object-method      Ada   \n",
       "2           3  Call-an-object-method      Ada   \n",
       "3           5  Call-an-object-method     Pike   \n",
       "4           6  Call-an-object-method     Pike   \n",
       "5          19  Call-an-object-method       Go   \n",
       "6          20  Call-an-object-method       Go   \n",
       "7          21  Call-an-object-method       Go   \n",
       "8          30  Call-an-object-method      LFE   \n",
       "9          31  Call-an-object-method      LFE   \n",
       "\n",
       "                                                code  \\\n",
       "0     package body My_Class is\\n      procedure P...   \n",
       "1     package Other_Class is\\n      type Object i...   \n",
       "2     package My_Class is\\n      type Object is t...   \n",
       "3                module.func();\\nmodule[\"func\"]();\\n   \n",
       "4            function func = obj->method;\\nfunc();\\n   \n",
       "5  procedure main()\\n\\n   bar := foo()  # create ...   \n",
       "6  package main\\n\\nimport \"box\"\\n\\nfunc main() {\\...   \n",
       "7  package box\\n\\nimport \"sync/atomic\"\\n\\nvar sn ...   \n",
       "8  (defmodule aquarium\\n (export all))\\n\\n(defun ...   \n",
       "9  (defmodule object\\n (export all))\\n\\n(defun fi...   \n",
       "\n",
       "                      combine  \n",
       "0   Call-an-object-method@Ada  \n",
       "1   Call-an-object-method@Ada  \n",
       "2   Call-an-object-method@Ada  \n",
       "3  Call-an-object-method@Pike  \n",
       "4  Call-an-object-method@Pike  \n",
       "5    Call-an-object-method@Go  \n",
       "6    Call-an-object-method@Go  \n",
       "7    Call-an-object-method@Go  \n",
       "8   Call-an-object-method@LFE  \n",
       "9   Call-an-object-method@LFE  "
      ]
     },
     "execution_count": 12,
     "metadata": {},
     "output_type": "execute_result"
    }
   ],
   "source": [
    "train_df.head(10)"
   ]
  },
  {
   "cell_type": "code",
   "execution_count": 26,
   "metadata": {},
   "outputs": [],
   "source": [
    "train_df=train_df.dropna()\n",
    "test_df=test_df.dropna()"
   ]
  },
  {
   "cell_type": "code",
   "execution_count": 27,
   "metadata": {},
   "outputs": [],
   "source": [
    "from sklearn.preprocessing import LabelEncoder"
   ]
  },
  {
   "cell_type": "code",
   "execution_count": 49,
   "metadata": {},
   "outputs": [],
   "source": [
    "train_label_lang = list(train_df['combine'])\n",
    "test_label_lang =list(test_df['combine']) \n",
    "all_label=train_label_lang + test_label_lang"
   ]
  },
  {
   "cell_type": "code",
   "execution_count": 50,
   "metadata": {},
   "outputs": [
    {
     "name": "stdout",
     "output_type": "stream",
     "text": [
      "30365 17715 48080\n"
     ]
    }
   ],
   "source": [
    "print(len(train_label_lang),len(test_label_lang),len(all_label))"
   ]
  },
  {
   "cell_type": "code",
   "execution_count": 51,
   "metadata": {},
   "outputs": [],
   "source": [
    "le = LabelEncoder()\n",
    "le=le.fit(all_label)\n"
   ]
  },
  {
   "cell_type": "code",
   "execution_count": 52,
   "metadata": {},
   "outputs": [],
   "source": [
    "train_label_encoding=le.transform(train_label_lang)\n",
    "test_label_encoding=le.transform(test_label_lang)"
   ]
  },
  {
   "cell_type": "code",
   "execution_count": 53,
   "metadata": {},
   "outputs": [],
   "source": [
    "train_y = torch.tensor(train_label_encoding)\n",
    "test_y = torch.tensor(test_label_encoding)"
   ]
  },
  {
   "cell_type": "code",
   "execution_count": null,
   "metadata": {},
   "outputs": [],
   "source": [
    "knn_epoch4_roberta_lang = KNN(epoch4_roberta_train_emb, train_y)\n",
    "knn_epoch4_roberta_task = KNN(epoch4_roberta_train_emb, train_y)"
   ]
  },
  {
   "cell_type": "code",
   "execution_count": 2,
   "metadata": {},
   "outputs": [
    {
     "name": "stdout",
     "output_type": "stream",
     "text": [
      "tensor([ 8,  8,  8,  ..., 18, 89, 60])\n",
      "30379 17723 30379 17723\n"
     ]
    }
   ],
   "source": [
    "train_label_lang = train_df['combine']\n",
    "test_label_lang = test_df['combine']\n",
    "lang_dict = dict(zip(test_label_lang.unique(), [i for i in range(len(test_label_lang.unique()))]))\n",
    "\n",
    "train_y_lang = train_label_lang.map(lang_dict)\n",
    "test_y_lang = test_label_lang.map(lang_dict)\n",
    "train_y_lang = torch.tensor(train_y_lang)\n",
    "test_y_lang = torch.tensor(test_y_lang)\n",
    "\n",
    "print(train_y_lang)\n",
    "print(len(train_df), len(test_df), len(train_y_lang), len(test_y_lang))"
   ]
  },
  {
   "cell_type": "code",
   "execution_count": 3,
   "metadata": {},
   "outputs": [
    {
     "name": "stdout",
     "output_type": "stream",
     "text": [
      "tensor([141, 141, 141,  ..., 741, 196, 196])\n",
      "30379 17723 30379 17723\n"
     ]
    }
   ],
   "source": [
    "train_label_task = train_df['task']\n",
    "test_label_task = test_df['task']\n",
    "task_dict = dict(zip(test_label_task.unique(), [i for i in range(len(test_label_task.unique()))]))\n",
    "\n",
    "\n",
    "train_y_task = train_label_task.map(task_dict)\n",
    "test_y_task = test_label_task.map(task_dict)\n",
    "train_y_task = torch.tensor(train_y_task)\n",
    "test_y_task = torch.tensor(test_y_task)\n",
    "\n",
    "print(train_y_task)\n",
    "print(len(train_df), len(test_df), len(train_y_task), len(test_y_task))"
   ]
  },
  {
   "cell_type": "code",
   "execution_count": 4,
   "metadata": {},
   "outputs": [],
   "source": [
    "knn_epoch4_roberta_lang = KNN(epoch4_roberta_train_emb, train_y_lang)\n",
    "knn_epoch4_roberta_task = KNN(epoch4_roberta_train_emb, train_y_task)\n",
    "\n",
    "# knn_gpt_lang = KNN(gpt_train_emb, train_y_lang)\n",
    "# knn_gpt_task = KNN(gpt_train_emb, train_y_task)\n",
    "\n",
    "# knn_bert_lang = KNN(bert_train_emb, train_y_lang)\n",
    "# knn_bert_task = KNN(bert_train_emb, train_y_task)\n",
    "\n",
    "# knn_codebert_lang = KNN(codebert_train_emb, train_y_lang)\n",
    "# knn_codebert_task = KNN(codebert_train_emb, train_y_task)\n",
    "\n",
    "# knn_roberta_lang = KNN(roberta_train_emb, train_y_lang)\n",
    "# knn_roberta_task = KNN(roberta_train_emb, train_y_task)"
   ]
  },
  {
   "cell_type": "code",
   "execution_count": 5,
   "metadata": {},
   "outputs": [],
   "source": [
    "from prediction import predict\n",
    "\n",
    "# import prediction\n",
    "# import importlib \n",
    "# importlib.reload(prediction)"
   ]
  },
  {
   "cell_type": "code",
   "execution_count": 6,
   "metadata": {},
   "outputs": [
    {
     "name": "stdout",
     "output_type": "stream",
     "text": [
      "Time elapsed: 0.15 seconds, Data predicted:0\n",
      "Time elapsed: 10.39 seconds, Data predicted:1000\n",
      "Time elapsed: 10.34 seconds, Data predicted:2000\n",
      "Time elapsed: 10.36 seconds, Data predicted:3000\n",
      "Time elapsed: 10.36 seconds, Data predicted:4000\n",
      "Time elapsed: 10.34 seconds, Data predicted:5000\n",
      "Time elapsed: 10.30 seconds, Data predicted:6000\n",
      "Time elapsed: 10.31 seconds, Data predicted:7000\n",
      "Time elapsed: 10.37 seconds, Data predicted:8000\n",
      "Time elapsed: 10.36 seconds, Data predicted:9000\n",
      "Time elapsed: 10.36 seconds, Data predicted:10000\n",
      "Time elapsed: 10.43 seconds, Data predicted:11000\n",
      "Time elapsed: 10.40 seconds, Data predicted:12000\n",
      "Time elapsed: 10.33 seconds, Data predicted:13000\n",
      "Time elapsed: 10.43 seconds, Data predicted:14000\n",
      "Time elapsed: 10.35 seconds, Data predicted:15000\n",
      "Time elapsed: 10.31 seconds, Data predicted:16000\n",
      "Time elapsed: 10.57 seconds, Data predicted:17000\n",
      "Accuracy of Language prediction:  1.34%\n",
      "Accuracy of Language prediction:  0.11%\n"
     ]
    }
   ],
   "source": [
    "predict(epoch4_roberta_test_emb, knn_epoch4_roberta_lang, knn_epoch4_roberta_task, test_y_lang, test_y_task) "
   ]
  },
  {
   "cell_type": "code",
   "execution_count": 8,
   "metadata": {},
   "outputs": [
    {
     "name": "stdout",
     "output_type": "stream",
     "text": [
      "Time elapsed: 0.25 seconds, Data predicted:0\n",
      "Time elapsed: 10.76 seconds, Data predicted:1000\n",
      "Time elapsed: 10.72 seconds, Data predicted:2000\n",
      "Time elapsed: 10.69 seconds, Data predicted:3000\n",
      "Time elapsed: 10.69 seconds, Data predicted:4000\n",
      "Time elapsed: 10.63 seconds, Data predicted:5000\n",
      "Time elapsed: 10.81 seconds, Data predicted:6000\n",
      "Time elapsed: 10.58 seconds, Data predicted:7000\n",
      "Time elapsed: 10.68 seconds, Data predicted:8000\n",
      "Time elapsed: 10.61 seconds, Data predicted:9000\n",
      "Time elapsed: 10.57 seconds, Data predicted:10000\n",
      "Time elapsed: 10.67 seconds, Data predicted:11000\n",
      "Time elapsed: 10.66 seconds, Data predicted:12000\n",
      "Time elapsed: 10.64 seconds, Data predicted:13000\n",
      "Time elapsed: 10.65 seconds, Data predicted:14000\n",
      "Time elapsed: 10.64 seconds, Data predicted:15000\n",
      "Time elapsed: 10.61 seconds, Data predicted:16000\n",
      "Time elapsed: 10.67 seconds, Data predicted:17000\n",
      "Accuracy of Language prediction:  39.07%\n",
      "Accuracy of Language prediction:  6.62%\n"
     ]
    }
   ],
   "source": [
    "predict(gpt_test_emb, knn_gpt_lang, knn_gpt_task, test_y_lang, test_y_task) "
   ]
  },
  {
   "cell_type": "code",
   "execution_count": 9,
   "metadata": {},
   "outputs": [
    {
     "name": "stdout",
     "output_type": "stream",
     "text": [
      "Time elapsed: 0.10 seconds, Data predicted:0\n",
      "Time elapsed: 10.55 seconds, Data predicted:1000\n",
      "Time elapsed: 10.59 seconds, Data predicted:2000\n",
      "Time elapsed: 10.67 seconds, Data predicted:3000\n",
      "Time elapsed: 10.56 seconds, Data predicted:4000\n",
      "Time elapsed: 11.17 seconds, Data predicted:5000\n",
      "Time elapsed: 10.69 seconds, Data predicted:6000\n",
      "Time elapsed: 10.97 seconds, Data predicted:7000\n",
      "Time elapsed: 11.13 seconds, Data predicted:8000\n",
      "Time elapsed: 11.19 seconds, Data predicted:9000\n",
      "Time elapsed: 10.98 seconds, Data predicted:10000\n",
      "Time elapsed: 10.91 seconds, Data predicted:11000\n",
      "Time elapsed: 10.56 seconds, Data predicted:12000\n",
      "Time elapsed: 10.60 seconds, Data predicted:13000\n",
      "Time elapsed: 10.54 seconds, Data predicted:14000\n",
      "Time elapsed: 10.57 seconds, Data predicted:15000\n",
      "Time elapsed: 10.55 seconds, Data predicted:16000\n",
      "Time elapsed: 12.39 seconds, Data predicted:17000\n",
      "Accuracy of Language prediction:  52.19%\n",
      "Accuracy of Language prediction:  16.59%\n"
     ]
    }
   ],
   "source": [
    "predict(bert_test_emb, knn_bert_lang, knn_bert_task, test_y_lang, test_y_task)"
   ]
  },
  {
   "cell_type": "code",
   "execution_count": 10,
   "metadata": {},
   "outputs": [
    {
     "name": "stdout",
     "output_type": "stream",
     "text": [
      "Time elapsed: 0.15 seconds, Data predicted:0\n",
      "Time elapsed: 11.59 seconds, Data predicted:1000\n",
      "Time elapsed: 11.49 seconds, Data predicted:2000\n",
      "Time elapsed: 11.57 seconds, Data predicted:3000\n",
      "Time elapsed: 11.73 seconds, Data predicted:4000\n",
      "Time elapsed: 11.60 seconds, Data predicted:5000\n",
      "Time elapsed: 11.70 seconds, Data predicted:6000\n",
      "Time elapsed: 11.75 seconds, Data predicted:7000\n",
      "Time elapsed: 11.41 seconds, Data predicted:8000\n",
      "Time elapsed: 11.58 seconds, Data predicted:9000\n",
      "Time elapsed: 12.03 seconds, Data predicted:10000\n",
      "Time elapsed: 11.46 seconds, Data predicted:11000\n",
      "Time elapsed: 10.83 seconds, Data predicted:12000\n",
      "Time elapsed: 10.42 seconds, Data predicted:13000\n",
      "Time elapsed: 10.33 seconds, Data predicted:14000\n",
      "Time elapsed: 10.31 seconds, Data predicted:15000\n",
      "Time elapsed: 10.33 seconds, Data predicted:16000\n",
      "Time elapsed: 10.25 seconds, Data predicted:17000\n",
      "Accuracy of Language prediction:  49.26%\n",
      "Accuracy of Language prediction:  10.02%\n"
     ]
    }
   ],
   "source": [
    "predict(codebert_test_emb, knn_codebert_lang, knn_codebert_task, test_y_lang, test_y_task)"
   ]
  },
  {
   "cell_type": "code",
   "execution_count": 11,
   "metadata": {},
   "outputs": [
    {
     "name": "stdout",
     "output_type": "stream",
     "text": [
      "Time elapsed: 0.12 seconds, Data predicted:0\n",
      "Time elapsed: 10.32 seconds, Data predicted:1000\n",
      "Time elapsed: 10.30 seconds, Data predicted:2000\n",
      "Time elapsed: 10.51 seconds, Data predicted:3000\n",
      "Time elapsed: 10.31 seconds, Data predicted:4000\n",
      "Time elapsed: 10.35 seconds, Data predicted:5000\n",
      "Time elapsed: 10.43 seconds, Data predicted:6000\n",
      "Time elapsed: 10.23 seconds, Data predicted:7000\n",
      "Time elapsed: 10.33 seconds, Data predicted:8000\n",
      "Time elapsed: 10.39 seconds, Data predicted:9000\n",
      "Time elapsed: 10.15 seconds, Data predicted:10000\n",
      "Time elapsed: 10.26 seconds, Data predicted:11000\n",
      "Time elapsed: 10.21 seconds, Data predicted:12000\n",
      "Time elapsed: 10.36 seconds, Data predicted:13000\n",
      "Time elapsed: 10.35 seconds, Data predicted:14000\n",
      "Time elapsed: 10.33 seconds, Data predicted:15000\n",
      "Time elapsed: 10.37 seconds, Data predicted:16000\n",
      "Time elapsed: 10.37 seconds, Data predicted:17000\n",
      "Accuracy of Language prediction:  1.34%\n",
      "Accuracy of Language prediction:  0.11%\n"
     ]
    }
   ],
   "source": [
    "predict(roberta_test_emb, knn_roberta_lang, knn_roberta_task, test_y_lang, test_y_task)"
   ]
  },
  {
   "cell_type": "markdown",
   "metadata": {},
   "source": [
    "# part data on CodeBERT"
   ]
  },
  {
   "cell_type": "code",
   "execution_count": 28,
   "metadata": {},
   "outputs": [
    {
     "name": "stdout",
     "output_type": "stream",
     "text": [
      "3852 1924\n"
     ]
    }
   ],
   "source": [
    "languages = ['Go','Java','JavaScript','PHP','Python','Ruby']\n",
    "indices_train = train_df.index[train_df['language'].isin(languages)].tolist()\n",
    "indices_test = test_df.index[test_df['language'].isin(languages)].tolist()\n",
    "print(len(indices_train), len(indices_test))"
   ]
  },
  {
   "cell_type": "code",
   "execution_count": 29,
   "metadata": {},
   "outputs": [],
   "source": [
    "codebert_train_emb_sub = torch.index_select(codebert_train_emb, 0, torch.tensor(indices_train))\n",
    "train_y_task_sub = torch.index_select(train_y_task, 0, torch.tensor(indices_train))\n",
    "train_y_lang_sub = torch.index_select(train_y_lang, 0, torch.tensor(indices_train))\n",
    "\n",
    "codebert_test_emb_sub = torch.index_select(codebert_test_emb, 0, torch.tensor(indices_test))\n",
    "test_y_task_sub = torch.index_select(test_y_task, 0, torch.tensor(indices_test))\n",
    "test_y_lang_sub = torch.index_select(test_y_lang, 0, torch.tensor(indices_test))"
   ]
  },
  {
   "cell_type": "code",
   "execution_count": 30,
   "metadata": {},
   "outputs": [
    {
     "name": "stdout",
     "output_type": "stream",
     "text": [
      "Time elapsed: 0.06 seconds, Data predicted:0\n",
      "Time elapsed: 2.09 seconds, Data predicted:1000\n",
      "Accuracy of Language prediction:  88.41%\n",
      "Accuracy of Language prediction:  11.33%\n"
     ]
    }
   ],
   "source": [
    "knn_codebert_lang_sub = KNN(codebert_train_emb_sub, train_y_lang_sub)\n",
    "knn_codebert_task_sub = KNN(codebert_train_emb_sub, train_y_task_sub)\n",
    "\n",
    "predict(codebert_test_emb_sub, knn_codebert_lang_sub, knn_codebert_task_sub, test_y_lang_sub, test_y_task_sub)"
   ]
  },
  {
   "cell_type": "code",
   "execution_count": null,
   "metadata": {},
   "outputs": [],
   "source": []
  }
 ],
 "metadata": {
  "colab": {
   "collapsed_sections": [
    "sHnwQ_I2qM5y"
   ],
   "provenance": []
  },
  "kernelspec": {
   "display_name": "Python 3 (ipykernel)",
   "language": "python",
   "name": "python3"
  },
  "language_info": {
   "codemirror_mode": {
    "name": "ipython",
    "version": 3
   },
   "file_extension": ".py",
   "mimetype": "text/x-python",
   "name": "python",
   "nbconvert_exporter": "python",
   "pygments_lexer": "ipython3",
   "version": "3.9.18"
  }
 },
 "nbformat": 4,
 "nbformat_minor": 4
}
