{
 "cells": [
  {
   "cell_type": "code",
   "execution_count": 1,
   "metadata": {
    "colab": {
     "base_uri": "https://localhost:8080/"
    },
    "executionInfo": {
     "elapsed": 4221,
     "status": "ok",
     "timestamp": 1708167119526,
     "user": {
      "displayName": "Simin Sun",
      "userId": "04105675808800793231"
     },
     "user_tz": -60
    },
    "id": "I721MUnN3OIF",
    "outputId": "1e8647f8-be92-46b3-b886-4f0f16885636"
   },
   "outputs": [],
   "source": [
    "import torch\n",
    "from clustering import KNN\n",
    "import pandas as pd\n",
    "\n",
    "#load data from file\n",
    "train_df=pd.read_csv(\"data/train.csv\")\n",
    "test_df=pd.read_csv(\"data/test.csv\")\n",
    "\n",
    "## load the embeddings from saved file\n",
    "gpt_train_emb = torch.load('out/gpt_30379.pt', map_location=\"cpu\")\n",
    "gpt_test_emb = torch.load('out/gpt_17723.pt', map_location=\"cpu\")\n",
    "\n",
    "bert_train_emb = torch.load('out/bert_30379.pt', map_location=\"cpu\")\n",
    "bert_test_emb = torch.load('out/bert_17723.pt', map_location=\"cpu\")\n",
    "\n",
    "codebert_train_emb = torch.load('out/codebert_30379.pt', map_location=\"cpu\")\n",
    "codebert_test_emb = torch.load('out/codebert_17723.pt', map_location=\"cpu\")\n",
    "\n",
    "roberta_train_emb = torch.load('out/roberta_30379.pt', map_location=\"cpu\")\n",
    "roberta_test_emb = torch.load('out/roberta_17723.pt', map_location=\"cpu\")"
   ]
  },
  {
   "cell_type": "code",
   "execution_count": 2,
   "metadata": {},
   "outputs": [],
   "source": [
    "train_df[\"combine\"]=train_df[\"task\"]+\"@\"+train_df[\"language\"]\n",
    "test_df[\"combine\"]=test_df[\"task\"]+\"@\"+test_df[\"language\"]"
   ]
  },
  {
   "cell_type": "code",
   "execution_count": 3,
   "metadata": {},
   "outputs": [
    {
     "data": {
      "text/html": [
       "<div>\n",
       "<style scoped>\n",
       "    .dataframe tbody tr th:only-of-type {\n",
       "        vertical-align: middle;\n",
       "    }\n",
       "\n",
       "    .dataframe tbody tr th {\n",
       "        vertical-align: top;\n",
       "    }\n",
       "\n",
       "    .dataframe thead th {\n",
       "        text-align: right;\n",
       "    }\n",
       "</style>\n",
       "<table border=\"1\" class=\"dataframe\">\n",
       "  <thead>\n",
       "    <tr style=\"text-align: right;\">\n",
       "      <th></th>\n",
       "      <th>Unnamed: 0</th>\n",
       "      <th>task</th>\n",
       "      <th>language</th>\n",
       "      <th>code</th>\n",
       "      <th>combine</th>\n",
       "    </tr>\n",
       "  </thead>\n",
       "  <tbody>\n",
       "    <tr>\n",
       "      <th>0</th>\n",
       "      <td>1</td>\n",
       "      <td>Call-an-object-method</td>\n",
       "      <td>Ada</td>\n",
       "      <td>package body My_Class is\\n      procedure P...</td>\n",
       "      <td>Call-an-object-method@Ada</td>\n",
       "    </tr>\n",
       "    <tr>\n",
       "      <th>1</th>\n",
       "      <td>2</td>\n",
       "      <td>Call-an-object-method</td>\n",
       "      <td>Ada</td>\n",
       "      <td>package Other_Class is\\n      type Object i...</td>\n",
       "      <td>Call-an-object-method@Ada</td>\n",
       "    </tr>\n",
       "    <tr>\n",
       "      <th>2</th>\n",
       "      <td>3</td>\n",
       "      <td>Call-an-object-method</td>\n",
       "      <td>Ada</td>\n",
       "      <td>package My_Class is\\n      type Object is t...</td>\n",
       "      <td>Call-an-object-method@Ada</td>\n",
       "    </tr>\n",
       "    <tr>\n",
       "      <th>3</th>\n",
       "      <td>5</td>\n",
       "      <td>Call-an-object-method</td>\n",
       "      <td>Pike</td>\n",
       "      <td>module.func();\\nmodule[\"func\"]();\\n</td>\n",
       "      <td>Call-an-object-method@Pike</td>\n",
       "    </tr>\n",
       "    <tr>\n",
       "      <th>4</th>\n",
       "      <td>6</td>\n",
       "      <td>Call-an-object-method</td>\n",
       "      <td>Pike</td>\n",
       "      <td>function func = obj-&gt;method;\\nfunc();\\n</td>\n",
       "      <td>Call-an-object-method@Pike</td>\n",
       "    </tr>\n",
       "  </tbody>\n",
       "</table>\n",
       "</div>"
      ],
      "text/plain": [
       "   Unnamed: 0                   task language  \\\n",
       "0           1  Call-an-object-method      Ada   \n",
       "1           2  Call-an-object-method      Ada   \n",
       "2           3  Call-an-object-method      Ada   \n",
       "3           5  Call-an-object-method     Pike   \n",
       "4           6  Call-an-object-method     Pike   \n",
       "\n",
       "                                                code  \\\n",
       "0     package body My_Class is\\n      procedure P...   \n",
       "1     package Other_Class is\\n      type Object i...   \n",
       "2     package My_Class is\\n      type Object is t...   \n",
       "3                module.func();\\nmodule[\"func\"]();\\n   \n",
       "4            function func = obj->method;\\nfunc();\\n   \n",
       "\n",
       "                      combine  \n",
       "0   Call-an-object-method@Ada  \n",
       "1   Call-an-object-method@Ada  \n",
       "2   Call-an-object-method@Ada  \n",
       "3  Call-an-object-method@Pike  \n",
       "4  Call-an-object-method@Pike  "
      ]
     },
     "execution_count": 3,
     "metadata": {},
     "output_type": "execute_result"
    }
   ],
   "source": [
    "train_df.head(5)"
   ]
  },
  {
   "cell_type": "code",
   "execution_count": 4,
   "metadata": {},
   "outputs": [
    {
     "name": "stdout",
     "output_type": "stream",
     "text": [
      "30379 17723 48102\n"
     ]
    }
   ],
   "source": [
    "from sklearn.preprocessing import LabelEncoder\n",
    "\n",
    "train_label_lang = list(train_df['combine'])\n",
    "test_label_lang =list(test_df['combine']) \n",
    "all_label=train_label_lang + test_label_lang\n",
    "\n",
    "print(len(train_label_lang),len(test_label_lang),len(all_label))\n",
    "\n",
    "\n",
    "le = LabelEncoder()\n",
    "le=le.fit(all_label)\n",
    "\n",
    "train_label_encoding=le.transform(train_label_lang)\n",
    "test_label_encoding=le.transform(test_label_lang)\n",
    "\n",
    "train_y = torch.tensor(train_label_encoding)\n",
    "test_y = torch.tensor(test_label_encoding)"
   ]
  },
  {
   "cell_type": "code",
   "execution_count": 5,
   "metadata": {},
   "outputs": [],
   "source": [
    "knn_gpt_combined = KNN(gpt_train_emb, train_y)\n",
    "knn_bert_combined = KNN(bert_train_emb, train_y)\n",
    "knn_codebert_combined = KNN(codebert_train_emb, train_y)\n",
    "knn_roberta_combined = KNN(roberta_train_emb, train_y)"
   ]
  },
  {
   "cell_type": "code",
   "execution_count": 6,
   "metadata": {},
   "outputs": [],
   "source": [
    "import prediction\n",
    "# import importlib \n",
    "# importlib.reload(prediction)"
   ]
  },
  {
   "cell_type": "code",
   "execution_count": 7,
   "metadata": {},
   "outputs": [
    {
     "name": "stdout",
     "output_type": "stream",
     "text": [
      "Time elapsed: 0.30 seconds, Data predicted:0\n",
      "Time elapsed: 108.05 seconds, Data predicted:5000\n",
      "Time elapsed: 1904.29 seconds, Data predicted:10000\n",
      "Time elapsed: 751.57 seconds, Data predicted:15000\n",
      "Accuracy of combined labels prediction: 4.72%\n",
      "Total Number: 17723\n",
      "All right: 836\n",
      "Language correct: 5545\n",
      "Task correct: 271\n"
     ]
    }
   ],
   "source": [
    "pred_y_gpt = prediction.predict_one(gpt_test_emb, knn_gpt_combined, test_y,le)"
   ]
  },
  {
   "cell_type": "code",
   "execution_count": 8,
   "metadata": {},
   "outputs": [
    {
     "name": "stdout",
     "output_type": "stream",
     "text": [
      "Time elapsed: 0.24 seconds, Data predicted:0\n",
      "Time elapsed: 1741.93 seconds, Data predicted:5000\n",
      "Time elapsed: 108.67 seconds, Data predicted:10000\n",
      "Time elapsed: 108.87 seconds, Data predicted:15000\n",
      "Accuracy of combined labels prediction: 10.91%\n",
      "Total Number: 17723\n",
      "All right: 1933\n",
      "Language correct: 6672\n",
      "Task correct: 779\n"
     ]
    }
   ],
   "source": [
    "pred_y_bert = prediction.predict_one(bert_test_emb, knn_bert_combined, test_y,le)"
   ]
  },
  {
   "cell_type": "code",
   "execution_count": 9,
   "metadata": {},
   "outputs": [
    {
     "name": "stdout",
     "output_type": "stream",
     "text": [
      "Time elapsed: 0.26 seconds, Data predicted:0\n",
      "Time elapsed: 1739.61 seconds, Data predicted:5000\n",
      "Time elapsed: 1824.25 seconds, Data predicted:10000\n",
      "Time elapsed: 6740.07 seconds, Data predicted:15000\n",
      "Accuracy of combined labels prediction: 7.66%\n",
      "Total Number: 17723\n",
      "All right: 1358\n",
      "Language correct: 6706\n",
      "Task correct: 351\n"
     ]
    }
   ],
   "source": [
    "pred_y_codebert = prediction.predict_one(codebert_test_emb, knn_codebert_combined, test_y,le)"
   ]
  },
  {
   "cell_type": "code",
   "execution_count": 10,
   "metadata": {},
   "outputs": [
    {
     "name": "stdout",
     "output_type": "stream",
     "text": [
      "Time elapsed: 0.24 seconds, Data predicted:0\n",
      "Time elapsed: 18509.95 seconds, Data predicted:5000\n",
      "Time elapsed: 7395.50 seconds, Data predicted:10000\n",
      "Time elapsed: 169.84 seconds, Data predicted:15000\n",
      "Accuracy of combined labels prediction: 0.01%\n",
      "Total Number: 17723\n",
      "All right: 1\n",
      "Language correct: 236\n",
      "Task correct: 19\n"
     ]
    }
   ],
   "source": [
    "pred_y_roberta = prediction.predict_one(roberta_test_emb, knn_roberta_combined, test_y,le)"
   ]
  }
 ],
 "metadata": {
  "colab": {
   "collapsed_sections": [
    "sHnwQ_I2qM5y"
   ],
   "provenance": []
  },
  "kernelspec": {
   "display_name": "Python 3 (ipykernel)",
   "language": "python",
   "name": "python3"
  },
  "language_info": {
   "codemirror_mode": {
    "name": "ipython",
    "version": 3
   },
   "file_extension": ".py",
   "mimetype": "text/x-python",
   "name": "python",
   "nbconvert_exporter": "python",
   "pygments_lexer": "ipython3",
   "version": "3.9.18"
  }
 },
 "nbformat": 4,
 "nbformat_minor": 4
}
