{
 "cells": [
  {
   "cell_type": "code",
   "execution_count": 6,
   "metadata": {},
   "outputs": [],
   "source": [
    "import sys\n",
    "import os\n",
    "from pathlib import Path\n",
    "\n",
    "sys.path.append(sys.path[0] + '/src')"
   ]
  },
  {
   "cell_type": "markdown",
   "metadata": {},
   "source": [
    "## Data: seperatre files to dataframe"
   ]
  },
  {
   "cell_type": "code",
   "execution_count": 2,
   "metadata": {},
   "outputs": [
    {
     "data": {
      "text/plain": [
       "(114376, 4)"
      ]
     },
     "execution_count": 2,
     "metadata": {},
     "output_type": "execute_result"
    }
   ],
   "source": [
    "# Getting data from repository and save it in a dataframe\n",
    "# Output the file in a csv file\n",
    "import pandas as pd\n",
    "from utils import file_to_df, balanced_split_data\n",
    "\n",
    "# file_path = '../RosettaCodeData/Task'\n",
    "# file_to_df(file_path)\n",
    "\n",
    "\n",
    "all_df = pd.read_csv('data/RosettaCodeData.csv')\n",
    "all_df.shape"
   ]
  },
  {
   "cell_type": "code",
   "execution_count": 3,
   "metadata": {},
   "outputs": [
    {
     "data": {
      "text/plain": [
       "(114275, 4)"
      ]
     },
     "execution_count": 3,
     "metadata": {},
     "output_type": "execute_result"
    }
   ],
   "source": [
    "## Drop nan\n",
    "filtered_df = all_df.dropna()\n",
    "filtered_df.shape"
   ]
  },
  {
   "cell_type": "code",
   "execution_count": 4,
   "metadata": {},
   "outputs": [
    {
     "data": {
      "text/plain": [
       "(114054, 4)"
      ]
     },
     "execution_count": 4,
     "metadata": {},
     "output_type": "execute_result"
    }
   ],
   "source": [
    "## Drop Empty-program as many codes of this task are empty\n",
    "rows_to_drop = filtered_df[\"task\"].str.contains('Empty-program')\n",
    "filtered_df = filtered_df[~rows_to_drop]\n",
    "filtered_df.shape"
   ]
  },
  {
   "cell_type": "code",
   "execution_count": 5,
   "metadata": {},
   "outputs": [
    {
     "name": "stdout",
     "output_type": "stream",
     "text": [
      "The Number of Distinct Languages:532\n",
      "The Number of Distinct Tasks:1195\n",
      "The Number of Distinct Languages:525\n",
      "The Number of Distinct Tasks:532\n",
      "data/train_24892.csv\n",
      "data/test_13786.csv\n"
     ]
    }
   ],
   "source": [
    "train_path, test_path =balanced_split_data(filtered_df)\n",
    "print(train_path)\n",
    "print(test_path)"
   ]
  }
 ],
 "metadata": {
  "kernelspec": {
   "display_name": "Python 3 (ipykernel)",
   "language": "python",
   "name": "python3"
  },
  "language_info": {
   "codemirror_mode": {
    "name": "ipython",
    "version": 3
   },
   "file_extension": ".py",
   "mimetype": "text/x-python",
   "name": "python",
   "nbconvert_exporter": "python",
   "pygments_lexer": "ipython3",
   "version": "3.8.10"
  }
 },
 "nbformat": 4,
 "nbformat_minor": 4
}
