{
 "cells": [
  {
   "cell_type": "code",
   "execution_count": 1,
   "metadata": {
    "colab": {
     "base_uri": "https://localhost:8080/"
    },
    "executionInfo": {
     "elapsed": 4221,
     "status": "ok",
     "timestamp": 1708167119526,
     "user": {
      "displayName": "Simin Sun",
      "userId": "04105675808800793231"
     },
     "user_tz": -60
    },
    "id": "I721MUnN3OIF",
    "outputId": "1e8647f8-be92-46b3-b886-4f0f16885636"
   },
   "outputs": [],
   "source": [
    "import utils\n",
    "import pandas as pd\n",
    "from prediction import analyze_data"
   ]
  },
  {
   "cell_type": "code",
   "execution_count": 2,
   "metadata": {},
   "outputs": [
    {
     "name": "stdout",
     "output_type": "stream",
     "text": [
      "device: cuda\n",
      "(30379, 4) (17723, 4)\n"
     ]
    }
   ],
   "source": [
    "device = utils.getting_device()\n",
    "\n",
    "train_df =pd.read_csv('data/train.csv')\n",
    "test_df = pd.read_csv('data/test.csv')\n",
    "print(train_df.shape, test_df.shape)"
   ]
  },
  {
   "cell_type": "code",
   "execution_count": 3,
   "metadata": {},
   "outputs": [
    {
     "name": "stdout",
     "output_type": "stream",
     "text": [
      "Original train count: 30379, Original test count: 17723.\n",
      "After mapping: train count: 30379, After mapping: test count: 17723.\n",
      "Time elapsed: 1.07 seconds, Data predicted:0\n",
      "Time elapsed: 555.32 seconds, Data predicted:5000\n",
      "Time elapsed: 555.44 seconds, Data predicted:10000\n",
      "Time elapsed: 557.09 seconds, Data predicted:15000\n",
      "Accuracy of combined labels prediction: 10.91%\n",
      "Total Number: 17723\n",
      "All right: 1934\n",
      "Language correct: 6672\n",
      "Task correct: 779\n"
     ]
    }
   ],
   "source": [
    "model = 'bert'\n",
    "train_path = 'out/'+model+'_30379.pt'\n",
    "test_path = 'out/'+model+'_17723.pt'\n",
    "\n",
    "analyze_data(model, train_df, test_df, device, train_path, test_path, mode = 'one_label')"
   ]
  },
  {
   "cell_type": "code",
   "execution_count": 4,
   "metadata": {},
   "outputs": [
    {
     "name": "stdout",
     "output_type": "stream",
     "text": [
      "Original train count: 30379, Original test count: 17723.\n",
      "After mapping: train count: 30379, After mapping: test count: 17723.\n",
      "Original train count: 30379, Original test count: 17723.\n",
      "After mapping: train count: 30379, After mapping: test count: 17723.\n",
      "Time elapsed: 0.50 seconds, Data predicted: 0\n",
      "Time elapsed: 242.90 seconds, Data predicted: 5000\n",
      "Time elapsed: 238.44 seconds, Data predicted: 10000\n",
      "Time elapsed: 242.79 seconds, Data predicted: 15000\n",
      "Accuracy of Programming Language prediction: 52.02%\n",
      "Accuracy of Programming Task prediction: 16.59%\n"
     ]
    }
   ],
   "source": [
    "analyze_data(model, train_df, test_df, device, train_path, test_path, mode = 'two_label')"
   ]
  },
  {
   "cell_type": "code",
   "execution_count": 5,
   "metadata": {},
   "outputs": [
    {
     "name": "stdout",
     "output_type": "stream",
     "text": [
      "Original train count: 30379, Original test count: 17723.\n",
      "After mapping: train count: 30379, After mapping: test count: 17723.\n",
      "Time elapsed: 1.10 seconds, Data predicted:0\n",
      "Time elapsed: 570.20 seconds, Data predicted:5000\n",
      "Time elapsed: 543.87 seconds, Data predicted:10000\n",
      "Time elapsed: 543.65 seconds, Data predicted:15000\n",
      "Accuracy of combined labels prediction: 4.72%\n",
      "Total Number: 17723\n",
      "All right: 836\n",
      "Language correct: 5546\n",
      "Task correct: 271\n"
     ]
    }
   ],
   "source": [
    "model = 'gpt'\n",
    "train_path = 'out/'+model+'_30379.pt'\n",
    "test_path = 'out/'+model+'_17723.pt'\n",
    "\n",
    "analyze_data(model, train_df, test_df, device, train_path, test_path, mode = 'one_label')"
   ]
  },
  {
   "cell_type": "code",
   "execution_count": 6,
   "metadata": {},
   "outputs": [
    {
     "name": "stdout",
     "output_type": "stream",
     "text": [
      "Original train count: 30379, Original test count: 17723.\n",
      "After mapping: train count: 30379, After mapping: test count: 17723.\n",
      "Original train count: 30379, Original test count: 17723.\n",
      "After mapping: train count: 30379, After mapping: test count: 17723.\n",
      "Time elapsed: 0.51 seconds, Data predicted: 0\n",
      "Time elapsed: 241.67 seconds, Data predicted: 5000\n",
      "Time elapsed: 238.58 seconds, Data predicted: 10000\n",
      "Time elapsed: 237.37 seconds, Data predicted: 15000\n",
      "Accuracy of Programming Language prediction: 39.46%\n",
      "Accuracy of Programming Task prediction: 6.62%\n"
     ]
    }
   ],
   "source": [
    "analyze_data(model, train_df, test_df, device, train_path, test_path, mode = 'two_label')"
   ]
  },
  {
   "cell_type": "code",
   "execution_count": 7,
   "metadata": {},
   "outputs": [
    {
     "name": "stdout",
     "output_type": "stream",
     "text": [
      "Original train count: 30379, Original test count: 17723.\n",
      "After mapping: train count: 30379, After mapping: test count: 17723.\n",
      "Time elapsed: 1.06 seconds, Data predicted:0\n",
      "Time elapsed: 541.53 seconds, Data predicted:5000\n",
      "Time elapsed: 541.35 seconds, Data predicted:10000\n",
      "Time elapsed: 549.72 seconds, Data predicted:15000\n",
      "Accuracy of combined labels prediction: 7.67%\n",
      "Total Number: 17723\n",
      "All right: 1359\n",
      "Language correct: 6706\n",
      "Task correct: 351\n"
     ]
    }
   ],
   "source": [
    "model = 'codebert'\n",
    "train_path = 'out/'+model+'_30379.pt'\n",
    "test_path = 'out/'+model+'_17723.pt'\n",
    "\n",
    "analyze_data(model, train_df, test_df, device, train_path, test_path, mode = 'one_label')"
   ]
  },
  {
   "cell_type": "code",
   "execution_count": 8,
   "metadata": {},
   "outputs": [
    {
     "name": "stdout",
     "output_type": "stream",
     "text": [
      "Original train count: 30379, Original test count: 17723.\n",
      "After mapping: train count: 30379, After mapping: test count: 17723.\n",
      "Original train count: 30379, Original test count: 17723.\n",
      "After mapping: train count: 30379, After mapping: test count: 17723.\n",
      "Time elapsed: 0.48 seconds, Data predicted: 0\n",
      "Time elapsed: 243.16 seconds, Data predicted: 5000\n",
      "Time elapsed: 242.20 seconds, Data predicted: 10000\n",
      "Time elapsed: 242.48 seconds, Data predicted: 15000\n",
      "Accuracy of Programming Language prediction: 49.29%\n",
      "Accuracy of Programming Task prediction: 10.02%\n"
     ]
    }
   ],
   "source": [
    "analyze_data(model, train_df, test_df, device, train_path, test_path, mode = 'two_label')"
   ]
  },
  {
   "cell_type": "code",
   "execution_count": null,
   "metadata": {},
   "outputs": [],
   "source": []
  }
 ],
 "metadata": {
  "colab": {
   "collapsed_sections": [
    "sHnwQ_I2qM5y"
   ],
   "provenance": []
  },
  "kernelspec": {
   "display_name": "Python 3 (ipykernel)",
   "language": "python",
   "name": "python3"
  },
  "language_info": {
   "codemirror_mode": {
    "name": "ipython",
    "version": 3
   },
   "file_extension": ".py",
   "mimetype": "text/x-python",
   "name": "python",
   "nbconvert_exporter": "python",
   "pygments_lexer": "ipython3",
   "version": "3.8.10"
  }
 },
 "nbformat": 4,
 "nbformat_minor": 4
}
