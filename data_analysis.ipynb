{
 "cells": [
  {
   "cell_type": "code",
   "execution_count": 2,
   "metadata": {},
   "outputs": [],
   "source": [
    "import pandas as pd\n",
    "from src.utils import balanced_split_data"
   ]
  },
  {
   "cell_type": "markdown",
   "metadata": {},
   "source": [
    "## Data: seperatre files to dataframe"
   ]
  },
  {
   "cell_type": "code",
   "execution_count": 2,
   "metadata": {},
   "outputs": [
    {
     "data": {
      "text/plain": [
       "(114376, 4)"
      ]
     },
     "execution_count": 2,
     "metadata": {},
     "output_type": "execute_result"
    }
   ],
   "source": [
    "# Getting data from repository and save it in a dataframe\n",
    "# Output the file in a csv file\n",
    "\n",
    "\n",
    "# file_path = '../RosettaCodeData/Task'\n",
    "# file_to_df(file_path)\n",
    "\n",
    "\n",
    "all_df = pd.read_csv('data/RosettaCodeData.csv')\n",
    "all_df.shape"
   ]
  },
  {
   "cell_type": "code",
   "execution_count": 3,
   "metadata": {},
   "outputs": [
    {
     "data": {
      "text/plain": [
       "(114275, 4)"
      ]
     },
     "execution_count": 3,
     "metadata": {},
     "output_type": "execute_result"
    }
   ],
   "source": [
    "## Drop nan\n",
    "filtered_df = all_df.dropna()\n",
    "filtered_df.shape"
   ]
  },
  {
   "cell_type": "code",
   "execution_count": 4,
   "metadata": {},
   "outputs": [
    {
     "data": {
      "text/plain": [
       "(114054, 4)"
      ]
     },
     "execution_count": 4,
     "metadata": {},
     "output_type": "execute_result"
    }
   ],
   "source": [
    "## Drop Empty-program as many codes of this task are empty\n",
    "rows_to_drop = filtered_df[\"task\"].str.contains('Empty-program')\n",
    "filtered_df = filtered_df[~rows_to_drop]\n",
    "filtered_df.shape"
   ]
  },
  {
   "cell_type": "code",
   "execution_count": 5,
   "metadata": {},
   "outputs": [
    {
     "name": "stdout",
     "output_type": "stream",
     "text": [
      "The Number of Distinct Languages:532\n",
      "The Number of Distinct Tasks:1195\n",
      "The Number of Distinct Languages:525\n",
      "The Number of Distinct Tasks:532\n",
      "data/train_24892.csv\n",
      "data/test_13786.csv\n"
     ]
    }
   ],
   "source": [
    "train_path, test_path =balanced_split_data(filtered_df)\n",
    "print(train_path)\n",
    "print(test_path)"
   ]
  },
  {
   "cell_type": "markdown",
   "metadata": {},
   "source": [
    "## Explore the data"
   ]
  },
  {
   "cell_type": "code",
   "execution_count": 4,
   "metadata": {},
   "outputs": [],
   "source": [
    "train_df = pd.read_csv('data/train_24892.csv')\n",
    "languages = train_df['language'].unique()"
   ]
  },
  {
   "cell_type": "code",
   "execution_count": 5,
   "metadata": {},
   "outputs": [
    {
     "data": {
      "text/plain": [
       "count    24892.000000\n",
       "mean        17.762173\n",
       "std         31.780323\n",
       "min          2.000000\n",
       "25%          4.000000\n",
       "50%          8.000000\n",
       "75%         19.000000\n",
       "max       1033.000000\n",
       "Name: code, dtype: float64"
      ]
     },
     "execution_count": 5,
     "metadata": {},
     "output_type": "execute_result"
    }
   ],
   "source": [
    "# Calculate line counts for each cell\n",
    "line_counts = train_df['code'].apply(lambda x: x.count('\\n') + 1)\n",
    "\n",
    "line_count_stats = line_counts.describe()\n",
    "line_count_stats"
   ]
  },
  {
   "cell_type": "code",
   "execution_count": 6,
   "metadata": {},
   "outputs": [
    {
     "data": {
      "text/plain": [
       "count    24892.000000\n",
       "mean        68.424112\n",
       "std        142.456581\n",
       "min          0.000000\n",
       "25%         11.000000\n",
       "50%         29.000000\n",
       "75%         72.000000\n",
       "max       8506.000000\n",
       "Name: code, dtype: float64"
      ]
     },
     "execution_count": 6,
     "metadata": {},
     "output_type": "execute_result"
    }
   ],
   "source": [
    "token_counts = train_df['code'].apply(lambda x: len(x.split()))\n",
    "\n",
    "# Get descriptive statistics\n",
    "token_count_stats = token_counts.describe()\n",
    "token_count_stats"
   ]
  },
  {
   "cell_type": "code",
   "execution_count": 7,
   "metadata": {},
   "outputs": [
    {
     "data": {
      "text/plain": [
       "0.80     89.00\n",
       "0.90    160.90\n",
       "0.95    257.00\n",
       "0.98    422.18\n",
       "0.99    577.00\n",
       "Name: code, dtype: float64"
      ]
     },
     "execution_count": 7,
     "metadata": {},
     "output_type": "execute_result"
    }
   ],
   "source": [
    "variance = token_counts.var()\n",
    "custom_quantiles = token_counts.quantile([0.8, 0.9, 0.95, 0.98, 0.99])\n",
    "custom_quantiles"
   ]
  }
 ],
 "metadata": {
  "kernelspec": {
   "display_name": "code",
   "language": "python",
   "name": "python3"
  },
  "language_info": {
   "codemirror_mode": {
    "name": "ipython",
    "version": 3
   },
   "file_extension": ".py",
   "mimetype": "text/x-python",
   "name": "python",
   "nbconvert_exporter": "python",
   "pygments_lexer": "ipython3",
   "version": "3.10.6"
  }
 },
 "nbformat": 4,
 "nbformat_minor": 4
}
