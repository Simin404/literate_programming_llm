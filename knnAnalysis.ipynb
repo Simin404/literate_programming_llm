{
 "cells": [
  {
   "cell_type": "code",
   "execution_count": 1,
   "metadata": {
    "colab": {
     "base_uri": "https://localhost:8080/"
    },
    "executionInfo": {
     "elapsed": 4221,
     "status": "ok",
     "timestamp": 1708167119526,
     "user": {
      "displayName": "Simin Sun",
      "userId": "04105675808800793231"
     },
     "user_tz": -60
    },
    "id": "I721MUnN3OIF",
    "outputId": "1e8647f8-be92-46b3-b886-4f0f16885636"
   },
   "outputs": [
    {
     "name": "stderr",
     "output_type": "stream",
     "text": [
      "Found cached dataset parquet (/root/.cache/huggingface/datasets/cakiki___parquet/cakiki--rosetta-code-c68b129ca95ba990/0.0.0/14a00e99c0d15a23649d0db8944380ac81082d4b021f398733dd84f3a6c569a7)\n"
     ]
    },
    {
     "data": {
      "application/vnd.jupyter.widget-view+json": {
       "model_id": "98bc069deb70406497297385f0475d5c",
       "version_major": 2,
       "version_minor": 0
      },
      "text/plain": [
       "  0%|          | 0/1 [00:00<?, ?it/s]"
      ]
     },
     "metadata": {},
     "output_type": "display_data"
    },
    {
     "name": "stderr",
     "output_type": "stream",
     "text": [
      "Loading cached processed dataset at /root/.cache/huggingface/datasets/cakiki___parquet/cakiki--rosetta-code-c68b129ca95ba990/0.0.0/14a00e99c0d15a23649d0db8944380ac81082d4b021f398733dd84f3a6c569a7/cache-425266b0b761cb2c.arrow\n"
     ]
    },
    {
     "name": "stdout",
     "output_type": "stream",
     "text": [
      "6273\n"
     ]
    }
   ],
   "source": [
    "from datasets import load_dataset\n",
    "\n",
    "# Load the Cakiki/Rosetta Code dataset\n",
    "allData = load_dataset(\"cakiki/rosetta-code\")\n",
    "\n",
    "languages = ['Go','Java','JavaScript','PHP','Python','Ruby', 'Ada']\n",
    "trainData = allData['train']\n",
    "partDict = trainData.filter(lambda example: example['language_name']in languages)\n",
    "print(len(partDict))"
   ]
  },
  {
   "cell_type": "markdown",
   "metadata": {},
   "source": [
    "# Train and test knn using embeddings extracted from BERT"
   ]
  },
  {
   "cell_type": "code",
   "execution_count": 19,
   "metadata": {
    "executionInfo": {
     "elapsed": 6,
     "status": "aborted",
     "timestamp": 1708167123604,
     "user": {
      "displayName": "Simin Sun",
      "userId": "04105675808800793231"
     },
     "user_tz": -60
    },
    "id": "iVl2cMJNrM_S"
   },
   "outputs": [
    {
     "name": "stdout",
     "output_type": "stream",
     "text": [
      "6000 273 6000 273\n"
     ]
    }
   ],
   "source": [
    "import torch\n",
    "from clustering import KNN\n",
    "\n",
    "## load the embeddings from saved file and split it.\n",
    "saved_emb = torch.load('bert_6273.pt')\n",
    "saved_emb = saved_emb.cpu()\n",
    "saved_emb.shape\n",
    "train, test = torch.split(saved_emb,[6000, 273])\n",
    "\n",
    "## map the labels from string to number, eg. java->0\n",
    "labels = partDict['language_name']\n",
    "lang_dict = dict(zip(set(partDict['language_name']), [i for i in range(len(set(partDict['language_name'])))]))\n",
    "num_labels = [lang_dict[label] for label in labels]\n",
    "# split the labels\n",
    "train_label = torch.tensor(num_labels[:6000])\n",
    "test_label = torch.tensor(num_labels[6000:])\n",
    "print(len(train), len(test), len(train_label), len(test_label))\n",
    "\n",
    "\n",
    "knn = KNN(train, train_label)\n",
    "predicted = knn(test)\n",
    "\n",
    "total_correct = (predicted == test_label).sum().item()\n",
    "\n",
    "# Calculate the accuracy for this epoch\n",
    "accuracy = 100 * total_correct / test_label.size(0)\n",
    "print('Accuracy:  {:.2f}%'.format(accuracy))"
   ]
  },
  {
   "cell_type": "markdown",
   "metadata": {},
   "source": [
    "# Train and test knn using embeddings extracted from GPT"
   ]
  },
  {
   "cell_type": "code",
   "execution_count": null,
   "metadata": {},
   "outputs": [],
   "source": []
  },
  {
   "cell_type": "code",
   "execution_count": null,
   "metadata": {},
   "outputs": [],
   "source": []
  }
 ],
 "metadata": {
  "colab": {
   "collapsed_sections": [
    "sHnwQ_I2qM5y"
   ],
   "provenance": []
  },
  "kernelspec": {
   "display_name": "Python 3 (ipykernel)",
   "language": "python",
   "name": "python3"
  },
  "language_info": {
   "codemirror_mode": {
    "name": "ipython",
    "version": 3
   },
   "file_extension": ".py",
   "mimetype": "text/x-python",
   "name": "python",
   "nbconvert_exporter": "python",
   "pygments_lexer": "ipython3",
   "version": "3.8.10"
  }
 },
 "nbformat": 4,
 "nbformat_minor": 4
}
