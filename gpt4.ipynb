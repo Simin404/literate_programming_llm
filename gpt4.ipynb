{
 "cells": [
  {
   "cell_type": "code",
   "execution_count": null,
   "id": "a4dc9b76-cf7d-4dd8-9931-1830cf48c57a",
   "metadata": {},
   "outputs": [],
   "source": [
    "import tiktoken\n",
    "import pandas as pd\n",
    "\n",
    "def num_tokens_from_string(string: str, encoding_name: str) -> int:\n",
    "    \"\"\"Returns the number of tokens in a text string.\"\"\"\n",
    "    encoding = tiktoken.get_encoding(encoding_name)\n",
    "    num_tokens = len(encoding.encode(string))\n",
    "    return num_tokens"
   ]
  },
  {
   "cell_type": "code",
   "execution_count": null,
   "id": "7c3e35d3-b16f-43aa-97fb-91b95ceed8dd",
   "metadata": {},
   "outputs": [],
   "source": [
    "train_df =pd.read_csv('data/train_24892.csv')\n",
    "test_df = pd.read_csv('data/test_13786.csv')\n",
    "print(train_df.shape, test_df.shape)"
   ]
  },
  {
   "cell_type": "code",
   "execution_count": null,
   "id": "3d11f495-635b-4f16-9ff1-2024b6bcb885",
   "metadata": {},
   "outputs": [],
   "source": [
    "total_num = 0\n",
    "for i in range(len(train_df['code'])):\n",
    "    num = num_tokens_from_string(train_df['code'][i], \"cl100k_base\")\n",
    "    if num >8192:\n",
    "        print(i, num)\n",
    "    total_num += num\n",
    "print('total:' + str(total_num))\n",
    "    "
   ]
  },
  {
   "cell_type": "code",
   "execution_count": null,
   "id": "fb8bbf5b-bb71-44ae-9413-adade726b4c6",
   "metadata": {},
   "outputs": [],
   "source": [
    "total_num = 0\n",
    "for i in range(len(test_df['code'])):\n",
    "    num = num_tokens_from_string(test_df['code'][i], \"cl100k_base\")\n",
    "    if num >8192:\n",
    "        print(i, num)\n",
    "    total_num += num\n",
    "print('total:' + str(total_num))"
   ]
  },
  {
   "cell_type": "code",
   "execution_count": null,
   "id": "f38eb025-4c30-41a7-af43-29ae0aa1c230",
   "metadata": {},
   "outputs": [],
   "source": [
    "# !pip install openai==0.28.0"
   ]
  },
  {
   "cell_type": "code",
   "execution_count": null,
   "id": "01b5275c-62d6-4404-abb7-389f57840f9e",
   "metadata": {},
   "outputs": [],
   "source": [
    "import os\n",
    "import random\n",
    "import openai\n",
    "from scipy.spatial import distance\n",
    "from sklearn.cluster import KMeans\n",
    "import tiktoken\n",
    "import pandas as pd\n",
    "import time\n",
    "\n",
    "openai.api_key = \"******\""
   ]
  },
  {
   "cell_type": "code",
   "execution_count": null,
   "id": "688f1db9-0491-4d5f-bfbe-9ec229e091da",
   "metadata": {},
   "outputs": [],
   "source": [
    "def get_embedding(text_to_embed):\n",
    "    encoding = tiktoken.get_encoding(\"cl100k_base\")\n",
    "    encoded_string = encoding.encode(text_to_embed)\n",
    "    num_tokens = len(encoded_string)\n",
    "    if num_tokens > 8192:\n",
    "\t    print('Exceed max length,'+str(num_tokens))\n",
    "\t    string = encoding.decode(encoded_string[:8192])\n",
    "    else:\n",
    "\t    string = text_to_embed\n",
    "    \n",
    "    for delay_secs in (2**x for x in range(0, 6)):\n",
    "        try:\n",
    "            response = openai.Embedding.create(\n",
    "                model= \"text-embedding-3-large\",\n",
    "                input=[string]\n",
    "            )\n",
    "            break\n",
    "        except openai.OpenAIError as e:\n",
    "            randomness_collision_avoidance = random.randint(0, 1000) / 1000.0\n",
    "            sleep_dur = delay_secs + randomness_collision_avoidance\n",
    "            print(f\"Error: {e}. Retrying in {round(sleep_dur, 2)} seconds.\")\n",
    "            time.sleep(sleep_dur)\n",
    "            continue\n",
    "\n",
    "    # Extract the AI output embedding as a list of floats\n",
    "    embedding = response[\"data\"][0][\"embedding\"]\n",
    "    \n",
    "    return embedding"
   ]
  },
  {
   "cell_type": "code",
   "execution_count": null,
   "id": "dd800130-0fdc-4e90-bd60-8d3d19205fe4",
   "metadata": {},
   "outputs": [],
   "source": [
    "train_df =pd.read_csv('data/train_24892.csv', index_col=0)\n",
    "test_df = pd.read_csv('data/test_13786.csv', index_col=0)\n",
    "\n",
    "\n",
    "print(\"Data train shape: {}, test shape: {}\".format(train_df.shape, test_df.shape))"
   ]
  },
  {
   "cell_type": "code",
   "execution_count": null,
   "id": "b627aaae-8e3e-4b19-a780-1378b1a580ac",
   "metadata": {},
   "outputs": [],
   "source": [
    "# min_df = test_df[:10]\n",
    "\n",
    "# min_df[\"embedding\"] = min_df[\"code\"].astype(str).apply(get_embedding)\n",
    "\n",
    "# # Make the index start from 0\n",
    "# min_df.reset_index(drop=True)\n",
    "\n",
    "# min_df"
   ]
  },
  {
   "cell_type": "code",
   "execution_count": null,
   "id": "447ae75e-d858-455f-9254-91c9dd77b212",
   "metadata": {},
   "outputs": [],
   "source": [
    "test_df[\"embedding\"] = test_df[\"code\"].astype(str).apply(get_embedding)\n",
    "\n",
    "# Make the index start from 0\n",
    "test_df.reset_index(drop=True)\n",
    "\n",
    "test_df.head(10)"
   ]
  },
  {
   "cell_type": "code",
   "execution_count": null,
   "id": "d5a936aa-6010-4174-940d-c6ad77b3acf2",
   "metadata": {},
   "outputs": [],
   "source": [
    "test_df.to_csv('out/gpt4_test.csv', index=False)"
   ]
  },
  {
   "cell_type": "code",
   "execution_count": null,
   "id": "f782947d-7b18-4acf-ad67-4f4cebd535ef",
   "metadata": {},
   "outputs": [],
   "source": [
    "train_df[\"embedding\"] = train_df[\"code\"].astype(str).apply(get_embedding)\n",
    "\n",
    "# Make the index start from 0\n",
    "train_df.reset_index(drop=True)\n",
    "\n",
    "train_df.head(10)"
   ]
  },
  {
   "cell_type": "code",
   "execution_count": null,
   "id": "2da311a5-00da-41b0-bb03-e145520c1f96",
   "metadata": {},
   "outputs": [],
   "source": [
    "train_df.to_csv('out/gpt4_train.csv', index=False)"
   ]
  },
  {
   "cell_type": "markdown",
   "id": "f4594f85-9d20-43e2-95ff-1b0b2bf3f052",
   "metadata": {},
   "source": [
    "## Evaluate the embeddings"
   ]
  },
  {
   "cell_type": "code",
   "execution_count": 1,
   "id": "deff0675-e6cd-457a-8ce6-c1a3c1cb2c05",
   "metadata": {},
   "outputs": [],
   "source": [
    "import pandas as pd\n",
    "import torch\n",
    "import numpy as np\n",
    "from ast import literal_eval\n",
    "\n",
    "train_df = pd.read_csv('out/gpt4_train.csv')\n",
    "test_df = pd.read_csv('out/gpt4_test.csv')"
   ]
  },
  {
   "cell_type": "code",
   "execution_count": 2,
   "id": "0e037e80-c289-4972-8e80-20ef90006bcc",
   "metadata": {},
   "outputs": [],
   "source": [
    "train_df[\"embedding\"]=train_df[\"embedding\"].apply(literal_eval)\n",
    "train_df.embedding.map(lambda x: x[0])\n",
    "train_list=list(train_df.embedding.values)\n",
    "train_array=np.array(train_list)\n",
    "train_tensor=torch.tensor(train_array, dtype=torch.float64)\n",
    "torch.save(train_tensor, 'out/gpt4_train.pt')"
   ]
  },
  {
   "cell_type": "code",
   "execution_count": 8,
   "id": "22911491-6eb2-43f3-8860-ea6c25bc71b2",
   "metadata": {},
   "outputs": [],
   "source": [
    "test_df[\"embedding\"]=test_df[\"embedding\"].apply(literal_eval)\n",
    "test_df.embedding.map(lambda x: x[0])\n",
    "test_list=list(test_df.embedding.values)\n",
    "test_array=np.array(test_list)\n",
    "test_tensor=torch.tensor(test_array, dtype=torch.float64)\n",
    "torch.save(test_tensor, 'out/gpt4_test.pt')"
   ]
  },
  {
   "cell_type": "code",
   "execution_count": 4,
   "id": "05f3086d-e4db-4eee-8b78-93ea035e91c4",
   "metadata": {},
   "outputs": [],
   "source": [
    "import sys\n",
    "import os\n",
    "from pathlib import Path\n",
    "\n",
    "sys.path.append(sys.path[0] + '/src')\n",
    "\n",
    "from prediction import analyze_data\n",
    "import utils\n",
    "import pandas as pd"
   ]
  },
  {
   "cell_type": "code",
   "execution_count": 5,
   "id": "a1c30608-2d02-4fe9-8dcf-ee2a0ce4500e",
   "metadata": {},
   "outputs": [
    {
     "name": "stdout",
     "output_type": "stream",
     "text": [
      "device: cuda\n",
      "(24892, 4) (13786, 4)\n",
      "Time elapsed: 2.36 seconds, Data predicted: 1\n",
      "Time elapsed: 1059.84 seconds, Data predicted: 5001\n",
      "Time elapsed: 1063.89 seconds, Data predicted: 10001\n",
      "Accuracy of Programming Language prediction: 53.51%\n",
      "Accuracy of Programming Task prediction: 76.21%\n"
     ]
    }
   ],
   "source": [
    "device = utils.getting_device()\n",
    "\n",
    "train_df =pd.read_csv('data/train_24892.csv')\n",
    "test_df = pd.read_csv('data/test_13786.csv')\n",
    "print(train_df.shape, test_df.shape)\n",
    "\n",
    "model = 'gpt4'\n",
    "train_file = 'out/'+model+'_train.pt'\n",
    "test_file = 'out/'+model+'_test.pt'\n",
    "bert_dic_lang, bert_dic_task = analyze_data(model, train_df, test_df, device, train_path = train_file, test_path = test_file, mode = 'two_label')"
   ]
  },
  {
   "cell_type": "code",
   "execution_count": 7,
   "id": "fd9717bc-00d6-4bc0-85d1-d82addba8a2a",
   "metadata": {},
   "outputs": [
    {
     "name": "stdout",
     "output_type": "stream",
     "text": [
      "device: cuda\n",
      "(24892, 4) (13786, 4)\n",
      "Time elapsed: 2.09 seconds, Data predicted: 1\n",
      "Time elapsed: 1075.82 seconds, Data predicted: 5001\n",
      "Time elapsed: 1076.62 seconds, Data predicted: 10001\n",
      "Accuracy of Programming Language prediction: 53.51%\n",
      "Accuracy of Programming Task prediction: 76.21%\n"
     ]
    }
   ],
   "source": [
    "device = utils.getting_device()\n",
    "\n",
    "train_df =pd.read_csv('out/gpt4_train.csv')\n",
    "test_df = pd.read_csv('out/gpt4_test.csv')\n",
    "print(train_df.shape, test_df.shape)\n",
    "\n",
    "model = 'gpt4'\n",
    "train_file = 'out/'+model+'_train.pt'\n",
    "test_file = 'out/'+model+'_test.pt'\n",
    "bert_dic_lang, bert_dic_task = analyze_data(model, train_df, test_df, device, train_path = train_file, test_path = test_file, mode = 'two_label')"
   ]
  }
 ],
 "metadata": {
  "kernelspec": {
   "display_name": "Python 3 (ipykernel)",
   "language": "python",
   "name": "python3"
  },
  "language_info": {
   "codemirror_mode": {
    "name": "ipython",
    "version": 3
   },
   "file_extension": ".py",
   "mimetype": "text/x-python",
   "name": "python",
   "nbconvert_exporter": "python",
   "pygments_lexer": "ipython3",
   "version": "3.8.10"
  }
 },
 "nbformat": 4,
 "nbformat_minor": 5
}
