{
 "cells": [
  {
   "cell_type": "code",
   "execution_count": 23,
   "id": "3c1be1f8",
   "metadata": {},
   "outputs": [
    {
     "name": "stdout",
     "output_type": "stream",
     "text": [
      "Note: you may need to restart the kernel to use updated packages.\n"
     ]
    }
   ],
   "source": [
    "# pip install -q scikit-learn"
   ]
  },
  {
   "cell_type": "code",
   "execution_count": 1,
   "id": "19a54052-3190-4a90-aa12-75f0d5e9036c",
   "metadata": {},
   "outputs": [
    {
     "name": "stderr",
     "output_type": "stream",
     "text": [
      "/home/simin/.local/lib/python3.10/site-packages/tqdm/auto.py:21: TqdmWarning: IProgress not found. Please update jupyter and ipywidgets. See https://ipywidgets.readthedocs.io/en/stable/user_install.html\n",
      "  from .autonotebook import tqdm as notebook_tqdm\n"
     ]
    }
   ],
   "source": [
    "from src.utils import *\n",
    "import pandas as pd\n",
    "from src.prediction import analyze_data"
   ]
  },
  {
   "cell_type": "code",
   "execution_count": 2,
   "id": "01262013-7a28-42b6-8859-6da28859b105",
   "metadata": {},
   "outputs": [
    {
     "name": "stdout",
     "output_type": "stream",
     "text": [
      "device: cuda\n",
      "(24892, 4) (13786, 4)\n"
     ]
    }
   ],
   "source": [
    "device = getting_device()\n",
    "\n",
    "train_df =pd.read_csv('data/train_24892.csv')\n",
    "test_df = pd.read_csv('data/test_13786.csv')\n",
    "print(train_df.shape, test_df.shape)"
   ]
  },
  {
   "cell_type": "markdown",
   "id": "f1892711-fc62-4767-93f9-a99b6b88a218",
   "metadata": {},
   "source": [
    "## Model: BERT, GPT2, RoBERTa"
   ]
  },
  {
   "cell_type": "code",
   "execution_count": 3,
   "id": "6e7e6644-3ca9-443d-9f40-8203be3a4e07",
   "metadata": {},
   "outputs": [
    {
     "name": "stdout",
     "output_type": "stream",
     "text": [
      "out/bert_24892.pt\n",
      "Model vertified: BERT\n"
     ]
    },
    {
     "name": "stderr",
     "output_type": "stream",
     "text": [
      "/home/simin/.local/lib/python3.10/site-packages/transformers/tokenization_utils_base.py:1601: FutureWarning: `clean_up_tokenization_spaces` was not set. It will be set to `True` by default. This behavior will be depracted in transformers v4.45, and will be then set to `False` by default. For more details check this issue: https://github.com/huggingface/transformers/issues/31884\n",
      "  warnings.warn(\n"
     ]
    },
    {
     "name": "stdout",
     "output_type": "stream",
     "text": [
      "Starting extract embeddings......\n",
      "Time elapsed: 233.44 seconds, Data processed:10000\n",
      "Time elapsed: 234.22 seconds, Data processed:20000\n",
      "End of extracting...Number of record: torch.Size([24892, 768])\n",
      "out/bert_13786.pt\n",
      "Model vertified: BERT\n",
      "Starting extract embeddings......\n",
      "Time elapsed: 230.09 seconds, Data processed:10000\n",
      "End of extracting...Number of record: torch.Size([13786, 768])\n"
     ]
    },
    {
     "name": "stderr",
     "output_type": "stream",
     "text": [
      "/home/simin/naturalness_of_code/src/prediction.py:33: FutureWarning: You are using `torch.load` with `weights_only=False` (the current default value), which uses the default pickle module implicitly. It is possible to construct malicious pickle data which will execute arbitrary code during unpickling (See https://github.com/pytorch/pytorch/blob/main/SECURITY.md#untrusted-models for more details). In a future release, the default value for `weights_only` will be flipped to `True`. This limits the functions that could be executed during unpickling. Arbitrary objects will no longer be allowed to be loaded via this mode unless they are explicitly allowlisted by the user via `torch.serialization.add_safe_globals`. We recommend you start setting `weights_only=True` for any use case where you don't have full control of the loaded file. Please open an issue on GitHub for any issues related to this experimental feature.\n",
      "  train_emb = torch.load(train_path, map_location=\"cpu\")\n",
      "/home/simin/naturalness_of_code/src/prediction.py:34: FutureWarning: You are using `torch.load` with `weights_only=False` (the current default value), which uses the default pickle module implicitly. It is possible to construct malicious pickle data which will execute arbitrary code during unpickling (See https://github.com/pytorch/pytorch/blob/main/SECURITY.md#untrusted-models for more details). In a future release, the default value for `weights_only` will be flipped to `True`. This limits the functions that could be executed during unpickling. Arbitrary objects will no longer be allowed to be loaded via this mode unless they are explicitly allowlisted by the user via `torch.serialization.add_safe_globals`. We recommend you start setting `weights_only=True` for any use case where you don't have full control of the loaded file. Please open an issue on GitHub for any issues related to this experimental feature.\n",
      "  test_emb = torch.load(test_path, map_location=\"cpu\")\n"
     ]
    },
    {
     "name": "stdout",
     "output_type": "stream",
     "text": [
      "Time elapsed: 0.18 seconds, Data predicted: 1\n",
      "Time elapsed: 88.42 seconds, Data predicted: 5001\n",
      "Time elapsed: 89.24 seconds, Data predicted: 10001\n",
      "Accuracy of Programming Language prediction: 45.66%\n",
      "Accuracy of Programming Task prediction: 27.88%\n"
     ]
    }
   ],
   "source": [
    "model = 'bert'\n",
    "train_file = 'out/'+model+'_24892.pt'\n",
    "test_file = 'out/'+model+'_13786.pt'\n",
    "bert_dic_lang, bert_dic_task = analyze_data(model, train_df, test_df, device, train_path = train_file, test_path = test_file, mode = 'emb')"
   ]
  },
  {
   "cell_type": "code",
   "execution_count": 5,
   "id": "3224f2fc-86b3-44cf-ac60-98fc8b940159",
   "metadata": {},
   "outputs": [
    {
     "name": "stdout",
     "output_type": "stream",
     "text": [
      "out/gpt_24892.pt\n",
      "Model vertified: GPT\n"
     ]
    },
    {
     "name": "stderr",
     "output_type": "stream",
     "text": [
      "/home/simin/.local/lib/python3.10/site-packages/transformers/tokenization_utils_base.py:1601: FutureWarning: `clean_up_tokenization_spaces` was not set. It will be set to `True` by default. This behavior will be depracted in transformers v4.45, and will be then set to `False` by default. For more details check this issue: https://github.com/huggingface/transformers/issues/31884\n",
      "  warnings.warn(\n"
     ]
    },
    {
     "name": "stdout",
     "output_type": "stream",
     "text": [
      "Starting extract embeddings......\n",
      "Time elapsed: 396.79 seconds, Data processed:10000\n",
      "Time elapsed: 397.86 seconds, Data processed:20000\n",
      "End of extracting...Number of record: torch.Size([24892, 768])\n",
      "out/gpt_13786.pt\n",
      "Model vertified: GPT\n",
      "Starting extract embeddings......\n",
      "Time elapsed: 512.09 seconds, Data processed:10000\n",
      "End of extracting...Number of record: torch.Size([13786, 768])\n"
     ]
    },
    {
     "name": "stderr",
     "output_type": "stream",
     "text": [
      "/home/simin/naturalness_of_code/src/prediction.py:33: FutureWarning: You are using `torch.load` with `weights_only=False` (the current default value), which uses the default pickle module implicitly. It is possible to construct malicious pickle data which will execute arbitrary code during unpickling (See https://github.com/pytorch/pytorch/blob/main/SECURITY.md#untrusted-models for more details). In a future release, the default value for `weights_only` will be flipped to `True`. This limits the functions that could be executed during unpickling. Arbitrary objects will no longer be allowed to be loaded via this mode unless they are explicitly allowlisted by the user via `torch.serialization.add_safe_globals`. We recommend you start setting `weights_only=True` for any use case where you don't have full control of the loaded file. Please open an issue on GitHub for any issues related to this experimental feature.\n",
      "  train_emb = torch.load(train_path, map_location=\"cpu\")\n",
      "/home/simin/naturalness_of_code/src/prediction.py:34: FutureWarning: You are using `torch.load` with `weights_only=False` (the current default value), which uses the default pickle module implicitly. It is possible to construct malicious pickle data which will execute arbitrary code during unpickling (See https://github.com/pytorch/pytorch/blob/main/SECURITY.md#untrusted-models for more details). In a future release, the default value for `weights_only` will be flipped to `True`. This limits the functions that could be executed during unpickling. Arbitrary objects will no longer be allowed to be loaded via this mode unless they are explicitly allowlisted by the user via `torch.serialization.add_safe_globals`. We recommend you start setting `weights_only=True` for any use case where you don't have full control of the loaded file. Please open an issue on GitHub for any issues related to this experimental feature.\n",
      "  test_emb = torch.load(test_path, map_location=\"cpu\")\n"
     ]
    },
    {
     "name": "stdout",
     "output_type": "stream",
     "text": [
      "Time elapsed: 0.17 seconds, Data predicted: 1\n",
      "Time elapsed: 88.72 seconds, Data predicted: 5001\n",
      "Time elapsed: 89.83 seconds, Data predicted: 10001\n",
      "Accuracy of Programming Language prediction: 27.86%\n",
      "Accuracy of Programming Task prediction: 8.16%\n"
     ]
    }
   ],
   "source": [
    "model = 'gpt'\n",
    "train_file = 'out/'+model+'_24892.pt'\n",
    "test_file = 'out/'+model+'_13786.pt'\n",
    "gpt_dic_lang, gpt_dic_task = analyze_data(model, train_df, test_df, device, train_path = train_file, test_path = test_file, mode = 'emb')"
   ]
  },
  {
   "cell_type": "code",
   "execution_count": 6,
   "id": "ca2314e9-4b70-4cd0-8310-c4b75c3c22ff",
   "metadata": {},
   "outputs": [
    {
     "name": "stdout",
     "output_type": "stream",
     "text": [
      "out/roberta_24892.pt\n",
      "Model vertified: RoBERTa\n"
     ]
    },
    {
     "name": "stderr",
     "output_type": "stream",
     "text": [
      "/home/simin/.local/lib/python3.10/site-packages/transformers/tokenization_utils_base.py:1601: FutureWarning: `clean_up_tokenization_spaces` was not set. It will be set to `True` by default. This behavior will be depracted in transformers v4.45, and will be then set to `False` by default. For more details check this issue: https://github.com/huggingface/transformers/issues/31884\n",
      "  warnings.warn(\n",
      "Some weights of RobertaModel were not initialized from the model checkpoint at roberta-base and are newly initialized: ['roberta.pooler.dense.bias', 'roberta.pooler.dense.weight']\n",
      "You should probably TRAIN this model on a down-stream task to be able to use it for predictions and inference.\n"
     ]
    },
    {
     "name": "stdout",
     "output_type": "stream",
     "text": [
      "Starting extract embeddings......\n",
      "Time elapsed: 234.07 seconds, Data processed:10000\n",
      "Time elapsed: 236.22 seconds, Data processed:20000\n",
      "End of extracting...Number of record: torch.Size([24892, 768])\n",
      "out/roberta_13786.pt\n",
      "Model vertified: RoBERTa\n"
     ]
    },
    {
     "name": "stderr",
     "output_type": "stream",
     "text": [
      "Some weights of RobertaModel were not initialized from the model checkpoint at roberta-base and are newly initialized: ['roberta.pooler.dense.bias', 'roberta.pooler.dense.weight']\n",
      "You should probably TRAIN this model on a down-stream task to be able to use it for predictions and inference.\n"
     ]
    },
    {
     "name": "stdout",
     "output_type": "stream",
     "text": [
      "Starting extract embeddings......\n",
      "Time elapsed: 173.93 seconds, Data processed:10000\n",
      "End of extracting...Number of record: torch.Size([13786, 768])\n"
     ]
    },
    {
     "name": "stderr",
     "output_type": "stream",
     "text": [
      "/home/simin/naturalness_of_code/src/prediction.py:33: FutureWarning: You are using `torch.load` with `weights_only=False` (the current default value), which uses the default pickle module implicitly. It is possible to construct malicious pickle data which will execute arbitrary code during unpickling (See https://github.com/pytorch/pytorch/blob/main/SECURITY.md#untrusted-models for more details). In a future release, the default value for `weights_only` will be flipped to `True`. This limits the functions that could be executed during unpickling. Arbitrary objects will no longer be allowed to be loaded via this mode unless they are explicitly allowlisted by the user via `torch.serialization.add_safe_globals`. We recommend you start setting `weights_only=True` for any use case where you don't have full control of the loaded file. Please open an issue on GitHub for any issues related to this experimental feature.\n",
      "  train_emb = torch.load(train_path, map_location=\"cpu\")\n",
      "/home/simin/naturalness_of_code/src/prediction.py:34: FutureWarning: You are using `torch.load` with `weights_only=False` (the current default value), which uses the default pickle module implicitly. It is possible to construct malicious pickle data which will execute arbitrary code during unpickling (See https://github.com/pytorch/pytorch/blob/main/SECURITY.md#untrusted-models for more details). In a future release, the default value for `weights_only` will be flipped to `True`. This limits the functions that could be executed during unpickling. Arbitrary objects will no longer be allowed to be loaded via this mode unless they are explicitly allowlisted by the user via `torch.serialization.add_safe_globals`. We recommend you start setting `weights_only=True` for any use case where you don't have full control of the loaded file. Please open an issue on GitHub for any issues related to this experimental feature.\n",
      "  test_emb = torch.load(test_path, map_location=\"cpu\")\n"
     ]
    },
    {
     "name": "stdout",
     "output_type": "stream",
     "text": [
      "Time elapsed: 0.17 seconds, Data predicted: 1\n",
      "Time elapsed: 88.73 seconds, Data predicted: 5001\n",
      "Time elapsed: 88.93 seconds, Data predicted: 10001\n",
      "Accuracy of Programming Language prediction: 37.73%\n",
      "Accuracy of Programming Task prediction: 13.24%\n"
     ]
    }
   ],
   "source": [
    "model = 'roberta'\n",
    "train_file = 'out/'+model+'_24892.pt'\n",
    "test_file = 'out/'+model+'_13786.pt'\n",
    "roberta_dic_lang, roberta_dic_task = analyze_data(model, train_df, test_df, device, train_path = train_file, test_path = test_file, mode = 'emb')"
   ]
  },
  {
   "cell_type": "markdown",
   "id": "9834255f-b132-4610-9261-ab4f43acadba",
   "metadata": {},
   "source": [
    "## Model: CodeBERT, CodeGPT"
   ]
  },
  {
   "cell_type": "code",
   "execution_count": 7,
   "id": "ce9b5f39-f456-4688-9c7c-0213f9420381",
   "metadata": {},
   "outputs": [
    {
     "name": "stdout",
     "output_type": "stream",
     "text": [
      "out/codebert_24892.pt\n",
      "Model vertified: CodeBERT\n"
     ]
    },
    {
     "name": "stderr",
     "output_type": "stream",
     "text": [
      "/home/simin/.local/lib/python3.10/site-packages/transformers/tokenization_utils_base.py:1601: FutureWarning: `clean_up_tokenization_spaces` was not set. It will be set to `True` by default. This behavior will be depracted in transformers v4.45, and will be then set to `False` by default. For more details check this issue: https://github.com/huggingface/transformers/issues/31884\n",
      "  warnings.warn(\n"
     ]
    },
    {
     "name": "stdout",
     "output_type": "stream",
     "text": [
      "Starting extract embeddings......\n",
      "Time elapsed: 234.36 seconds, Data processed:10000\n",
      "Time elapsed: 234.62 seconds, Data processed:20000\n",
      "End of extracting...Number of record: torch.Size([24892, 768])\n",
      "out/codebert_13786.pt\n",
      "Model vertified: CodeBERT\n",
      "Starting extract embeddings......\n",
      "Time elapsed: 233.67 seconds, Data processed:10000\n",
      "End of extracting...Number of record: torch.Size([13786, 768])\n"
     ]
    },
    {
     "name": "stderr",
     "output_type": "stream",
     "text": [
      "/home/simin/naturalness_of_code/src/prediction.py:33: FutureWarning: You are using `torch.load` with `weights_only=False` (the current default value), which uses the default pickle module implicitly. It is possible to construct malicious pickle data which will execute arbitrary code during unpickling (See https://github.com/pytorch/pytorch/blob/main/SECURITY.md#untrusted-models for more details). In a future release, the default value for `weights_only` will be flipped to `True`. This limits the functions that could be executed during unpickling. Arbitrary objects will no longer be allowed to be loaded via this mode unless they are explicitly allowlisted by the user via `torch.serialization.add_safe_globals`. We recommend you start setting `weights_only=True` for any use case where you don't have full control of the loaded file. Please open an issue on GitHub for any issues related to this experimental feature.\n",
      "  train_emb = torch.load(train_path, map_location=\"cpu\")\n",
      "/home/simin/naturalness_of_code/src/prediction.py:34: FutureWarning: You are using `torch.load` with `weights_only=False` (the current default value), which uses the default pickle module implicitly. It is possible to construct malicious pickle data which will execute arbitrary code during unpickling (See https://github.com/pytorch/pytorch/blob/main/SECURITY.md#untrusted-models for more details). In a future release, the default value for `weights_only` will be flipped to `True`. This limits the functions that could be executed during unpickling. Arbitrary objects will no longer be allowed to be loaded via this mode unless they are explicitly allowlisted by the user via `torch.serialization.add_safe_globals`. We recommend you start setting `weights_only=True` for any use case where you don't have full control of the loaded file. Please open an issue on GitHub for any issues related to this experimental feature.\n",
      "  test_emb = torch.load(test_path, map_location=\"cpu\")\n"
     ]
    },
    {
     "name": "stdout",
     "output_type": "stream",
     "text": [
      "Time elapsed: 0.18 seconds, Data predicted: 1\n",
      "Time elapsed: 88.44 seconds, Data predicted: 5001\n",
      "Time elapsed: 88.26 seconds, Data predicted: 10001\n",
      "Accuracy of Programming Language prediction: 32.95%\n",
      "Accuracy of Programming Task prediction: 9.45%\n"
     ]
    }
   ],
   "source": [
    "model = 'codebert'\n",
    "train_file = 'out/'+model+'_24892.pt'\n",
    "test_file = 'out/'+model+'_13786.pt'\n",
    "codebert_dic_lang, codebert_dic_task = analyze_data(model, train_df, test_df, device, train_path = train_file, test_path = test_file, mode = 'emb')"
   ]
  },
  {
   "cell_type": "code",
   "execution_count": 8,
   "id": "514d27fd-95bc-4bf0-9ceb-df091371f3fb",
   "metadata": {},
   "outputs": [
    {
     "name": "stdout",
     "output_type": "stream",
     "text": [
      "out/codegpt_24892.pt\n",
      "Model vertified: CodeGPT\n"
     ]
    },
    {
     "name": "stderr",
     "output_type": "stream",
     "text": [
      "/home/simin/.local/lib/python3.10/site-packages/transformers/tokenization_utils_base.py:1601: FutureWarning: `clean_up_tokenization_spaces` was not set. It will be set to `True` by default. This behavior will be depracted in transformers v4.45, and will be then set to `False` by default. For more details check this issue: https://github.com/huggingface/transformers/issues/31884\n",
      "  warnings.warn(\n"
     ]
    },
    {
     "name": "stdout",
     "output_type": "stream",
     "text": [
      "Starting extract embeddings......\n",
      "Time elapsed: 396.23 seconds, Data processed:10000\n",
      "Time elapsed: 397.12 seconds, Data processed:20000\n",
      "End of extracting...Number of record: torch.Size([24892, 768])\n",
      "out/codegpt_13786.pt\n",
      "Model vertified: CodeGPT\n",
      "Starting extract embeddings......\n",
      "Time elapsed: 395.21 seconds, Data processed:10000\n",
      "End of extracting...Number of record: torch.Size([13786, 768])\n"
     ]
    },
    {
     "name": "stderr",
     "output_type": "stream",
     "text": [
      "/home/simin/naturalness_of_code/src/prediction.py:33: FutureWarning: You are using `torch.load` with `weights_only=False` (the current default value), which uses the default pickle module implicitly. It is possible to construct malicious pickle data which will execute arbitrary code during unpickling (See https://github.com/pytorch/pytorch/blob/main/SECURITY.md#untrusted-models for more details). In a future release, the default value for `weights_only` will be flipped to `True`. This limits the functions that could be executed during unpickling. Arbitrary objects will no longer be allowed to be loaded via this mode unless they are explicitly allowlisted by the user via `torch.serialization.add_safe_globals`. We recommend you start setting `weights_only=True` for any use case where you don't have full control of the loaded file. Please open an issue on GitHub for any issues related to this experimental feature.\n",
      "  train_emb = torch.load(train_path, map_location=\"cpu\")\n",
      "/home/simin/naturalness_of_code/src/prediction.py:34: FutureWarning: You are using `torch.load` with `weights_only=False` (the current default value), which uses the default pickle module implicitly. It is possible to construct malicious pickle data which will execute arbitrary code during unpickling (See https://github.com/pytorch/pytorch/blob/main/SECURITY.md#untrusted-models for more details). In a future release, the default value for `weights_only` will be flipped to `True`. This limits the functions that could be executed during unpickling. Arbitrary objects will no longer be allowed to be loaded via this mode unless they are explicitly allowlisted by the user via `torch.serialization.add_safe_globals`. We recommend you start setting `weights_only=True` for any use case where you don't have full control of the loaded file. Please open an issue on GitHub for any issues related to this experimental feature.\n",
      "  test_emb = torch.load(test_path, map_location=\"cpu\")\n"
     ]
    },
    {
     "name": "stdout",
     "output_type": "stream",
     "text": [
      "Time elapsed: 0.17 seconds, Data predicted: 1\n",
      "Time elapsed: 87.95 seconds, Data predicted: 5001\n",
      "Time elapsed: 88.27 seconds, Data predicted: 10001\n",
      "Accuracy of Programming Language prediction: 55.03%\n",
      "Accuracy of Programming Task prediction: 23.60%\n"
     ]
    }
   ],
   "source": [
    "model = 'codegpt'\n",
    "train_file = 'out/'+model+'_24892.pt'\n",
    "test_file = 'out/'+model+'_13786.pt'\n",
    "codegpt_dic_lang, codegpt_dic_task = analyze_data(model, train_df, test_df, device, train_path = train_file, test_path = test_file, mode = 'emb')"
   ]
  },
  {
   "cell_type": "markdown",
   "id": "1d076289-29ef-45ca-9b78-d9808f29c6c1",
   "metadata": {},
   "source": [
    "## Model: Llama, Text-embedding-large-3"
   ]
  },
  {
   "cell_type": "code",
   "execution_count": 23,
   "id": "1edd2f5d-4e78-4b57-ac1e-7ec27357e67b",
   "metadata": {},
   "outputs": [
    {
     "name": "stdout",
     "output_type": "stream",
     "text": [
      "Time elapsed: 2.26 seconds, Data predicted: 1\n",
      "Time elapsed: 966.33 seconds, Data predicted: 5001\n",
      "Time elapsed: 963.33 seconds, Data predicted: 10001\n",
      "Accuracy of Programming Language prediction: 60.62%\n",
      "Accuracy of Programming Task prediction: 8.34%\n"
     ]
    }
   ],
   "source": [
    "model = 'falcon7b'\n",
    "train_file = 'out/'+model+'_24892.pt'\n",
    "test_file = 'out/'+model+'_13786.pt'\n",
    "llama_dic_lang, llama_dic_task = analyze_data(model, train_df, test_df, device, train_path = train_file, test_path = test_file, mode = 'two_label')"
   ]
  },
  {
   "cell_type": "code",
   "execution_count": 22,
   "id": "3d1564c0-e48c-4ce7-b656-63bb12ecd926",
   "metadata": {},
   "outputs": [
    {
     "name": "stdout",
     "output_type": "stream",
     "text": [
      "Time elapsed: 2.03 seconds, Data predicted: 1\n",
      "Time elapsed: 901.80 seconds, Data predicted: 5001\n",
      "Time elapsed: 894.32 seconds, Data predicted: 10001\n",
      "Accuracy of Programming Language prediction: 66.41%\n",
      "Accuracy of Programming Task prediction: 28.58%\n"
     ]
    }
   ],
   "source": [
    "model = 'llama7b'\n",
    "train_file = 'out/'+model+'_24892.pt'\n",
    "test_file = 'out/'+model+'_13786.pt'\n",
    "llama_dic_lang, llama_dic_task = analyze_data(model, train_df, test_df, device, train_path = train_file, test_path = test_file, mode = 'emb')\n",
    "llama_dic_lang, llama_dic_task = analyze_data(model, train_df, test_df, device, train_path = train_file, test_path = test_file, mode = 'two_label')"
   ]
  },
  {
   "cell_type": "code",
   "execution_count": 10,
   "id": "c04c7b38-fd89-4771-8aa4-e046638f0a24",
   "metadata": {},
   "outputs": [
    {
     "name": "stdout",
     "output_type": "stream",
     "text": [
      "Time elapsed: 2.57 seconds, Data predicted: 1\n",
      "Time elapsed: 1242.94 seconds, Data predicted: 5001\n",
      "Time elapsed: 1271.57 seconds, Data predicted: 10001\n",
      "Accuracy of Programming Language prediction: 53.51%\n",
      "Accuracy of Programming Task prediction: 76.21%\n"
     ]
    }
   ],
   "source": [
    "model = 'text3'\n",
    "train_file = 'out/'+model+'_24892.pt'\n",
    "test_file = 'out/'+model+'_13786.pt'\n",
    "text3_dic_lang, text3_dic_task = analyze_data(model, train_df, test_df, device, train_path = train_file, test_path = test_file, mode = 'two_label')"
   ]
  },
  {
   "cell_type": "markdown",
   "id": "f0011f91-9852-47e2-b956-1d638c84598e",
   "metadata": {},
   "source": [
    "## Histogram"
   ]
  },
  {
   "cell_type": "code",
   "execution_count": 9,
   "id": "844cc2a7-f2aa-44b9-bd0a-46a6fa1f6325",
   "metadata": {},
   "outputs": [],
   "source": [
    "# import prediction\n",
    "# import importlib \n",
    "# importlib.reload(prediction)\n",
    "\n",
    "from src.prediction import count_data, plot_multi_count"
   ]
  },
  {
   "cell_type": "code",
   "execution_count": 10,
   "id": "7b676d9f-7d8f-4b40-a364-f6fd8a59adf3",
   "metadata": {},
   "outputs": [
    {
     "data": {
      "image/png": "[encoded data removed]",
      "text/plain": [
       "<Figure size 640x480 with 1 Axes>"
      ]
     },
     "metadata": {},
     "output_type": "display_data"
    }
   ],
   "source": [
    "dataset_lang = [bert_dic_lang, gpt_dic_lang, roberta_dic_lang, codegpt_dic_lang, codebert_dic_lang]\n",
    "data_labels = ['BERT', 'GPT2' , 'RoBERTa', 'CodeGPT' , 'CodeBERT']\n",
    "\n",
    "counts = [count_data(data) for data in dataset_lang]\n",
    "plot_multi_count(counts, data_labels, 'lang')"
   ]
  },
  {
   "cell_type": "code",
   "execution_count": 11,
   "id": "6fd11b7d-f3cd-434f-b661-06665c715e45",
   "metadata": {},
   "outputs": [
    {
     "data": {
      "image/png": "[encoded data removed]",
      "text/plain": [
       "<Figure size 640x480 with 1 Axes>"
      ]
     },
     "metadata": {},
     "output_type": "display_data"
    }
   ],
   "source": [
    "dataset_task = [bert_dic_task, gpt_dic_task, roberta_dic_task, codegpt_dic_task, codebert_dic_task]\n",
    "\n",
    "counts = [count_data(data) for data in dataset_task]\n",
    "plot_multi_count(counts, data_labels, 'task')"
   ]
  },
  {
   "cell_type": "markdown",
   "id": "513a15cd-773c-4e79-a095-c1440995f085",
   "metadata": {},
   "source": [
    "## Saving/Loading data from the pickle files"
   ]
  },
  {
   "cell_type": "code",
   "execution_count": 12,
   "id": "25cfc274-667d-4469-ada7-ea66036b1281",
   "metadata": {},
   "outputs": [],
   "source": [
    "import pickle\n",
    "for i in range(len(data_labels)):\n",
    "    with open('out/lang_'+data_labels[i]+'.pkl', 'wb') as fp:\n",
    "        pickle.dump(dataset_lang[i], fp)\n",
    "    with open('out/task_'+data_labels[i]+'.pkl', 'wb') as fp:\n",
    "        pickle.dump(dataset_task[i], fp)"
   ]
  },
  {
   "cell_type": "code",
   "execution_count": 13,
   "id": "7e9be20e-57e3-4639-8b9d-7638f7aa31e2",
   "metadata": {},
   "outputs": [],
   "source": [
    "import pickle\n",
    "\n",
    "bert_dic_lang, gpt_dic_lang, roberta_dic_lang, codegpt_dic_lang, codebert_dic_lang = {}, {}, {}, {}, {}\n",
    "bert_dic_task, gpt_dic_task, roberta_dic_task, codegpt_dic_task, codebert_dic_task  = {}, {}, {}, {}, {}\n",
    "dataset_lang = [bert_dic_lang, gpt_dic_lang, roberta_dic_lang, codegpt_dic_lang, codebert_dic_lang]\n",
    "dataset_task = [bert_dic_task, gpt_dic_task, roberta_dic_task, codegpt_dic_task, codebert_dic_task]\n",
    "data_labels = ['BERT', 'GPT2' , 'RoBERTa' , 'CodeGPT' , 'CodeBERT']\n",
    "for i in range(len(data_labels)):\n",
    "    with open('out/lang_'+data_labels[i]+'.pkl', 'rb') as handle:\n",
    "        dataset_lang[i] = pickle.load(handle)\n",
    "    with open('out/task_'+data_labels[i]+'.pkl', 'rb') as handle:\n",
    "        dataset_task[i] = pickle.load(handle)"
   ]
  },
  {
   "cell_type": "markdown",
   "id": "248947e2-5dc3-4772-9a01-ed41a0202fd2",
   "metadata": {},
   "source": [
    "## Two-Sample test"
   ]
  },
  {
   "cell_type": "code",
   "execution_count": 14,
   "id": "93814de6-7dcb-4cdd-a4fd-888b0d32ea2c",
   "metadata": {},
   "outputs": [
    {
     "name": "stdout",
     "output_type": "stream",
     "text": [
      "Model:BERT, Language statistic: 0.8389867355384804, Task statistic: 0.9468104984555334 \n",
      "Model:GPT2, Language statistic: 0.6689550886772949, Task statistic: 0.8162835036330365 \n",
      "Model:RoBERTa, Language statistic: 0.7742840559356102, Task statistic: 0.8609597086584422 \n",
      "Model:CodeGPT, Language statistic: 0.8641785615098327, Task statistic: 0.9472900737064552 \n",
      "Model:CodeBERT, Language statistic: 0.6982844795596106, Task statistic: 0.8317361354994017 \n"
     ]
    }
   ],
   "source": [
    "from scipy import stats\n",
    "import numpy as np\n",
    "\n",
    "data_labels = ['BERT', 'GPT2' ,'RoBERTa' , 'CodeGPT' , 'CodeBERT']\n",
    "\n",
    "for i in range(len(data_labels)):\n",
    "    model = data_labels[i]\n",
    "    # Filter the dataset for the two species we want to compare:\n",
    "    language_acc = np.array(list(dataset_lang[i].values()))\n",
    "    task_acc = np.array(list(dataset_task[i].values()))\n",
    "\n",
    "    res_lang = stats.shapiro(language_acc)\n",
    "    res_task = stats.shapiro(task_acc)\n",
    "    print('Model:{}, Language statistic: {}, Task statistic: {} '.format(model, res_lang.statistic, res_task.statistic))"
   ]
  },
  {
   "cell_type": "code",
   "execution_count": 18,
   "id": "abf4aa30-720e-465e-a73c-2c2ac13459e2",
   "metadata": {},
   "outputs": [
    {
     "name": "stdout",
     "output_type": "stream",
     "text": [
      "BERT t_stat 0.3057650535625449 p_value 0.7598438599023245\n",
      ": Fail to reject the null hypothesis; there is no significant difference between the accuracy distribution of PL and PT\n",
      "GPT2 t_stat 5.0225564093129815 p_value 5.983935406543958e-07\n",
      ": Reject the null hypothesis; there is a significant difference between the accuracy distribution of PL and PT\n",
      "RoBERTa t_stat 5.8512966141465474 p_value 6.503435151424992e-09\n",
      ": Reject the null hypothesis; there is a significant difference between the accuracy distribution of PL and PT\n",
      "CodeGPT t_stat 6.745524072157861 p_value 2.5085527042434152e-11\n",
      ": Reject the null hypothesis; there is a significant difference between the accuracy distribution of PL and PT\n",
      "CodeBERT t_stat 5.985604814718511 p_value 2.951036821378028e-09\n",
      ": Reject the null hypothesis; there is a significant difference between the accuracy distribution of PL and PT\n"
     ]
    }
   ],
   "source": [
    "import seaborn as sns\n",
    "from scipy import stats\n",
    "import numpy as np\n",
    "\n",
    "data_labels = ['BERT', 'GPT2', 'RoBERTa' , 'CodeGPT' , 'CodeBERT' ]\n",
    "\n",
    "for i in range(len(data_labels)):\n",
    "    model = data_labels[i]\n",
    "    # Filter the dataset for the two species we want to compare:\n",
    "    language_acc = np.array(list(dataset_lang[i].values()))\n",
    "    task_acc = np.array(list(dataset_task[i].values()))\n",
    "    \n",
    "    ## Perform the t-test:\n",
    "    t_stat, p_value = stats.ttest_ind(language_acc, task_acc)\n",
    "    print(model, 't_stat', t_stat, 'p_value', p_value)\n",
    "    \n",
    "    # Interpret the results:\n",
    "    alpha = 0.05\n",
    "    if p_value < alpha:\n",
    "        print(\": Reject the null hypothesis; there is a significant difference between the accuracy distribution of PL and PT\")\n",
    "    else:\n",
    "        print(\": Fail to reject the null hypothesis; there is no significant difference between the accuracy distribution of PL and PT\")"
   ]
  }
 ],
 "metadata": {
  "kernelspec": {
   "display_name": "code",
   "language": "python",
   "name": "python3"
  },
  "language_info": {
   "codemirror_mode": {
    "name": "ipython",
    "version": 3
   },
   "file_extension": ".py",
   "mimetype": "text/x-python",
   "name": "python",
   "nbconvert_exporter": "python",
   "pygments_lexer": "ipython3",
   "version": "3.10.6"
  }
 },
 "nbformat": 4,
 "nbformat_minor": 5
}
