{
 "cells": [
  {
   "cell_type": "code",
   "execution_count": 2,
   "id": "2da311a5-00da-41b0-bb03-e145520c1f96",
   "metadata": {},
   "outputs": [],
   "source": [
    "import sys\n",
    "import os\n",
    "from pathlib import Path\n",
    "\n",
    "sys.path.append(sys.path[0] + '/src')\n",
    "\n",
    "from prediction import analyze_data\n",
    "import utils\n",
    "import pandas as pd"
   ]
  },
  {
   "cell_type": "markdown",
   "id": "f4594f85-9d20-43e2-95ff-1b0b2bf3f052",
   "metadata": {
    "jp-MarkdownHeadingCollapsed": true
   },
   "source": [
    "## Evaluate the embeddings"
   ]
  },
  {
   "cell_type": "code",
   "execution_count": null,
   "id": "deff0675-e6cd-457a-8ce6-c1a3c1cb2c05",
   "metadata": {},
   "outputs": [],
   "source": [
    "import pandas as pd\n",
    "import torch\n",
    "import numpy as np\n",
    "from ast import literal_eval\n",
    "\n",
    "train_df = pd.read_csv('out/gpt4_train.csv')\n",
    "test_df = pd.read_csv('out/gpt4_test.csv')"
   ]
  },
  {
   "cell_type": "code",
   "execution_count": 2,
   "id": "0e037e80-c289-4972-8e80-20ef90006bcc",
   "metadata": {},
   "outputs": [],
   "source": [
    "train_df[\"embedding\"]=train_df[\"embedding\"].apply(literal_eval)\n",
    "train_df.embedding.map(lambda x: x[0])\n",
    "train_list=list(train_df.embedding.values)\n",
    "train_array=np.array(train_list)\n",
    "train_tensor=torch.tensor(train_array, dtype=torch.float64)\n",
    "torch.save(train_tensor, 'out/gpt4_train.pt')"
   ]
  },
  {
   "cell_type": "code",
   "execution_count": 8,
   "id": "22911491-6eb2-43f3-8860-ea6c25bc71b2",
   "metadata": {},
   "outputs": [],
   "source": [
    "test_df[\"embedding\"]=test_df[\"embedding\"].apply(literal_eval)\n",
    "test_df.embedding.map(lambda x: x[0])\n",
    "test_list=list(test_df.embedding.values)\n",
    "test_array=np.array(test_list)\n",
    "test_tensor=torch.tensor(test_array, dtype=torch.float64)\n",
    "torch.save(test_tensor, 'out/gpt4_test.pt')"
   ]
  },
  {
   "cell_type": "code",
   "execution_count": 5,
   "id": "a1c30608-2d02-4fe9-8dcf-ee2a0ce4500e",
   "metadata": {},
   "outputs": [
    {
     "name": "stdout",
     "output_type": "stream",
     "text": [
      "device: cuda\n",
      "(24892, 4) (13786, 4)\n",
      "Time elapsed: 2.36 seconds, Data predicted: 1\n",
      "Time elapsed: 1059.84 seconds, Data predicted: 5001\n",
      "Time elapsed: 1063.89 seconds, Data predicted: 10001\n",
      "Accuracy of Programming Language prediction: 53.51%\n",
      "Accuracy of Programming Task prediction: 76.21%\n"
     ]
    }
   ],
   "source": [
    "device = utils.getting_device()\n",
    "\n",
    "train_df =pd.read_csv('data/train_24892.csv')\n",
    "test_df = pd.read_csv('data/test_13786.csv')\n",
    "print(train_df.shape, test_df.shape)\n",
    "\n",
    "model = 'gpt4'\n",
    "train_file = 'out/'+model+'_24892.pt'\n",
    "test_file = 'out/'+model+'_13786.pt'\n",
    "bert_dic_lang, bert_dic_task = analyze_data(model, train_df, test_df, device, train_path = train_file, test_path = test_file, mode = 'two_label')"
   ]
  },
  {
   "cell_type": "code",
   "execution_count": 7,
   "id": "fd9717bc-00d6-4bc0-85d1-d82addba8a2a",
   "metadata": {},
   "outputs": [
    {
     "name": "stdout",
     "output_type": "stream",
     "text": [
      "device: cuda\n",
      "(24892, 4) (13786, 4)\n",
      "Time elapsed: 2.09 seconds, Data predicted: 1\n",
      "Time elapsed: 1075.82 seconds, Data predicted: 5001\n",
      "Time elapsed: 1076.62 seconds, Data predicted: 10001\n",
      "Accuracy of Programming Language prediction: 53.51%\n",
      "Accuracy of Programming Task prediction: 76.21%\n"
     ]
    }
   ],
   "source": [
    "device = utils.getting_device()\n",
    "\n",
    "train_df =pd.read_csv('out/gpt4_train.csv')\n",
    "test_df = pd.read_csv('out/gpt4_test.csv')\n",
    "print(train_df.shape, test_df.shape)\n",
    "\n",
    "model = 'gpt4'\n",
    "train_file = 'out/'+model+'_24892.pt'\n",
    "test_file = 'out/'+model+'_13786.pt'\n",
    "bert_dic_lang, bert_dic_task = analyze_data(model, train_df, test_df, device, train_path = train_file, test_path = test_file, mode = 'two_label')"
   ]
  },
  {
   "cell_type": "markdown",
   "id": "a8bc7593-669e-463b-9b3d-8f47caa18abb",
   "metadata": {},
   "source": [
    "## Falcon_7b"
   ]
  },
  {
   "cell_type": "code",
   "execution_count": null,
   "id": "374ffb89-af8b-4455-a9fa-0270b5ab73e6",
   "metadata": {},
   "outputs": [],
   "source": [
    "model_id = \"../model/falcon7b\"\n",
    "tokenizer = AutoTokenizer.from_pretrained(\"../model/falcon7b\", trust_remote_code=True)\n",
    "model = AutoModel.from_pretrained(\"../model/falcon7b\", trust_remote_code=True, load_in_8bit=True, torch_dtype=torch.float16).to(device)\n",
    "if tokenizer.pad_token is None:\n",
    "    tokenizer.add_special_tokens({'pad_token': '[PAD]'})\n",
    "    model.resize_token_embeddings(len(tokenizer))"
   ]
  },
  {
   "cell_type": "code",
   "execution_count": 2,
   "id": "71b288ce-ae64-4ca0-a493-44b03a7df476",
   "metadata": {},
   "outputs": [
    {
     "name": "stdout",
     "output_type": "stream",
     "text": [
      "device: cuda\n",
      "(24892, 4) (13786, 4)\n",
      "Time elapsed: 1.70 seconds, Data predicted: 1\n",
      "Time elapsed: 757.15 seconds, Data predicted: 5001\n",
      "Time elapsed: 775.15 seconds, Data predicted: 10001\n",
      "Accuracy of Programming Language prediction: 21.34%\n",
      "Accuracy of Programming Task prediction: 3.15%\n"
     ]
    }
   ],
   "source": [
    "device = utils.getting_device()\n",
    "\n",
    "train_df =pd.read_csv('data/train_24892.csv')\n",
    "test_df = pd.read_csv('data/test_13786.csv')\n",
    "print(train_df.shape, test_df.shape)\n",
    "\n",
    "model = 'falcon7b'\n",
    "train_file = 'out/'+model+'_24892.pt'\n",
    "test_file = 'out/'+model+'_13786.pt'\n",
    "falcon_dic_lang, falcon_dic_task = analyze_data(model, train_df, test_df, device, train_path = train_file, test_path = test_file, mode = 'two_label')"
   ]
  },
  {
   "cell_type": "markdown",
   "id": "a7b35cf9-d0ab-426e-b8d7-729e6ebb0f0b",
   "metadata": {},
   "source": [
    "## Llama"
   ]
  },
  {
   "cell_type": "code",
   "execution_count": 3,
   "id": "504b2bec-f4e1-48e6-9442-2202f916efa1",
   "metadata": {},
   "outputs": [
    {
     "name": "stdout",
     "output_type": "stream",
     "text": [
      "device: cuda\n",
      "(24892, 4) (13786, 4)\n"
     ]
    }
   ],
   "source": [
    "device = utils.getting_device()\n",
    "\n",
    "train_df =pd.read_csv('data/train_24892.csv')\n",
    "test_df = pd.read_csv('data/test_13786.csv')\n",
    "print(train_df.shape, test_df.shape)"
   ]
  },
  {
   "cell_type": "code",
   "execution_count": 5,
   "id": "1c05a26f-a455-48d1-94b9-f5b8c8d6e2c1",
   "metadata": {},
   "outputs": [
    {
     "name": "stdout",
     "output_type": "stream",
     "text": [
      "Time elapsed: 1.65 seconds, Data predicted: 1\n",
      "Time elapsed: 686.06 seconds, Data predicted: 5001\n",
      "Time elapsed: 685.05 seconds, Data predicted: 10001\n",
      "Accuracy of Programming Language prediction: 65.17%\n",
      "Accuracy of Programming Task prediction: 25.50%\n"
     ]
    }
   ],
   "source": [
    "model = 'llama'\n",
    "train_file = 'out/'+model+'_24892.pt'\n",
    "test_file = 'out/'+model+'_13786.pt'\n",
    "llama_dic_lang, llama_dic_task = analyze_data(model, train_df, test_df, device, train_path = train_file, test_path = test_file, mode = 'two_label')"
   ]
  },
  {
   "cell_type": "code",
   "execution_count": null,
   "id": "1e663462-4f36-45b5-a776-f2ec26c5045b",
   "metadata": {},
   "outputs": [],
   "source": []
  }
 ],
 "metadata": {
  "kernelspec": {
   "display_name": "Python 3 (ipykernel)",
   "language": "python",
   "name": "python3"
  },
  "language_info": {
   "codemirror_mode": {
    "name": "ipython",
    "version": 3
   },
   "file_extension": ".py",
   "mimetype": "text/x-python",
   "name": "python",
   "nbconvert_exporter": "python",
   "pygments_lexer": "ipython3",
   "version": "3.8.10"
  }
 },
 "nbformat": 4,
 "nbformat_minor": 5
}
