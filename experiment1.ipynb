{
 "cells": [
  {
   "cell_type": "code",
   "execution_count": 19,
   "id": "73db285f-2b40-44b8-8c51-0727b48889bc",
   "metadata": {},
   "outputs": [],
   "source": [
    "import sys\n",
    "import os\n",
    "from pathlib import Path\n",
    "\n",
    "sys.path.append(sys.path[0] + '/src')"
   ]
  },
  {
   "cell_type": "code",
   "execution_count": 20,
   "id": "19a54052-3190-4a90-aa12-75f0d5e9036c",
   "metadata": {},
   "outputs": [],
   "source": [
    "import utils\n",
    "import pandas as pd\n",
    "from prediction import analyze_data, plot_count, count_data, plot_multi_count, part_task_analysis"
   ]
  },
  {
   "cell_type": "code",
   "execution_count": 21,
   "id": "01262013-7a28-42b6-8859-6da28859b105",
   "metadata": {},
   "outputs": [
    {
     "name": "stdout",
     "output_type": "stream",
     "text": [
      "device: cuda\n",
      "(24892, 4) (13786, 4)\n"
     ]
    }
   ],
   "source": [
    "device = utils.getting_device()\n",
    "\n",
    "train_df =pd.read_csv('data/train_24892.csv')\n",
    "test_df = pd.read_csv('data/test_13786.csv')\n",
    "print(train_df.shape, test_df.shape)"
   ]
  },
  {
   "cell_type": "markdown",
   "id": "f1892711-fc62-4767-93f9-a99b6b88a218",
   "metadata": {},
   "source": [
    "## Model: BERT, GPT2, RoBERTa"
   ]
  },
  {
   "cell_type": "code",
   "execution_count": 4,
   "id": "6e7e6644-3ca9-443d-9f40-8203be3a4e07",
   "metadata": {},
   "outputs": [
    {
     "name": "stdout",
     "output_type": "stream",
     "text": [
      "Time elapsed: 0.40 seconds, Data predicted: 1\n",
      "Time elapsed: 168.47 seconds, Data predicted: 5001\n",
      "Time elapsed: 169.00 seconds, Data predicted: 10001\n",
      "Accuracy of Programming Language prediction: 49.97%\n",
      "Accuracy of Programming Task prediction: 20.03%\n"
     ]
    }
   ],
   "source": [
    "model = 'bert'\n",
    "train_file = 'out/'+model+'_24892.pt'\n",
    "test_file = 'out/'+model+'_13786.pt'\n",
    "bert_dic_lang, bert_dic_task = analyze_data(model, train_df, test_df, device, train_path = train_file, test_path = test_file, mode = 'two_label')"
   ]
  },
  {
   "cell_type": "code",
   "execution_count": 5,
   "id": "3224f2fc-86b3-44cf-ac60-98fc8b940159",
   "metadata": {},
   "outputs": [
    {
     "name": "stdout",
     "output_type": "stream",
     "text": [
      "Time elapsed: 0.35 seconds, Data predicted: 1\n",
      "Time elapsed: 164.92 seconds, Data predicted: 5001\n",
      "Time elapsed: 170.00 seconds, Data predicted: 10001\n",
      "Accuracy of Programming Language prediction: 34.38%\n",
      "Accuracy of Programming Task prediction: 7.41%\n"
     ]
    }
   ],
   "source": [
    "model = 'gpt'\n",
    "train_file = 'out/'+model+'_24892.pt'\n",
    "test_file = 'out/'+model+'_13786.pt'\n",
    "gpt_dic_lang, gpt_dic_task = analyze_data(model, train_df, test_df, device, train_path = train_file, test_path = test_file, mode = 'two_label')"
   ]
  },
  {
   "cell_type": "code",
   "execution_count": 6,
   "id": "ca2314e9-4b70-4cd0-8310-c4b75c3c22ff",
   "metadata": {},
   "outputs": [
    {
     "name": "stdout",
     "output_type": "stream",
     "text": [
      "Time elapsed: 0.33 seconds, Data predicted: 1\n",
      "Time elapsed: 166.06 seconds, Data predicted: 5001\n",
      "Time elapsed: 170.19 seconds, Data predicted: 10001\n",
      "Accuracy of Programming Language prediction: 46.63%\n",
      "Accuracy of Programming Task prediction: 14.65%\n"
     ]
    }
   ],
   "source": [
    "model = 'roberta'\n",
    "train_file = 'out/'+model+'_24892.pt'\n",
    "test_file = 'out/'+model+'_13786.pt'\n",
    "roberta_dic_lang, roberta_dic_task = analyze_data(model, train_df, test_df, device, train_path = train_file, test_path = test_file, mode = 'two_label')"
   ]
  },
  {
   "cell_type": "markdown",
   "id": "9834255f-b132-4610-9261-ab4f43acadba",
   "metadata": {},
   "source": [
    "## Model: CodeBERT, CodeGPT"
   ]
  },
  {
   "cell_type": "code",
   "execution_count": 7,
   "id": "ce9b5f39-f456-4688-9c7c-0213f9420381",
   "metadata": {},
   "outputs": [
    {
     "name": "stdout",
     "output_type": "stream",
     "text": [
      "Time elapsed: 0.33 seconds, Data predicted: 1\n",
      "Time elapsed: 169.48 seconds, Data predicted: 5001\n",
      "Time elapsed: 160.47 seconds, Data predicted: 10001\n",
      "Accuracy of Programming Language prediction: 46.79%\n",
      "Accuracy of Programming Task prediction: 11.63%\n"
     ]
    }
   ],
   "source": [
    "model = 'codebert'\n",
    "train_file = 'out/'+model+'_24892.pt'\n",
    "test_file = 'out/'+model+'_13786.pt'\n",
    "codebert_dic_lang, codebert_dic_task = analyze_data(model, train_df, test_df, device, train_path = train_file, test_path = test_file, mode = 'two_label')"
   ]
  },
  {
   "cell_type": "code",
   "execution_count": 8,
   "id": "514d27fd-95bc-4bf0-9ceb-df091371f3fb",
   "metadata": {},
   "outputs": [
    {
     "name": "stdout",
     "output_type": "stream",
     "text": [
      "Time elapsed: 0.34 seconds, Data predicted: 1\n",
      "Time elapsed: 168.33 seconds, Data predicted: 5001\n",
      "Time elapsed: 175.44 seconds, Data predicted: 10001\n",
      "Accuracy of Programming Language prediction: 57.26%\n",
      "Accuracy of Programming Task prediction: 19.97%\n"
     ]
    }
   ],
   "source": [
    "model = 'codegpt'\n",
    "train_file = 'out/'+model+'_24892.pt'\n",
    "test_file = 'out/'+model+'_13786.pt'\n",
    "codegpt_dic_lang, codegpt_dic_task = analyze_data(model, train_df, test_df, device, train_path = train_file, test_path = test_file, mode = 'two_label')"
   ]
  },
  {
   "cell_type": "markdown",
   "id": "1d076289-29ef-45ca-9b78-d9808f29c6c1",
   "metadata": {},
   "source": [
    "## Model: Llama, Text-embedding-large-3"
   ]
  },
  {
   "cell_type": "code",
   "execution_count": 23,
   "id": "1edd2f5d-4e78-4b57-ac1e-7ec27357e67b",
   "metadata": {},
   "outputs": [
    {
     "name": "stdout",
     "output_type": "stream",
     "text": [
      "Time elapsed: 2.26 seconds, Data predicted: 1\n",
      "Time elapsed: 966.33 seconds, Data predicted: 5001\n",
      "Time elapsed: 963.33 seconds, Data predicted: 10001\n",
      "Accuracy of Programming Language prediction: 60.62%\n",
      "Accuracy of Programming Task prediction: 8.34%\n"
     ]
    }
   ],
   "source": [
    "model = 'falcon7b'\n",
    "train_file = 'out/'+model+'_24892.pt'\n",
    "test_file = 'out/'+model+'_13786.pt'\n",
    "llama_dic_lang, llama_dic_task = analyze_data(model, train_df, test_df, device, train_path = train_file, test_path = test_file, mode = 'two_label')"
   ]
  },
  {
   "cell_type": "code",
   "execution_count": 9,
   "id": "53c2daf2-7920-482d-816d-b8f91ce156b1",
   "metadata": {},
   "outputs": [
    {
     "name": "stdout",
     "output_type": "stream",
     "text": [
      "Time elapsed: 1.97 seconds, Data predicted: 1\n",
      "Time elapsed: 835.97 seconds, Data predicted: 5001\n",
      "Time elapsed: 810.79 seconds, Data predicted: 10001\n",
      "Accuracy of Programming Language prediction: 65.17%\n",
      "Accuracy of Programming Task prediction: 25.50%\n"
     ]
    }
   ],
   "source": [
    "model = 'llama'\n",
    "train_file = 'out/'+model+'_24892.pt'\n",
    "test_file = 'out/'+model+'_13786.pt'\n",
    "llama_dic_lang, llama_dic_task = analyze_data(model, train_df, test_df, device, train_path = train_file, test_path = test_file, mode = 'two_label')"
   ]
  },
  {
   "cell_type": "code",
   "execution_count": 22,
   "id": "3d1564c0-e48c-4ce7-b656-63bb12ecd926",
   "metadata": {},
   "outputs": [
    {
     "name": "stdout",
     "output_type": "stream",
     "text": [
      "Time elapsed: 2.03 seconds, Data predicted: 1\n",
      "Time elapsed: 901.80 seconds, Data predicted: 5001\n",
      "Time elapsed: 894.32 seconds, Data predicted: 10001\n",
      "Accuracy of Programming Language prediction: 66.41%\n",
      "Accuracy of Programming Task prediction: 28.58%\n"
     ]
    }
   ],
   "source": [
    "model = 'llama7b'\n",
    "train_file = 'out/'+model+'_24892.pt'\n",
    "test_file = 'out/'+model+'_13786.pt'\n",
    "llama_dic_lang, llama_dic_task = analyze_data(model, train_df, test_df, device, train_path = train_file, test_path = test_file, mode = 'two_label')"
   ]
  },
  {
   "cell_type": "code",
   "execution_count": 10,
   "id": "c04c7b38-fd89-4771-8aa4-e046638f0a24",
   "metadata": {},
   "outputs": [
    {
     "name": "stdout",
     "output_type": "stream",
     "text": [
      "Time elapsed: 2.57 seconds, Data predicted: 1\n",
      "Time elapsed: 1242.94 seconds, Data predicted: 5001\n",
      "Time elapsed: 1271.57 seconds, Data predicted: 10001\n",
      "Accuracy of Programming Language prediction: 53.51%\n",
      "Accuracy of Programming Task prediction: 76.21%\n"
     ]
    }
   ],
   "source": [
    "model = 'text3'\n",
    "train_file = 'out/'+model+'_24892.pt'\n",
    "test_file = 'out/'+model+'_13786.pt'\n",
    "text3_dic_lang, text3_dic_task = analyze_data(model, train_df, test_df, device, train_path = train_file, test_path = test_file, mode = 'two_label')"
   ]
  },
  {
   "cell_type": "markdown",
   "id": "f0011f91-9852-47e2-b956-1d638c84598e",
   "metadata": {},
   "source": [
    "## Histogram"
   ]
  },
  {
   "cell_type": "code",
   "execution_count": 11,
   "id": "844cc2a7-f2aa-44b9-bd0a-46a6fa1f6325",
   "metadata": {},
   "outputs": [],
   "source": [
    "import prediction\n",
    "import importlib \n",
    "importlib.reload(prediction)\n",
    "\n",
    "import utils\n",
    "import pandas as pd\n",
    "from prediction import analyze_data, plot_count, count_data, plot_multi_count"
   ]
  },
  {
   "cell_type": "code",
   "execution_count": 12,
   "id": "7b676d9f-7d8f-4b40-a364-f6fd8a59adf3",
   "metadata": {},
   "outputs": [
    {
     "data": {
      "image/png": "[encoded data removed]",
      "text/plain": [
       "<Figure size 640x480 with 1 Axes>"
      ]
     },
     "metadata": {},
     "output_type": "display_data"
    }
   ],
   "source": [
    "dataset_lang = [bert_dic_lang, gpt_dic_lang, roberta_dic_lang, codegpt_dic_lang, codebert_dic_lang]\n",
    "data_labels = ['BERT', 'GPT2' , 'RoBERTa', 'CodeGPT' , 'CodeBERT']\n",
    "\n",
    "counts = [count_data(data) for data in dataset_lang]\n",
    "plot_multi_count(counts, data_labels, 'lang')"
   ]
  },
  {
   "cell_type": "code",
   "execution_count": 13,
   "id": "6fd11b7d-f3cd-434f-b661-06665c715e45",
   "metadata": {},
   "outputs": [
    {
     "data": {
      "image/png": "[encoded data removed]",
      "text/plain": [
       "<Figure size 640x480 with 1 Axes>"
      ]
     },
     "metadata": {},
     "output_type": "display_data"
    }
   ],
   "source": [
    "dataset_task = [bert_dic_task, gpt_dic_task, roberta_dic_task, codegpt_dic_task, codebert_dic_task]\n",
    "\n",
    "counts = [count_data(data) for data in dataset_task]\n",
    "plot_multi_count(counts, data_labels, 'task')"
   ]
  },
  {
   "cell_type": "markdown",
   "id": "513a15cd-773c-4e79-a095-c1440995f085",
   "metadata": {},
   "source": [
    "## Saving/Loading data from the pickle files"
   ]
  },
  {
   "cell_type": "code",
   "execution_count": 14,
   "id": "25cfc274-667d-4469-ada7-ea66036b1281",
   "metadata": {},
   "outputs": [],
   "source": [
    "import pickle\n",
    "for i in range(len(data_labels)):\n",
    "    with open('out/lang_'+data_labels[i]+'.pkl', 'wb') as fp:\n",
    "        pickle.dump(dataset_lang[i], fp)\n",
    "    with open('out/task_'+data_labels[i]+'.pkl', 'wb') as fp:\n",
    "        pickle.dump(dataset_task[i], fp)"
   ]
  },
  {
   "cell_type": "code",
   "execution_count": 15,
   "id": "7e9be20e-57e3-4639-8b9d-7638f7aa31e2",
   "metadata": {},
   "outputs": [],
   "source": [
    "import pickle\n",
    "\n",
    "bert_dic_lang, gpt_dic_lang, roberta_dic_lang, codegpt_dic_lang, codebert_dic_lang = {}, {}, {}, {}, {}\n",
    "bert_dic_task, gpt_dic_task, roberta_dic_task, codegpt_dic_task, codebert_dic_task  = {}, {}, {}, {}, {}\n",
    "dataset_lang = [bert_dic_lang, gpt_dic_lang, roberta_dic_lang, codegpt_dic_lang, codebert_dic_lang]\n",
    "dataset_task = [bert_dic_task, gpt_dic_task, roberta_dic_task, codegpt_dic_task, codebert_dic_task]\n",
    "data_labels = ['BERT', 'GPT2' , 'RoBERTa' , 'CodeGPT' , 'CodeBERT']\n",
    "for i in range(len(data_labels)):\n",
    "    with open('out/lang_'+data_labels[i]+'.pkl', 'rb') as handle:\n",
    "        dataset_lang[i] = pickle.load(handle)\n",
    "    with open('out/task_'+data_labels[i]+'.pkl', 'rb') as handle:\n",
    "        dataset_task[i] = pickle.load(handle)"
   ]
  },
  {
   "cell_type": "markdown",
   "id": "248947e2-5dc3-4772-9a01-ed41a0202fd2",
   "metadata": {},
   "source": [
    "## Two-Sample test"
   ]
  },
  {
   "cell_type": "code",
   "execution_count": 17,
   "id": "93814de6-7dcb-4cdd-a4fd-888b0d32ea2c",
   "metadata": {},
   "outputs": [
    {
     "name": "stdout",
     "output_type": "stream",
     "text": [
      "Model:BERT, Language statistic: 0.8396320343017578, Task statistic: 0.9306209087371826 \n",
      "Model:GPT2, Language statistic: 0.7213586568832397, Task statistic: 0.8225851058959961 \n",
      "Model:RoBERTa, Language statistic: 0.8203132152557373, Task statistic: 0.914322018623352 \n",
      "Model:CodeGPT, Language statistic: 0.8695927858352661, Task statistic: 0.9345391988754272 \n",
      "Model:CodeBERT, Language statistic: 0.8148975372314453, Task statistic: 0.879680871963501 \n"
     ]
    }
   ],
   "source": [
    "from scipy import stats\n",
    "import numpy as np\n",
    "\n",
    "data_labels = ['BERT', 'GPT2' ,'RoBERTa' , 'CodeGPT' , 'CodeBERT']\n",
    "\n",
    "for i in range(len(data_labels)):\n",
    "    model = data_labels[i]\n",
    "    # Filter the dataset for the two species we want to compare:\n",
    "    language_acc = np.array(list(dataset_lang[i].values()))\n",
    "    task_acc = np.array(list(dataset_task[i].values()))\n",
    "\n",
    "    res_lang = stats.shapiro(language_acc)\n",
    "    res_task = stats.shapiro(task_acc)\n",
    "    print('Model:{}, Language statistic: {}, Task statistic: {} '.format(model, res_lang.statistic, res_task.statistic))"
   ]
  },
  {
   "cell_type": "code",
   "execution_count": 18,
   "id": "abf4aa30-720e-465e-a73c-2c2ac13459e2",
   "metadata": {},
   "outputs": [
    {
     "name": "stdout",
     "output_type": "stream",
     "text": [
      "BERT t_stat 5.8051974273846545 p_value 8.498430593906946e-09\n",
      ": Reject the null hypothesis; there is a significant difference between the accuracy distribution of PL and PT\n",
      "GPT2 t_stat 8.345778797928268 p_value 2.196980488180567e-16\n",
      ": Reject the null hypothesis; there is a significant difference between the accuracy distribution of PL and PT\n",
      "RoBERTa t_stat 8.36394904227269 p_value 1.9016338541967634e-16\n",
      ": Reject the null hypothesis; there is a significant difference between the accuracy distribution of PL and PT\n",
      "CodeGPT t_stat 9.284854550587255 p_value 8.950741725264139e-20\n",
      ": Reject the null hypothesis; there is a significant difference between the accuracy distribution of PL and PT\n",
      "CodeBERT t_stat 9.315616428126381 p_value 6.850605853949738e-20\n",
      ": Reject the null hypothesis; there is a significant difference between the accuracy distribution of PL and PT\n"
     ]
    }
   ],
   "source": [
    "import seaborn as sns\n",
    "from scipy import stats\n",
    "import numpy as np\n",
    "\n",
    "data_labels = ['BERT', 'GPT2', 'RoBERTa' , 'CodeGPT' , 'CodeBERT' ]\n",
    "\n",
    "for i in range(len(data_labels)):\n",
    "    model = data_labels[i]\n",
    "    # Filter the dataset for the two species we want to compare:\n",
    "    language_acc = np.array(list(dataset_lang[i].values()))\n",
    "    task_acc = np.array(list(dataset_task[i].values()))\n",
    "    \n",
    "    ## Perform the t-test:\n",
    "    t_stat, p_value = stats.ttest_ind(language_acc, task_acc)\n",
    "    print(model, 't_stat', t_stat, 'p_value', p_value)\n",
    "    \n",
    "    # Interpret the results:\n",
    "    alpha = 0.05\n",
    "    if p_value < alpha:\n",
    "        print(\": Reject the null hypothesis; there is a significant difference between the accuracy distribution of PL and PT\")\n",
    "    else:\n",
    "        print(\": Fail to reject the null hypothesis; there is no significant difference between the accuracy distribution of PL and PT\")"
   ]
  },
  {
   "cell_type": "code",
   "execution_count": null,
   "id": "58b021a7-2b9f-4e42-8b2e-33b3c2ac458d",
   "metadata": {},
   "outputs": [],
   "source": []
  }
 ],
 "metadata": {
  "kernelspec": {
   "display_name": "Python 3 (ipykernel)",
   "language": "python",
   "name": "python3"
  },
  "language_info": {
   "codemirror_mode": {
    "name": "ipython",
    "version": 3
   },
   "file_extension": ".py",
   "mimetype": "text/x-python",
   "name": "python",
   "nbconvert_exporter": "python",
   "pygments_lexer": "ipython3",
   "version": "3.8.10"
  }
 },
 "nbformat": 4,
 "nbformat_minor": 5
}
