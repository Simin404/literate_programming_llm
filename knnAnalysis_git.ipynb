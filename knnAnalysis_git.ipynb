{
 "cells": [
  {
   "cell_type": "code",
   "execution_count": 1,
   "metadata": {
    "colab": {
     "base_uri": "https://localhost:8080/"
    },
    "executionInfo": {
     "elapsed": 4221,
     "status": "ok",
     "timestamp": 1708167119526,
     "user": {
      "displayName": "Simin Sun",
      "userId": "04105675808800793231"
     },
     "user_tz": -60
    },
    "id": "I721MUnN3OIF",
    "outputId": "1e8647f8-be92-46b3-b886-4f0f16885636"
   },
   "outputs": [],
   "source": [
    "import torch\n",
    "from clustering import KNN\n",
    "import pandas as pd\n",
    "\n",
    "#load data from file\n",
    "train_df=pd.read_csv(\"data/train.csv\")\n",
    "test_df=pd.read_csv(\"data/test.csv\")\n",
    "\n",
    "## load the embeddings from saved file\n",
    "gpt_train_emb = torch.load('out/gpt_30379.pt', map_location=\"cpu\")\n",
    "gpt_test_emb = torch.load('out/gpt_17723.pt', map_location=\"cpu\")\n",
    "\n",
    "bert_train_emb = torch.load('out/bert_30379.pt', map_location=\"cpu\")\n",
    "bert_test_emb = torch.load('out/bert_17723.pt', map_location=\"cpu\")\n",
    "\n",
    "codebert_train_emb = torch.load('out/codebert_30379.pt', map_location=\"cpu\")\n",
    "codebert_test_emb = torch.load('out/codebert_17723.pt', map_location=\"cpu\")\n",
    "\n",
    "roberta_train_emb = torch.load('out/roberta_30379.pt', map_location=\"cpu\")\n",
    "roberta_test_emb = torch.load('out/roberta_17723.pt', map_location=\"cpu\")\n"
   ]
  },
  {
   "cell_type": "code",
   "execution_count": 2,
   "metadata": {},
   "outputs": [
    {
     "name": "stdout",
     "output_type": "stream",
     "text": [
      "tensor([ 8,  8,  8,  ..., 18, 89, 60])\n",
      "30379 17723 30379 17723\n"
     ]
    }
   ],
   "source": [
    "train_label_lang = train_df['language']\n",
    "test_label_lang = test_df['language']\n",
    "lang_dict = dict(zip(test_label_lang.unique(), [i for i in range(len(test_label_lang.unique()))]))\n",
    "\n",
    "train_y_lang = train_label_lang.map(lang_dict)\n",
    "test_y_lang = test_label_lang.map(lang_dict)\n",
    "train_y_lang = torch.tensor(train_y_lang)\n",
    "test_y_lang = torch.tensor(test_y_lang)\n",
    "\n",
    "print(train_y_lang)\n",
    "print(len(train_df), len(test_df), len(train_y_lang), len(test_y_lang))"
   ]
  },
  {
   "cell_type": "code",
   "execution_count": 3,
   "metadata": {},
   "outputs": [
    {
     "name": "stdout",
     "output_type": "stream",
     "text": [
      "tensor([141, 141, 141,  ..., 741, 196, 196])\n",
      "30379 17723 30379 17723\n"
     ]
    }
   ],
   "source": [
    "train_label_task = train_df['task']\n",
    "test_label_task = test_df['task']\n",
    "task_dict = dict(zip(test_label_task.unique(), [i for i in range(len(test_label_task.unique()))]))\n",
    "\n",
    "\n",
    "train_y_task = train_label_task.map(task_dict)\n",
    "test_y_task = test_label_task.map(task_dict)\n",
    "train_y_task = torch.tensor(train_y_task)\n",
    "test_y_task = torch.tensor(test_y_task)\n",
    "\n",
    "print(train_y_task)\n",
    "print(len(train_df), len(test_df), len(train_y_task), len(test_y_task))"
   ]
  },
  {
   "cell_type": "code",
   "execution_count": 4,
   "metadata": {},
   "outputs": [],
   "source": [
    "knn_gpt_lang = KNN(gpt_train_emb, train_y_lang)\n",
    "knn_gpt_task = KNN(gpt_train_emb, train_y_task)\n",
    "\n",
    "knn_bert_lang = KNN(bert_train_emb, train_y_lang)\n",
    "knn_bert_task = KNN(bert_train_emb, train_y_task)\n",
    "\n",
    "knn_codebert_lang = KNN(codebert_train_emb, train_y_lang)\n",
    "knn_codebert_task = KNN(codebert_train_emb, train_y_task)\n",
    "\n",
    "knn_roberta_lang = KNN(roberta_train_emb, train_y_lang)\n",
    "knn_roberta_task = KNN(roberta_train_emb, train_y_task)"
   ]
  },
  {
   "cell_type": "code",
   "execution_count": 5,
   "metadata": {},
   "outputs": [],
   "source": [
    "from prediction import predict"
   ]
  },
  {
   "cell_type": "code",
   "execution_count": 6,
   "metadata": {},
   "outputs": [
    {
     "data": {
      "text/plain": [
       "<module 'prediction' from '/Users/siminsu/Documents/Project/codeLang/prediction.py'>"
      ]
     },
     "execution_count": 6,
     "metadata": {},
     "output_type": "execute_result"
    }
   ],
   "source": [
    "import prediction\n",
    "import importlib \n",
    "importlib.reload(prediction)"
   ]
  },
  {
   "cell_type": "code",
   "execution_count": 7,
   "metadata": {},
   "outputs": [
    {
     "data": {
      "text/plain": [
       "torch.Size([17723, 768])"
      ]
     },
     "execution_count": 7,
     "metadata": {},
     "output_type": "execute_result"
    }
   ],
   "source": [
    "gpt_test_emb.shape"
   ]
  },
  {
   "cell_type": "code",
   "execution_count": 8,
   "metadata": {},
   "outputs": [
    {
     "name": "stdout",
     "output_type": "stream",
     "text": [
      "Time elapsed: 0.25 seconds, Data predicted:0\n",
      "Time elapsed: 10.76 seconds, Data predicted:1000\n",
      "Time elapsed: 10.72 seconds, Data predicted:2000\n",
      "Time elapsed: 10.69 seconds, Data predicted:3000\n",
      "Time elapsed: 10.69 seconds, Data predicted:4000\n",
      "Time elapsed: 10.63 seconds, Data predicted:5000\n",
      "Time elapsed: 10.81 seconds, Data predicted:6000\n",
      "Time elapsed: 10.58 seconds, Data predicted:7000\n",
      "Time elapsed: 10.68 seconds, Data predicted:8000\n",
      "Time elapsed: 10.61 seconds, Data predicted:9000\n",
      "Time elapsed: 10.57 seconds, Data predicted:10000\n",
      "Time elapsed: 10.67 seconds, Data predicted:11000\n",
      "Time elapsed: 10.66 seconds, Data predicted:12000\n",
      "Time elapsed: 10.64 seconds, Data predicted:13000\n",
      "Time elapsed: 10.65 seconds, Data predicted:14000\n",
      "Time elapsed: 10.64 seconds, Data predicted:15000\n",
      "Time elapsed: 10.61 seconds, Data predicted:16000\n",
      "Time elapsed: 10.67 seconds, Data predicted:17000\n",
      "Accuracy of Language prediction:  39.07%\n",
      "Accuracy of Language prediction:  6.62%\n"
     ]
    }
   ],
   "source": [
    "predict(gpt_test_emb, knn_gpt_lang, knn_gpt_task, test_y_lang, test_y_task) "
   ]
  },
  {
   "cell_type": "code",
   "execution_count": 9,
   "metadata": {},
   "outputs": [
    {
     "name": "stdout",
     "output_type": "stream",
     "text": [
      "Time elapsed: 0.10 seconds, Data predicted:0\n",
      "Time elapsed: 10.55 seconds, Data predicted:1000\n",
      "Time elapsed: 10.59 seconds, Data predicted:2000\n",
      "Time elapsed: 10.67 seconds, Data predicted:3000\n",
      "Time elapsed: 10.56 seconds, Data predicted:4000\n",
      "Time elapsed: 11.17 seconds, Data predicted:5000\n",
      "Time elapsed: 10.69 seconds, Data predicted:6000\n",
      "Time elapsed: 10.97 seconds, Data predicted:7000\n",
      "Time elapsed: 11.13 seconds, Data predicted:8000\n",
      "Time elapsed: 11.19 seconds, Data predicted:9000\n",
      "Time elapsed: 10.98 seconds, Data predicted:10000\n",
      "Time elapsed: 10.91 seconds, Data predicted:11000\n",
      "Time elapsed: 10.56 seconds, Data predicted:12000\n",
      "Time elapsed: 10.60 seconds, Data predicted:13000\n",
      "Time elapsed: 10.54 seconds, Data predicted:14000\n",
      "Time elapsed: 10.57 seconds, Data predicted:15000\n",
      "Time elapsed: 10.55 seconds, Data predicted:16000\n",
      "Time elapsed: 12.39 seconds, Data predicted:17000\n",
      "Accuracy of Language prediction:  52.19%\n",
      "Accuracy of Language prediction:  16.59%\n"
     ]
    }
   ],
   "source": [
    "predict(bert_test_emb, knn_bert_lang, knn_bert_task, test_y_lang, test_y_task)"
   ]
  },
  {
   "cell_type": "code",
   "execution_count": 10,
   "metadata": {},
   "outputs": [
    {
     "name": "stdout",
     "output_type": "stream",
     "text": [
      "Time elapsed: 0.15 seconds, Data predicted:0\n",
      "Time elapsed: 11.59 seconds, Data predicted:1000\n",
      "Time elapsed: 11.49 seconds, Data predicted:2000\n",
      "Time elapsed: 11.57 seconds, Data predicted:3000\n",
      "Time elapsed: 11.73 seconds, Data predicted:4000\n",
      "Time elapsed: 11.60 seconds, Data predicted:5000\n",
      "Time elapsed: 11.70 seconds, Data predicted:6000\n",
      "Time elapsed: 11.75 seconds, Data predicted:7000\n",
      "Time elapsed: 11.41 seconds, Data predicted:8000\n",
      "Time elapsed: 11.58 seconds, Data predicted:9000\n",
      "Time elapsed: 12.03 seconds, Data predicted:10000\n",
      "Time elapsed: 11.46 seconds, Data predicted:11000\n",
      "Time elapsed: 10.83 seconds, Data predicted:12000\n",
      "Time elapsed: 10.42 seconds, Data predicted:13000\n",
      "Time elapsed: 10.33 seconds, Data predicted:14000\n",
      "Time elapsed: 10.31 seconds, Data predicted:15000\n",
      "Time elapsed: 10.33 seconds, Data predicted:16000\n",
      "Time elapsed: 10.25 seconds, Data predicted:17000\n",
      "Accuracy of Language prediction:  49.26%\n",
      "Accuracy of Language prediction:  10.02%\n"
     ]
    }
   ],
   "source": [
    "predict(codebert_test_emb, knn_codebert_lang, knn_codebert_task, test_y_lang, test_y_task)"
   ]
  },
  {
   "cell_type": "code",
   "execution_count": 11,
   "metadata": {},
   "outputs": [
    {
     "name": "stdout",
     "output_type": "stream",
     "text": [
      "Time elapsed: 0.12 seconds, Data predicted:0\n",
      "Time elapsed: 10.32 seconds, Data predicted:1000\n",
      "Time elapsed: 10.30 seconds, Data predicted:2000\n",
      "Time elapsed: 10.51 seconds, Data predicted:3000\n",
      "Time elapsed: 10.31 seconds, Data predicted:4000\n",
      "Time elapsed: 10.35 seconds, Data predicted:5000\n",
      "Time elapsed: 10.43 seconds, Data predicted:6000\n",
      "Time elapsed: 10.23 seconds, Data predicted:7000\n",
      "Time elapsed: 10.33 seconds, Data predicted:8000\n",
      "Time elapsed: 10.39 seconds, Data predicted:9000\n",
      "Time elapsed: 10.15 seconds, Data predicted:10000\n",
      "Time elapsed: 10.26 seconds, Data predicted:11000\n",
      "Time elapsed: 10.21 seconds, Data predicted:12000\n",
      "Time elapsed: 10.36 seconds, Data predicted:13000\n",
      "Time elapsed: 10.35 seconds, Data predicted:14000\n",
      "Time elapsed: 10.33 seconds, Data predicted:15000\n",
      "Time elapsed: 10.37 seconds, Data predicted:16000\n",
      "Time elapsed: 10.37 seconds, Data predicted:17000\n",
      "Accuracy of Language prediction:  1.34%\n",
      "Accuracy of Language prediction:  0.11%\n"
     ]
    }
   ],
   "source": [
    "predict(roberta_test_emb, knn_roberta_lang, knn_roberta_task, test_y_lang, test_y_task)"
   ]
  },
  {
   "cell_type": "markdown",
   "metadata": {},
   "source": [
    "# part data on CodeBERT"
   ]
  },
  {
   "cell_type": "code",
   "execution_count": 28,
   "metadata": {},
   "outputs": [
    {
     "name": "stdout",
     "output_type": "stream",
     "text": [
      "3852 1924\n"
     ]
    }
   ],
   "source": [
    "languages = ['Go','Java','JavaScript','PHP','Python','Ruby']\n",
    "indices_train = train_df.index[train_df['language'].isin(languages)].tolist()\n",
    "indices_test = test_df.index[test_df['language'].isin(languages)].tolist()\n",
    "print(len(indices_train), len(indices_test))"
   ]
  },
  {
   "cell_type": "code",
   "execution_count": 29,
   "metadata": {},
   "outputs": [],
   "source": [
    "codebert_train_emb_sub = torch.index_select(codebert_train_emb, 0, torch.tensor(indices_train))\n",
    "train_y_task_sub = torch.index_select(train_y_task, 0, torch.tensor(indices_train))\n",
    "train_y_lang_sub = torch.index_select(train_y_lang, 0, torch.tensor(indices_train))\n",
    "\n",
    "codebert_test_emb_sub = torch.index_select(codebert_test_emb, 0, torch.tensor(indices_test))\n",
    "test_y_task_sub = torch.index_select(test_y_task, 0, torch.tensor(indices_test))\n",
    "test_y_lang_sub = torch.index_select(test_y_lang, 0, torch.tensor(indices_test))"
   ]
  },
  {
   "cell_type": "code",
   "execution_count": 30,
   "metadata": {},
   "outputs": [
    {
     "name": "stdout",
     "output_type": "stream",
     "text": [
      "Time elapsed: 0.06 seconds, Data predicted:0\n",
      "Time elapsed: 2.09 seconds, Data predicted:1000\n",
      "Accuracy of Language prediction:  88.41%\n",
      "Accuracy of Language prediction:  11.33%\n"
     ]
    }
   ],
   "source": [
    "knn_codebert_lang_sub = KNN(codebert_train_emb_sub, train_y_lang_sub)\n",
    "knn_codebert_task_sub = KNN(codebert_train_emb_sub, train_y_task_sub)\n",
    "\n",
    "predict(codebert_test_emb_sub, knn_codebert_lang_sub, knn_codebert_task_sub, test_y_lang_sub, test_y_task_sub)"
   ]
  },
  {
   "cell_type": "code",
   "execution_count": null,
   "metadata": {},
   "outputs": [],
   "source": []
  }
 ],
 "metadata": {
  "colab": {
   "collapsed_sections": [
    "sHnwQ_I2qM5y"
   ],
   "provenance": []
  },
  "kernelspec": {
   "display_name": "Python 3 (ipykernel)",
   "language": "python",
   "name": "python3"
  },
  "language_info": {
   "codemirror_mode": {
    "name": "ipython",
    "version": 3
   },
   "file_extension": ".py",
   "mimetype": "text/x-python",
   "name": "python",
   "nbconvert_exporter": "python",
   "pygments_lexer": "ipython3",
   "version": "3.9.18"
  }
 },
 "nbformat": 4,
 "nbformat_minor": 4
}
